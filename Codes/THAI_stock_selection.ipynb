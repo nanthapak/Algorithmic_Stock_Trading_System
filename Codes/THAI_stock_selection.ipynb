{
 "cells": [
  {
   "cell_type": "code",
   "execution_count": 10,
   "id": "79a6dbf7",
   "metadata": {},
   "outputs": [],
   "source": [
    "import yfinance as yf"
   ]
  },
  {
   "cell_type": "code",
   "execution_count": 52,
   "id": "8714122d",
   "metadata": {},
   "outputs": [],
   "source": [
    "stock_list=['CPALL','JASIF','BDMS','SCC','MINT','PTT','TKN','SIRI','KBANK','HANA','BBL','FORTH','ANAN','BTS','MALEE']"
   ]
  },
  {
   "cell_type": "code",
   "execution_count": 53,
   "id": "0c83e1ff",
   "metadata": {},
   "outputs": [],
   "source": [
    "ticker_list=[]\n",
    "for i,value in enumerate(stock_list):\n",
    "    ticker_list.append(stock_list[i]+'.BK')"
   ]
  },
  {
   "cell_type": "code",
   "execution_count": 54,
   "id": "beba5502",
   "metadata": {},
   "outputs": [],
   "source": [
    "stock_list_train=[]\n",
    "for i in stock_list:\n",
    "    i=i+'_train'\n",
    "    stock_list_train.append(i)"
   ]
  },
  {
   "cell_type": "code",
   "execution_count": 55,
   "id": "0af36986",
   "metadata": {},
   "outputs": [],
   "source": [
    "stock_list_test=[]\n",
    "for i in stock_list:\n",
    "    i=i+'_test'\n",
    "    stock_list_test.append(i)"
   ]
  },
  {
   "cell_type": "code",
   "execution_count": 56,
   "id": "fea4d535",
   "metadata": {},
   "outputs": [
    {
     "name": "stdout",
     "output_type": "stream",
     "text": [
      "[*********************100%***********************]  1 of 1 completed\n",
      "[*********************100%***********************]  1 of 1 completed\n",
      "[*********************100%***********************]  1 of 1 completed\n",
      "[*********************100%***********************]  1 of 1 completed\n",
      "[*********************100%***********************]  1 of 1 completed\n",
      "[*********************100%***********************]  1 of 1 completed\n",
      "[*********************100%***********************]  1 of 1 completed\n",
      "[*********************100%***********************]  1 of 1 completed\n",
      "[*********************100%***********************]  1 of 1 completed\n",
      "[*********************100%***********************]  1 of 1 completed\n",
      "[*********************100%***********************]  1 of 1 completed\n",
      "[*********************100%***********************]  1 of 1 completed\n",
      "[*********************100%***********************]  1 of 1 completed\n",
      "[*********************100%***********************]  1 of 1 completed\n",
      "[*********************100%***********************]  1 of 1 completed\n"
     ]
    }
   ],
   "source": [
    "start_date = '2017-12-31'\n",
    "end_date = '2022-01-01'\n",
    "for i,value in enumerate(ticker_list):\n",
    "    locals()[stock_list[i]+'_train'] = yf.download(value, start_date, end_date)"
   ]
  },
  {
   "cell_type": "code",
   "execution_count": 57,
   "id": "5b47df80",
   "metadata": {},
   "outputs": [
    {
     "name": "stdout",
     "output_type": "stream",
     "text": [
      "[*********************100%***********************]  1 of 1 completed\n",
      "[*********************100%***********************]  1 of 1 completed\n",
      "[*********************100%***********************]  1 of 1 completed\n",
      "[*********************100%***********************]  1 of 1 completed\n",
      "[*********************100%***********************]  1 of 1 completed\n",
      "[*********************100%***********************]  1 of 1 completed\n",
      "[*********************100%***********************]  1 of 1 completed\n",
      "[*********************100%***********************]  1 of 1 completed\n",
      "[*********************100%***********************]  1 of 1 completed\n",
      "[*********************100%***********************]  1 of 1 completed\n",
      "[*********************100%***********************]  1 of 1 completed\n",
      "[*********************100%***********************]  1 of 1 completed\n",
      "[*********************100%***********************]  1 of 1 completed\n",
      "[*********************100%***********************]  1 of 1 completed\n",
      "[*********************100%***********************]  1 of 1 completed\n"
     ]
    }
   ],
   "source": [
    "start_date = '2022-01-01'\n",
    "end_date = '2022-11-27'\n",
    "for i,value in enumerate(ticker_list):\n",
    "    locals()[stock_list[i]+'_test'] = yf.download(value, start_date, end_date)"
   ]
  },
  {
   "cell_type": "code",
   "execution_count": 58,
   "id": "826d0fc8",
   "metadata": {},
   "outputs": [],
   "source": [
    "l_return_train=[]\n",
    "for i in range(len(stock_list)):\n",
    "    a=globals()[stock_list_train[i]]\n",
    "    b=a['Close'][972]-a['Open'][0]\n",
    "    l_return_train.append(b)"
   ]
  },
  {
   "cell_type": "code",
   "execution_count": 59,
   "id": "2f8ba29f",
   "metadata": {},
   "outputs": [],
   "source": [
    "l_return_test=[]\n",
    "for i in range(len(stock_list)):\n",
    "    a=globals()[stock_list_test[i]]\n",
    "    b=a['Close'][217]-a['Open'][0]\n",
    "    l_return_test.append(b)"
   ]
  },
  {
   "cell_type": "code",
   "execution_count": 60,
   "id": "f29dd781",
   "metadata": {},
   "outputs": [
    {
     "data": {
      "text/plain": [
       "[-18.0,\n",
       " -1.8999996185302734,\n",
       " 2.1000003814697266,\n",
       " -102.0,\n",
       " -15.5,\n",
       " -6.200000762939453,\n",
       " -13.199999809265137,\n",
       " -0.9700000286102295,\n",
       " -92.0,\n",
       " 44.25,\n",
       " -80.5,\n",
       " 14.050000667572021,\n",
       " -4.21999990940094,\n",
       " 1.0500001907348633,\n",
       " -31.90000009536743]"
      ]
     },
     "execution_count": 60,
     "metadata": {},
     "output_type": "execute_result"
    }
   ],
   "source": [
    "l_return_train"
   ]
  },
  {
   "cell_type": "code",
   "execution_count": 61,
   "id": "e0fb7109",
   "metadata": {},
   "outputs": [
    {
     "data": {
      "text/plain": [
       "[3.75,\n",
       " -2.1999998092651367,\n",
       " 6.0,\n",
       " -51.0,\n",
       " 1.0,\n",
       " -4.5,\n",
       " 4.100000381469727,\n",
       " 0.21000003814697266,\n",
       " 0.5,\n",
       " -38.25,\n",
       " 22.5,\n",
       " 13.850000381469727,\n",
       " -0.2999999523162842,\n",
       " -1.3000001907348633,\n",
       " -0.75]"
      ]
     },
     "execution_count": 61,
     "metadata": {},
     "output_type": "execute_result"
    }
   ],
   "source": [
    "l_return_test"
   ]
  },
  {
   "cell_type": "code",
   "execution_count": 62,
   "id": "f8c2f7ed",
   "metadata": {},
   "outputs": [],
   "source": [
    "l_trend_between_train_test=[]\n",
    "for i in range(len(stock_list)):\n",
    "    if l_return_train[i]>0 and l_return_test[i]>0:\n",
    "        l_trend_between_train_test.append('same-positive-trend')\n",
    "    elif l_return_train[i]<0 and l_return_test[i]<0:\n",
    "        l_trend_between_train_test.append('same-negative-trend')\n",
    "    elif l_return_train[i]>0 and l_return_test[i]<0:\n",
    "        l_trend_between_train_test.append('difference-positve-negative-trend')\n",
    "    elif l_return_train[i]<0 and l_return_test[i]>0:\n",
    "        l_trend_between_train_test.append('difference-negative-positive-trend')\n",
    "    else:\n",
    "        l_trend_between_train_test.append('something error')"
   ]
  },
  {
   "cell_type": "code",
   "execution_count": 63,
   "id": "63133b84",
   "metadata": {},
   "outputs": [
    {
     "data": {
      "text/plain": [
       "[-18.0,\n",
       " -1.8999996185302734,\n",
       " 2.1000003814697266,\n",
       " -102.0,\n",
       " -15.5,\n",
       " -6.200000762939453,\n",
       " -13.199999809265137,\n",
       " -0.9700000286102295,\n",
       " -92.0,\n",
       " 44.25,\n",
       " -80.5,\n",
       " 14.050000667572021,\n",
       " -4.21999990940094,\n",
       " 1.0500001907348633,\n",
       " -31.90000009536743]"
      ]
     },
     "execution_count": 63,
     "metadata": {},
     "output_type": "execute_result"
    }
   ],
   "source": [
    "l_return_train"
   ]
  },
  {
   "cell_type": "code",
   "execution_count": 64,
   "id": "5f496576",
   "metadata": {},
   "outputs": [
    {
     "data": {
      "text/plain": [
       "[3.75,\n",
       " -2.1999998092651367,\n",
       " 6.0,\n",
       " -51.0,\n",
       " 1.0,\n",
       " -4.5,\n",
       " 4.100000381469727,\n",
       " 0.21000003814697266,\n",
       " 0.5,\n",
       " -38.25,\n",
       " 22.5,\n",
       " 13.850000381469727,\n",
       " -0.2999999523162842,\n",
       " -1.3000001907348633,\n",
       " -0.75]"
      ]
     },
     "execution_count": 64,
     "metadata": {},
     "output_type": "execute_result"
    }
   ],
   "source": [
    "l_return_test"
   ]
  },
  {
   "cell_type": "code",
   "execution_count": 65,
   "id": "5b716c0c",
   "metadata": {},
   "outputs": [
    {
     "data": {
      "text/plain": [
       "['difference-negative-positive-trend',\n",
       " 'same-negative-trend',\n",
       " 'same-positive-trend',\n",
       " 'same-negative-trend',\n",
       " 'difference-negative-positive-trend',\n",
       " 'same-negative-trend',\n",
       " 'difference-negative-positive-trend',\n",
       " 'difference-negative-positive-trend',\n",
       " 'difference-negative-positive-trend',\n",
       " 'difference-positve-negative-trend',\n",
       " 'difference-negative-positive-trend',\n",
       " 'same-positive-trend',\n",
       " 'same-negative-trend',\n",
       " 'difference-positve-negative-trend',\n",
       " 'same-negative-trend']"
      ]
     },
     "execution_count": 65,
     "metadata": {},
     "output_type": "execute_result"
    }
   ],
   "source": [
    "l_trend_between_train_test"
   ]
  }
 ],
 "metadata": {
  "kernelspec": {
   "display_name": "Python 3 (ipykernel)",
   "language": "python",
   "name": "python3"
  },
  "language_info": {
   "codemirror_mode": {
    "name": "ipython",
    "version": 3
   },
   "file_extension": ".py",
   "mimetype": "text/x-python",
   "name": "python",
   "nbconvert_exporter": "python",
   "pygments_lexer": "ipython3",
   "version": "3.9.12"
  },
  "varInspector": {
   "cols": {
    "lenName": 16,
    "lenType": 16,
    "lenVar": 40
   },
   "kernels_config": {
    "python": {
     "delete_cmd_postfix": "",
     "delete_cmd_prefix": "del ",
     "library": "var_list.py",
     "varRefreshCmd": "print(var_dic_list())"
    },
    "r": {
     "delete_cmd_postfix": ") ",
     "delete_cmd_prefix": "rm(",
     "library": "var_list.r",
     "varRefreshCmd": "cat(var_dic_list()) "
    }
   },
   "types_to_exclude": [
    "module",
    "function",
    "builtin_function_or_method",
    "instance",
    "_Feature"
   ],
   "window_display": false
  }
 },
 "nbformat": 4,
 "nbformat_minor": 5
}
