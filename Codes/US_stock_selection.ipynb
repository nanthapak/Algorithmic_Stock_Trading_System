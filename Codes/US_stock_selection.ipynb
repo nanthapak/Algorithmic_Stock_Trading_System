{
 "cells": [
  {
   "cell_type": "code",
   "execution_count": 2,
   "id": "79a6dbf7",
   "metadata": {},
   "outputs": [],
   "source": [
    "import yfinance as yf"
   ]
  },
  {
   "cell_type": "code",
   "execution_count": 3,
   "id": "8714122d",
   "metadata": {},
   "outputs": [],
   "source": [
    "stock_list=['OXY','XOM','AAPL','TSLA','AMZN','AMP','COP','NFLX','GOOG','PXD','MSFT','META','TROW','PEP','WMT']"
   ]
  },
  {
   "cell_type": "code",
   "execution_count": 4,
   "id": "0c83e1ff",
   "metadata": {},
   "outputs": [],
   "source": [
    "ticker_list=stock_list"
   ]
  },
  {
   "cell_type": "code",
   "execution_count": 5,
   "id": "beba5502",
   "metadata": {},
   "outputs": [],
   "source": [
    "stock_list_train=[]\n",
    "for i in stock_list:\n",
    "    i=i+'_train'\n",
    "    stock_list_train.append(i)"
   ]
  },
  {
   "cell_type": "code",
   "execution_count": 6,
   "id": "0af36986",
   "metadata": {},
   "outputs": [],
   "source": [
    "stock_list_test=[]\n",
    "for i in stock_list:\n",
    "    i=i+'_test'\n",
    "    stock_list_test.append(i)"
   ]
  },
  {
   "cell_type": "code",
   "execution_count": 7,
   "id": "fea4d535",
   "metadata": {},
   "outputs": [
    {
     "name": "stdout",
     "output_type": "stream",
     "text": [
      "[*********************100%***********************]  1 of 1 completed\n",
      "[*********************100%***********************]  1 of 1 completed\n",
      "[*********************100%***********************]  1 of 1 completed\n",
      "[*********************100%***********************]  1 of 1 completed\n",
      "[*********************100%***********************]  1 of 1 completed\n",
      "[*********************100%***********************]  1 of 1 completed\n",
      "[*********************100%***********************]  1 of 1 completed\n",
      "[*********************100%***********************]  1 of 1 completed\n",
      "[*********************100%***********************]  1 of 1 completed\n",
      "[*********************100%***********************]  1 of 1 completed\n",
      "[*********************100%***********************]  1 of 1 completed\n",
      "[*********************100%***********************]  1 of 1 completed\n",
      "[*********************100%***********************]  1 of 1 completed\n",
      "[*********************100%***********************]  1 of 1 completed\n",
      "[*********************100%***********************]  1 of 1 completed\n"
     ]
    }
   ],
   "source": [
    "start_date = '2017-12-31'\n",
    "end_date = '2022-01-01'\n",
    "for i,value in enumerate(ticker_list):\n",
    "    locals()[stock_list[i]+'_train'] = yf.download(value, start_date, end_date)"
   ]
  },
  {
   "cell_type": "code",
   "execution_count": 8,
   "id": "5b47df80",
   "metadata": {},
   "outputs": [
    {
     "name": "stdout",
     "output_type": "stream",
     "text": [
      "[*********************100%***********************]  1 of 1 completed\n",
      "[*********************100%***********************]  1 of 1 completed\n",
      "[*********************100%***********************]  1 of 1 completed\n",
      "[*********************100%***********************]  1 of 1 completed\n",
      "[*********************100%***********************]  1 of 1 completed\n",
      "[*********************100%***********************]  1 of 1 completed\n",
      "[*********************100%***********************]  1 of 1 completed\n",
      "[*********************100%***********************]  1 of 1 completed\n",
      "[*********************100%***********************]  1 of 1 completed\n",
      "[*********************100%***********************]  1 of 1 completed\n",
      "[*********************100%***********************]  1 of 1 completed\n",
      "[*********************100%***********************]  1 of 1 completed\n",
      "[*********************100%***********************]  1 of 1 completed\n",
      "[*********************100%***********************]  1 of 1 completed\n",
      "[*********************100%***********************]  1 of 1 completed\n"
     ]
    }
   ],
   "source": [
    "start_date = '2022-01-01'\n",
    "end_date = '2022-11-27'\n",
    "for i,value in enumerate(ticker_list):\n",
    "    locals()[stock_list[i]+'_test'] = yf.download(value, start_date, end_date)"
   ]
  },
  {
   "cell_type": "code",
   "execution_count": 9,
   "id": "826d0fc8",
   "metadata": {},
   "outputs": [],
   "source": [
    "l_return_train=[]\n",
    "for i in range(len(stock_list)):\n",
    "    a=globals()[stock_list_train[i]]\n",
    "    b=a['Close'][972]-a['Open'][0]\n",
    "    l_return_train.append(b)"
   ]
  },
  {
   "cell_type": "code",
   "execution_count": 10,
   "id": "2f8ba29f",
   "metadata": {},
   "outputs": [],
   "source": [
    "l_return_test=[]\n",
    "for i in range(len(stock_list)):\n",
    "    a=globals()[stock_list_test[i]]\n",
    "    b=a['Close'][217]-a['Open'][0]\n",
    "    l_return_test.append(b)"
   ]
  },
  {
   "cell_type": "code",
   "execution_count": 11,
   "id": "f29dd781",
   "metadata": {},
   "outputs": [
    {
     "data": {
      "text/plain": [
       "[-42.19000244140625,\n",
       " -19.62999725341797,\n",
       " 105.37999725341797,\n",
       " 335.1833381652832,\n",
       " 115.50249481201172,\n",
       " 134.1899871826172,\n",
       " 17.90999984741211,\n",
       " 450.8099670410156,\n",
       " 94.2090072631836,\n",
       " 7.9799957275390625,\n",
       " 244.66999053955078,\n",
       " 149.96002197265625,\n",
       " 108.6199951171875,\n",
       " 44.10999298095703,\n",
       " 49.13999938964844]"
      ]
     },
     "execution_count": 11,
     "metadata": {},
     "output_type": "execute_result"
    }
   ],
   "source": [
    "l_return_train"
   ]
  },
  {
   "cell_type": "code",
   "execution_count": 12,
   "id": "e0fb7109",
   "metadata": {},
   "outputs": [
    {
     "data": {
      "text/plain": [
       "[41.65000343322754,\n",
       " 49.7599983215332,\n",
       " -31.220001220703125,\n",
       " -167.09332275390625,\n",
       " -72.32599639892578,\n",
       " 30.480010986328125,\n",
       " 57.65000915527344,\n",
       " -335.0400085449219,\n",
       " -51.37400817871094,\n",
       " 65.02999877929688,\n",
       " -95.53001403808594,\n",
       " -231.14998626708984,\n",
       " -73.37000274658203,\n",
       " 9.239990234375,\n",
       " -0.839996337890625]"
      ]
     },
     "execution_count": 12,
     "metadata": {},
     "output_type": "execute_result"
    }
   ],
   "source": [
    "l_return_test"
   ]
  },
  {
   "cell_type": "code",
   "execution_count": 13,
   "id": "f8c2f7ed",
   "metadata": {},
   "outputs": [],
   "source": [
    "l_trend_between_train_test=[]\n",
    "for i in range(len(stock_list)):\n",
    "    if l_return_train[i]>0 and l_return_test[i]>0:\n",
    "        l_trend_between_train_test.append('same-positive-trend')\n",
    "    elif l_return_train[i]<0 and l_return_test[i]<0:\n",
    "        l_trend_between_train_test.append('same-negative-trend')\n",
    "    elif l_return_train[i]>0 and l_return_test[i]<0:\n",
    "        l_trend_between_train_test.append('difference-positve-negative-trend')\n",
    "    elif l_return_train[i]<0 and l_return_test[i]>0:\n",
    "        l_trend_between_train_test.append('difference-negative-positive-trend')\n",
    "    else:\n",
    "        l_trend_between_train_test.append('something error')"
   ]
  },
  {
   "cell_type": "code",
   "execution_count": 14,
   "id": "63133b84",
   "metadata": {},
   "outputs": [
    {
     "data": {
      "text/plain": [
       "[-42.19000244140625,\n",
       " -19.62999725341797,\n",
       " 105.37999725341797,\n",
       " 335.1833381652832,\n",
       " 115.50249481201172,\n",
       " 134.1899871826172,\n",
       " 17.90999984741211,\n",
       " 450.8099670410156,\n",
       " 94.2090072631836,\n",
       " 7.9799957275390625,\n",
       " 244.66999053955078,\n",
       " 149.96002197265625,\n",
       " 108.6199951171875,\n",
       " 44.10999298095703,\n",
       " 49.13999938964844]"
      ]
     },
     "execution_count": 14,
     "metadata": {},
     "output_type": "execute_result"
    }
   ],
   "source": [
    "l_return_train"
   ]
  },
  {
   "cell_type": "code",
   "execution_count": 15,
   "id": "5f496576",
   "metadata": {},
   "outputs": [
    {
     "data": {
      "text/plain": [
       "[41.65000343322754,\n",
       " 49.7599983215332,\n",
       " -31.220001220703125,\n",
       " -167.09332275390625,\n",
       " -72.32599639892578,\n",
       " 30.480010986328125,\n",
       " 57.65000915527344,\n",
       " -335.0400085449219,\n",
       " -51.37400817871094,\n",
       " 65.02999877929688,\n",
       " -95.53001403808594,\n",
       " -231.14998626708984,\n",
       " -73.37000274658203,\n",
       " 9.239990234375,\n",
       " -0.839996337890625]"
      ]
     },
     "execution_count": 15,
     "metadata": {},
     "output_type": "execute_result"
    }
   ],
   "source": [
    "l_return_test"
   ]
  },
  {
   "cell_type": "code",
   "execution_count": 16,
   "id": "5b716c0c",
   "metadata": {},
   "outputs": [
    {
     "data": {
      "text/plain": [
       "['difference-negative-positive-trend',\n",
       " 'difference-negative-positive-trend',\n",
       " 'difference-positve-negative-trend',\n",
       " 'difference-positve-negative-trend',\n",
       " 'difference-positve-negative-trend',\n",
       " 'same-positive-trend',\n",
       " 'same-positive-trend',\n",
       " 'difference-positve-negative-trend',\n",
       " 'difference-positve-negative-trend',\n",
       " 'same-positive-trend',\n",
       " 'difference-positve-negative-trend',\n",
       " 'difference-positve-negative-trend',\n",
       " 'difference-positve-negative-trend',\n",
       " 'same-positive-trend',\n",
       " 'difference-positve-negative-trend']"
      ]
     },
     "execution_count": 16,
     "metadata": {},
     "output_type": "execute_result"
    }
   ],
   "source": [
    "l_trend_between_train_test"
   ]
  }
 ],
 "metadata": {
  "kernelspec": {
   "display_name": "Python 3 (ipykernel)",
   "language": "python",
   "name": "python3"
  },
  "language_info": {
   "codemirror_mode": {
    "name": "ipython",
    "version": 3
   },
   "file_extension": ".py",
   "mimetype": "text/x-python",
   "name": "python",
   "nbconvert_exporter": "python",
   "pygments_lexer": "ipython3",
   "version": "3.9.12"
  },
  "varInspector": {
   "cols": {
    "lenName": 16,
    "lenType": 16,
    "lenVar": 40
   },
   "kernels_config": {
    "python": {
     "delete_cmd_postfix": "",
     "delete_cmd_prefix": "del ",
     "library": "var_list.py",
     "varRefreshCmd": "print(var_dic_list())"
    },
    "r": {
     "delete_cmd_postfix": ") ",
     "delete_cmd_prefix": "rm(",
     "library": "var_list.r",
     "varRefreshCmd": "cat(var_dic_list()) "
    }
   },
   "types_to_exclude": [
    "module",
    "function",
    "builtin_function_or_method",
    "instance",
    "_Feature"
   ],
   "window_display": false
  }
 },
 "nbformat": 4,
 "nbformat_minor": 5
}
