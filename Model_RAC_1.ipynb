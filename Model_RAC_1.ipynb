{
 "cells": [
  {
   "cell_type": "code",
   "execution_count": 44,
   "metadata": {},
   "outputs": [],
   "source": [
    "import numpy as np\n",
    "import pandas as pd\n",
    "data = pd.read_csv(\"C:/Users/kkeaa/Downloads/Project-main/Project-main/CENTEL_1522_years.csv\")\n",
    "dt=data\n",
    "data.drop(data.columns[[0]],axis=1,inplace=True)\n",
    "window_size = int(len(data)/(8))\n",
    "splittrain = []\n",
    "splittest = []\n",
    "#15-19 18-22\n",
    "#slicing window\n",
    "for i in range(0, len(data)-4*window_size,window_size):\n",
    "   splittrain.append(data[i:i+4*window_size])\n",
    "   splittest.append(data[i+4*window_size:i+5*window_size])"
   ]
  },
  {
   "cell_type": "code",
   "execution_count": 45,
   "metadata": {},
   "outputs": [],
   "source": [
    "#weight\n",
    "from scipy.optimize import NonlinearConstraint, Bounds, LinearConstraint\n",
    "import sympy as sp\n",
    "w1=sp.symbols('w1')\n",
    "w2=sp.symbols('w2')\n",
    "w3=sp.symbols('w3')\n",
    "w4=sp.symbols('w4')\n",
    "w5=sp.symbols('w5')\n",
    "w6=sp.symbols('w6')\n",
    "w7=sp.symbols('w7')\n",
    "w8=sp.symbols('w8')\n",
    "w9=sp.symbols('w9')\n",
    "w10=sp.symbols('w10')\n",
    "td=sp.symbols('td')"
   ]
  },
  {
   "cell_type": "code",
   "execution_count": 46,
   "metadata": {},
   "outputs": [],
   "source": [
    "def const(p):\n",
    "    w1,w2,w3,w4,w5,w6,w7,w8,w9,w10 = p\n",
    "    return w1+w2+w3+w4+w5+w6+w7+w8+w9+w10\n",
    "nlc = NonlinearConstraint(const, 1 ,1)\n",
    "import numpy as np\n",
    "from scipy.optimize import differential_evolution\n",
    "from scipy.optimize import NonlinearConstraint, Bounds\n",
    "\n",
    "bounds = [[0, 1], [0, 1],[0, 1], [0, 1],[0, 1],[0, 1],[0, 1], [0, 1],[0, 1],[0,1]]"
   ]
  },
  {
   "cell_type": "code",
   "execution_count": 47,
   "metadata": {},
   "outputs": [],
   "source": [
    "from sklearn.cluster import KMeans\n",
    "import matplotlib.pyplot as plt\n",
    "distortions = []\n",
    "inertias = []\n",
    "labels = {}\n",
    "centers = {}\n",
    "K = range(1, 10)\n",
    "\n",
    "for k in K:\n",
    "    kmeans = KMeans(n_clusters=k, n_init='auto').fit(data)\n",
    "    inertias.append(kmeans.inertia_)\n",
    "    labels[k] = kmeans.labels_\n",
    "    centers[k] = kmeans.cluster_centers_"
   ]
  },
  {
   "cell_type": "code",
   "execution_count": 48,
   "metadata": {},
   "outputs": [
    {
     "data": {
      "image/png": "[encoded data removed]",
      "text/plain": [
       "<Figure size 640x480 with 1 Axes>"
      ]
     },
     "metadata": {},
     "output_type": "display_data"
    }
   ],
   "source": [
    "plt.plot(K, inertias, 'bx-')\n",
    "plt.xlabel('Values of K')\n",
    "plt.ylabel('Inertia')\n",
    "plt.title('The Elbow Method using Inertia')\n",
    "plt.show()"
   ]
  },
  {
   "cell_type": "code",
   "execution_count": 49,
   "metadata": {},
   "outputs": [],
   "source": [
    "coll,buy_idx,sell_idx=[],[],[]\n",
    "decision_d_l=[]\n",
    "count1,count2,count3=0,0,0\n",
    "def func(p):\n",
    "    global S,B,resl,resfl\n",
    "    S=0\n",
    "    B=0\n",
    "    resl=[]\n",
    "    resfl=[]\n",
    "    td=0.2\n",
    "    w1,w2,w3,w4,w5,w6,w7,w8,w9,w10 = p\n",
    "    mon=100000\n",
    "    amount=0\n",
    "    for i in range(0,len(dfo)):\n",
    "        r = ((w1*sl1[i]+w2*sl2[i]+w3*sl3[i]+w4*sl4[i]+w5*sl5[i]+w6*sl6[i]+w7*sl7[i]+w8*sl8[i]+w9*sl9[i]+w10*sl10[i])/(w1+w2+w3+w4+w5+w6+w7+w8+w9+w10))#w1=sp.symbols('w1')\n",
    "        if i!=0:\n",
    "            if dfo['adj_close_price'][i]<dfo['adj_close_price'][i-1]*0.8:\n",
    "                mon+=amount*dfo['adj_close_price'][i]*0.998\n",
    "                amount=0\n",
    "        if r>td:\n",
    "            sumall=mon//dfo['adj_close_price'][i]\n",
    "            amount+=sumall\n",
    "            mon-=sumall*dfo['adj_close_price'][i]*1.002\n",
    "            B+=1\n",
    "        elif r<-td:\n",
    "            mon+=amount*dfo['adj_close_price'][i]*0.998\n",
    "            amount=0\n",
    "            S+=1\n",
    "        else:\n",
    "            pass\n",
    "    ret=mon+amount*dfo['adj_close_price'][len(dfo)-1]\n",
    "    return -((ret-100000)/1000)\n",
    "def fobj():\n",
    "    global sl1,sl2,sl3,sl4,sl5,sl6,sl7,sl8,sl9,sl10,dfo,decision_d_l,bh_test_l,bh_train_l,train_l,test_l\n",
    "    bh_test_l,bh_train_l,train_l,test_l=[],[],[],[]\n",
    "    for j in range(len(splittrain)):\n",
    "        dfo=splittrain[j]\n",
    "        dfo=dfo.reset_index()\n",
    "        sl1=dfo['volume_prof_signal']\n",
    "        sl2=dfo['stoch_signal_2']\n",
    "        sl3=dfo['bb_signal']\n",
    "        sl4=dfo['cci_signal']\n",
    "        sl5=dfo['bb_rsi_signal']\n",
    "        sl6=dfo['renko_adx_signal']\n",
    "        sl7=dfo['ma50_100_signal']\n",
    "        sl8=dfo['rsiandmacd']\n",
    "        sl9=dfo['fake_obv_macd_crossover_signal']\n",
    "        sl10=dfo['wpr_signal']\n",
    "        result = differential_evolution(func, bounds,constraints=(nlc),maxiter=1500,popsize=80,recombination=0.8)\n",
    "        coll.append([result.x,-result.fun,j])\n",
    "        print([result.x,-result.fun,j])\n",
    "        train_l.append(-result.fun)\n",
    "        a=result.x\n",
    "        b=j\n",
    "        td=0.2\n",
    "        w=a[0:10]\n",
    "        df=splittest[b]\n",
    "        il=[]\n",
    "        global count1,count2,count3,sell_idx,buy_idx\n",
    "        mon=100000\n",
    "        amount=0\n",
    "        sumall=0\n",
    "        df=df.reset_index()\n",
    "        sl1=dfo['volume_prof_signal']\n",
    "        sl2=dfo['stoch_signal_2']\n",
    "        sl3=dfo['bb_signal']\n",
    "        sl4=dfo['cci_signal']\n",
    "        sl5=dfo['bb_rsi_signal']\n",
    "        sl6=dfo['renko_adx_signal']\n",
    "        sl7=dfo['ma50_100_signal']\n",
    "        sl8=dfo['rsiandmacd']\n",
    "        sl9=dfo['fake_obv_macd_crossover_signal']\n",
    "        sl10=dfo['wpr_signal']\n",
    "\n",
    "        for i in range(0,len(df)):\n",
    "            decision_d= ((w[0]*sl1[i]+w[1]*sl2[i]+w[2]*sl3[i]+w[3]*sl4[i]+w[4]*sl5[i]+w[5]*sl6[i]+w[6]*sl7[i]+w[7]*sl8[i]+w[8]*sl9[i]+w[9]*sl10[i])/sum(w))\n",
    "            if i!=0:\n",
    "                if df['adj_close_price'][i]<df['adj_close_price'][i-1]*0.8:\n",
    "                        mon+=amount*df['adj_close_price'][i]*0.998\n",
    "                        amount=0\n",
    "                        sell_idx.append(i)\n",
    "            if decision_d>td:\n",
    "                sumall=mon//df['adj_close_price'][i]\n",
    "                amount+=sumall\n",
    "                mon-=sumall*df['adj_close_price'][i]*1.002\n",
    "                count1+=1\n",
    "                buy_idx.append(i)\n",
    "            elif decision_d<-td:\n",
    "                mon+=amount*df['adj_close_price'][i]*0.998\n",
    "                amount=0\n",
    "                count2+=1\n",
    "                sell_idx.append(i)\n",
    "            else:\n",
    "                count3+=1\n",
    "            decision_d_l.append(decision_d)\n",
    "        ret=mon+amount*df['adj_close_price'][len(df)-1]\n",
    "        stocknum=100000/dfo['adj_close_price'][0]\n",
    "        bh_test_l.append(((stocknum*(0.998*df['adj_close_price'][len(df)-1])+(100000-stocknum*df['adj_close_price'][0]*1.002))-100000)/1000)\n",
    "        bh_train_l.append(((stocknum*(0.998*dfo['adj_close_price'][len(dfo)-1])+(100000-stocknum*dfo['adj_close_price'][0]*1.002))-100000)/1000)\n",
    "        test_l.append((ret-100000)/1000)\n",
    "        print(\"B&H_train :\",bh_train_l)\n",
    "        print(\"ats_train :\",train_l)\n",
    "        print(\"B&H_test :\",bh_test_l)\n",
    "        print (\"ATS test:\",b,(ret-100000)/1000)\n",
    "\n",
    "    print(\"B&H_train :\",bh_train_l)\n",
    "    print(\"ats_train :\",train_l)\n",
    "    print(\"B&H_test :\",bh_test_l)\n",
    "    print(\"ats_test :\",test_l)"
   ]
  },
  {
   "cell_type": "code",
   "execution_count": 50,
   "metadata": {},
   "outputs": [
    {
     "name": "stderr",
     "output_type": "stream",
     "text": [
      "c:\\Users\\kkeaa\\AppData\\Local\\Programs\\Python\\Python310\\lib\\site-packages\\scipy\\optimize\\_hessian_update_strategy.py:182: UserWarning:\n",
      "\n",
      "delta_grad == 0.0. Check if the approximated function is linear. If the function is linear better results can be obtained by defining the Hessian as zero instead of using quasi-Newton approximations.\n",
      "\n"
     ]
    },
    {
     "name": "stdout",
     "output_type": "stream",
     "text": [
      "[array([0.11784119, 0.06558635, 0.02068441, 0.08493635, 0.58508089,\n",
      "       0.02780968, 0.02308711, 0.00173262, 0.03384693, 0.03939448]), 98.3370962988357, 0]\n",
      "B&H_train : [-17.707726366917093]\n",
      "ats_train : [98.3370962988357]\n",
      "B&H_test : [3.561435637576156]\n",
      "ATS test: 0 0.0\n"
     ]
    },
    {
     "name": "stderr",
     "output_type": "stream",
     "text": [
      "c:\\Users\\kkeaa\\AppData\\Local\\Programs\\Python\\Python310\\lib\\site-packages\\scipy\\optimize\\_hessian_update_strategy.py:182: UserWarning:\n",
      "\n",
      "delta_grad == 0.0. Check if the approximated function is linear. If the function is linear better results can be obtained by defining the Hessian as zero instead of using quasi-Newton approximations.\n",
      "\n"
     ]
    },
    {
     "name": "stdout",
     "output_type": "stream",
     "text": [
      "[array([0.02288324, 0.02260935, 0.14357972, 0.16948536, 0.13376254,\n",
      "       0.05374061, 0.0057    , 0.21866667, 0.0460953 , 0.18347722]), 87.30782365115732, 1]\n",
      "B&H_train : [-17.707726366917093, 2.147097781812059]\n",
      "ats_train : [98.3370962988357, 87.30782365115732]\n",
      "B&H_test : [3.561435637576156, 34.481848604705824]\n",
      "ATS test: 1 16.698543999999995\n"
     ]
    },
    {
     "name": "stderr",
     "output_type": "stream",
     "text": [
      "c:\\Users\\kkeaa\\AppData\\Local\\Programs\\Python\\Python310\\lib\\site-packages\\scipy\\optimize\\_hessian_update_strategy.py:182: UserWarning:\n",
      "\n",
      "delta_grad == 0.0. Check if the approximated function is linear. If the function is linear better results can be obtained by defining the Hessian as zero instead of using quasi-Newton approximations.\n",
      "\n"
     ]
    },
    {
     "name": "stdout",
     "output_type": "stream",
     "text": [
      "[array([0.00853425, 0.17194009, 0.1361946 , 0.01890062, 0.02157899,\n",
      "       0.02664405, 0.19319567, 0.05840129, 0.15875537, 0.20585507]), 265.9124709743462, 2]\n",
      "B&H_train : [-17.707726366917093, 2.147097781812059, 148.56031071288314]\n",
      "ats_train : [98.3370962988357, 87.30782365115732, 265.9124709743462]\n",
      "B&H_test : [3.561435637576156, 34.481848604705824, 44.484867015086024]\n",
      "ATS test: 2 22.857967000000006\n"
     ]
    },
    {
     "name": "stderr",
     "output_type": "stream",
     "text": [
      "c:\\Users\\kkeaa\\AppData\\Local\\Programs\\Python\\Python310\\lib\\site-packages\\scipy\\optimize\\_hessian_update_strategy.py:182: UserWarning:\n",
      "\n",
      "delta_grad == 0.0. Check if the approximated function is linear. If the function is linear better results can be obtained by defining the Hessian as zero instead of using quasi-Newton approximations.\n",
      "\n"
     ]
    },
    {
     "name": "stdout",
     "output_type": "stream",
     "text": [
      "[array([0.03471557, 0.18017898, 0.00120999, 0.01492995, 0.00625652,\n",
      "       0.29457147, 0.22074907, 0.08875521, 0.13261321, 0.02602002]), 208.6136796965599, 3]\n",
      "B&H_train : [-17.707726366917093, 2.147097781812059, 148.56031071288314, 130.4488888888889]\n",
      "ats_train : [98.3370962988357, 87.30782365115732, 265.9124709743462, 208.6136796965599]\n",
      "B&H_test : [3.561435637576156, 34.481848604705824, 44.484867015086024, -26.428888888888874]\n",
      "ATS test: 3 -3.7660895000000165\n"
     ]
    },
    {
     "name": "stderr",
     "output_type": "stream",
     "text": [
      "c:\\Users\\kkeaa\\AppData\\Local\\Programs\\Python\\Python310\\lib\\site-packages\\scipy\\optimize\\_hessian_update_strategy.py:182: UserWarning:\n",
      "\n",
      "delta_grad == 0.0. Check if the approximated function is linear. If the function is linear better results can be obtained by defining the Hessian as zero instead of using quasi-Newton approximations.\n",
      "\n"
     ]
    },
    {
     "name": "stdout",
     "output_type": "stream",
     "text": [
      "[array([0.07709772, 0.15829359, 0.02046319, 0.00614489, 0.0828181 ,\n",
      "       0.33224506, 0.00764355, 0.20488989, 0.04761052, 0.0627935 ]), 94.87947849999999, 4]\n",
      "B&H_train : [-17.707726366917093, 2.147097781812059, 148.56031071288314, 130.4488888888889, 42.924031007751935]\n",
      "ats_train : [98.3370962988357, 87.30782365115732, 265.9124709743462, 208.6136796965599, 94.87947849999999]\n",
      "B&H_test : [3.561435637576156, 34.481848604705824, 44.484867015086024, -26.428888888888874, -0.5860465116279083]\n",
      "ATS test: 4 0.0\n",
      "B&H_train : [-17.707726366917093, 2.147097781812059, 148.56031071288314, 130.4488888888889, 42.924031007751935]\n",
      "ats_train : [98.3370962988357, 87.30782365115732, 265.9124709743462, 208.6136796965599, 94.87947849999999]\n",
      "B&H_test : [3.561435637576156, 34.481848604705824, 44.484867015086024, -26.428888888888874, -0.5860465116279083]\n",
      "ats_test : [0.0, 16.698543999999995, 22.857967000000006, -3.7660895000000165, 0.0]\n"
     ]
    }
   ],
   "source": [
    "fobj()"
   ]
  },
  {
   "cell_type": "code",
   "execution_count": 51,
   "metadata": {},
   "outputs": [],
   "source": [
    "signal = ['volume_prof_signal','stoch_signal_2','bb_signal','cci_signal','bb_rsi_signal','renko_adx_signal','ma50_100_signal','rsiandmacd','fake_obv_macd_crossover_signal','wpr_signal']"
   ]
  },
  {
   "cell_type": "code",
   "execution_count": 52,
   "metadata": {},
   "outputs": [],
   "source": [
    "#DE prediction\n",
    "action_list = []\n",
    "for i in range(0,4*window_size):\n",
    "    td = 0.2\n",
    "    value = 0\n",
    "    for j in range(10):\n",
    "        value += data[signal[j]][i]*coll[0][0][j]\n",
    "    if(value>td):\n",
    "        action_list.append(1)\n",
    "    elif (value<-td):\n",
    "        action_list.append(-1)\n",
    "    else:\n",
    "        action_list.append(0)\n",
    "for i in range(4*window_size,5*window_size):\n",
    "    td = 0.2\n",
    "    value = 0\n",
    "    for j in range(10):\n",
    "        value += data[signal[j]][i]*coll[1][0][j]\n",
    "    if(value>td):\n",
    "        action_list.append(1)\n",
    "    elif (value<-td):\n",
    "        action_list.append(-1)\n",
    "    else:\n",
    "        action_list.append(0)\n",
    "for i in range(5*window_size,6*window_size):\n",
    "    td = 0.2\n",
    "    value = 0\n",
    "    for j in range(10):\n",
    "        value += data[signal[j]][i]*coll[2][0][j]\n",
    "    if(value>td):\n",
    "        action_list.append(1)\n",
    "    elif (value<-td):\n",
    "        action_list.append(-1)\n",
    "    else:\n",
    "        action_list.append(0)\n",
    "for i in range(6*window_size,7*window_size):\n",
    "    td = 0.2\n",
    "    value = 0\n",
    "    for j in range(10):\n",
    "        value += data[signal[j]][i]*coll[3][0][j]\n",
    "    if(value>td):\n",
    "        action_list.append(1)\n",
    "    elif (value<-td):\n",
    "        action_list.append(-1)\n",
    "    else:\n",
    "        action_list.append(0)\n",
    "for i in range(7*window_size,8*window_size+2):\n",
    "    td = 0.2\n",
    "    value = 0\n",
    "    for j in range(10):\n",
    "        value += data[signal[j]][i]*coll[4][0][j]\n",
    "    if(value>td):\n",
    "        action_list.append(1)\n",
    "    elif (value<-td):\n",
    "        action_list.append(-1)\n",
    "    else:\n",
    "        action_list.append(0)"
   ]
  },
  {
   "cell_type": "code",
   "execution_count": 53,
   "metadata": {},
   "outputs": [
    {
     "name": "stdout",
     "output_type": "stream",
     "text": [
      "Accuracy poly:96.02%\n"
     ]
    }
   ],
   "source": [
    "#SVM\n",
    "from sklearn.model_selection import train_test_split\n",
    "from sklearn.svm import SVC\n",
    "from sklearn.metrics import accuracy_score\n",
    "\n",
    "# Split the dataset into training and testing sets\n",
    "X_train, X_test, y_train, y_test = train_test_split(data[signal], action_list, test_size=0.2, random_state=0)\n",
    "svm_classifier = SVC(kernel='poly', C=1.0)\n",
    "\n",
    "# Train the classifier on the training data\n",
    "svm_classifier.fit(X_train, y_train)\n",
    "\n",
    "# Make predictions on the testing data\n",
    "svm_pred = svm_classifier.predict(X_test)\n",
    "\n",
    "# Evaluate the accuracy of the classifier\n",
    "accuracy = accuracy_score(y_test, svm_pred)\n",
    "print(f\"Accuracy poly:{accuracy * 100:.2f}%\")"
   ]
  },
  {
   "cell_type": "code",
   "execution_count": 54,
   "metadata": {},
   "outputs": [
    {
     "name": "stdout",
     "output_type": "stream",
     "text": [
      "Accuracy : 95.58%\n"
     ]
    }
   ],
   "source": [
    "#LOGISTIC\n",
    "import numpy as np\n",
    "import matplotlib.pyplot as plt\n",
    "from sklearn.model_selection import train_test_split\n",
    "from sklearn.linear_model import LogisticRegression\n",
    "from sklearn import datasets\n",
    "\n",
    "model = LogisticRegression()\n",
    "model.fit(X_train,y_train)\n",
    "lo_pred = model.predict(X_test)\n",
    "accuracy = accuracy_score(y_test, lo_pred)\n",
    "print(f\"Accuracy : {accuracy * 100:.2f}%\")"
   ]
  },
  {
   "cell_type": "code",
   "execution_count": 55,
   "metadata": {},
   "outputs": [
    {
     "name": "stdout",
     "output_type": "stream",
     "text": [
      "Accuracy: 0.9646017699115044\n"
     ]
    }
   ],
   "source": [
    "from sklearn.model_selection import train_test_split\n",
    "from sklearn.neighbors import KNeighborsClassifier\n",
    "from sklearn.metrics import accuracy_score\n",
    "\n",
    "for i in range(10):\n",
    "    knn_classifier = KNeighborsClassifier(n_neighbors=3)\n",
    "\n",
    "    # Train the classifier on the training set\n",
    "    knn_classifier.fit(X_train, y_train)\n",
    "\n",
    "    # Make predictions on the test set\n",
    "    knn_pred = knn_classifier.predict(X_test)\n",
    "\n",
    "    # Evaluate the accuracy of the classifier\n",
    "accuracy = accuracy_score(y_test, knn_pred)\n",
    "print(f'Accuracy: {accuracy}')\n"
   ]
  },
  {
   "cell_type": "code",
   "execution_count": 56,
   "metadata": {},
   "outputs": [],
   "source": [
    "#divide data to 4:1\n",
    "import math\n",
    "num = math.ceil(len(action_list)/5)\n",
    "de_pred = action_list[-num:]\n",
    "stock = data['adj_close_price'][-num:]\n",
    "stock = stock.reset_index(drop=True)"
   ]
  },
  {
   "cell_type": "code",
   "execution_count": 57,
   "metadata": {},
   "outputs": [],
   "source": [
    "def calculate(prc,lst,ren,pred,stk,budget):\n",
    "    for i in range(ren):\n",
    "        if i == 0 :\n",
    "            if pred[i] == 1 :\n",
    "                stk += 1\n",
    "                prc.append(stock[i])\n",
    "                lst.append(stock[i]/prc[i]*100)\n",
    "            elif pred[i] == -1 :\n",
    "                prc.append(0)\n",
    "                lst.append(0)\n",
    "            elif pred[i] == 0 :\n",
    "                prc.append(0)\n",
    "                lst.append(0)\n",
    "        else :\n",
    "            if pred[i] == 1 :\n",
    "                stk += 1\n",
    "                prc.append(prc[i-1]+stock[i])\n",
    "                lst.append((stk*stock[i]+budget)/prc[i]*100)\n",
    "            elif pred[i] == -1 :\n",
    "                if stk > 0 :\n",
    "                    stk -= 1\n",
    "                    prc.append(prc[i-1])\n",
    "                    budget += stock[i]\n",
    "                    lst.append((stk*stock[i]+budget)/prc[i]*100)\n",
    "                else :\n",
    "                    prc.append(prc[i-1])\n",
    "                    if prc[i] <= 0 :\n",
    "                        lst.append(lst[i-1])\n",
    "                    else :\n",
    "                        lst.append(budget/prc[i]*100)\n",
    "            elif pred[i] == 0 :\n",
    "                prc.append(prc[i-1])\n",
    "                if prc[i] != 0 :\n",
    "                    lst.append((stk*stock[i]+budget)/prc[i]*100)\n",
    "                else:\n",
    "                    lst.append(lst[i-1])\n",
    "    return prc,lst,budget"
   ]
  },
  {
   "cell_type": "code",
   "execution_count": 58,
   "metadata": {},
   "outputs": [],
   "source": [
    "#ALL ML AND DE\n",
    "de_prc , de_lst ,de_bud= calculate([],[],num,de_pred,0,0)\n",
    "svm_prc , svm_lst,svm_d=bud = calculate([],[],num,svm_pred,0,0)\n",
    "lo_prc , lo_lst,lo_bud = calculate([],[],num,lo_pred,0,0)\n",
    "knn_prc , knn_lst , knn_bud = calculate([],[],num,knn_pred,0,0)"
   ]
  },
  {
   "cell_type": "code",
   "execution_count": 59,
   "metadata": {},
   "outputs": [],
   "source": [
    "#B&H\n",
    "bh_lst = []\n",
    "for i in range(num):\n",
    "    bh_lst.append(stock[i]/stock[0]*100)"
   ]
  },
  {
   "cell_type": "code",
   "execution_count": 60,
   "metadata": {},
   "outputs": [
    {
     "data": {
      "application/vnd.plotly.v1+json": {
       "config": {
        "plotlyServerURL": "https://plot.ly"
       },
       "data": [
        {
         "hovertemplate": "variable=0<br>index=%{x}<br>value=%{y}<extra></extra>",
         "legendgroup": "0",
         "line": {
          "color": "#636efa",
          "dash": "solid"
         },
         "marker": {
          "symbol": "circle"
         },
         "mode": "lines",
         "name": "0",
         "orientation": "v",
         "showlegend": true,
         "type": "scatter",
         "x": [
          0,
          1,
          2,
          3,
          4,
          5,
          6,
          7,
          8,
          9,
          10,
          11,
          12,
          13,
          14,
          15,
          16,
          17,
          18,
          19,
          20,
          21,
          22,
          23,
          24,
          25,
          26,
          27,
          28,
          29,
          30,
          31,
          32,
          33,
          34,
          35,
          36,
          37,
          38,
          39,
          40,
          41,
          42,
          43,
          44,
          45,
          46,
          47,
          48,
          49,
          50,
          51,
          52,
          53,
          54,
          55,
          56,
          57,
          58,
          59,
          60,
          61,
          62,
          63,
          64,
          65,
          66,
          67,
          68,
          69,
          70,
          71,
          72,
          73,
          74,
          75,
          76,
          77,
          78,
          79,
          80,
          81,
          82,
          83,
          84,
          85,
          86,
          87,
          88,
          89,
          90,
          91,
          92,
          93,
          94,
          95,
          96,
          97,
          98,
          99,
          100,
          101,
          102,
          103,
          104,
          105,
          106,
          107,
          108,
          109,
          110,
          111,
          112,
          113,
          114,
          115,
          116,
          117,
          118,
          119,
          120,
          121,
          122,
          123,
          124,
          125,
          126,
          127,
          128,
          129,
          130,
          131,
          132,
          133,
          134,
          135,
          136,
          137,
          138,
          139,
          140,
          141,
          142,
          143,
          144,
          145,
          146,
          147,
          148,
          149,
          150,
          151,
          152,
          153,
          154,
          155,
          156,
          157,
          158,
          159,
          160,
          161,
          162,
          163,
          164,
          165,
          166,
          167,
          168,
          169,
          170,
          171,
          172,
          173,
          174,
          175,
          176,
          177,
          178,
          179,
          180,
          181,
          182,
          183,
          184,
          185,
          186,
          187,
          188,
          189,
          190,
          191,
          192,
          193,
          194,
          195,
          196,
          197,
          198,
          199,
          200,
          201,
          202,
          203,
          204,
          205,
          206,
          207,
          208,
          209,
          210,
          211,
          212,
          213,
          214,
          215,
          216,
          217,
          218,
          219,
          220,
          221,
          222,
          223,
          224,
          225
         ],
         "xaxis": "x",
         "y": [
          0,
          0,
          0,
          0,
          0,
          0,
          0,
          100,
          99,
          101,
          98.5,
          98,
          98.5,
          96.5,
          99,
          100,
          99,
          100,
          98.5,
          103,
          103,
          103.49999999999999,
          101.49999999999999,
          102,
          100.49999999999999,
          98.5,
          98.5,
          99.25,
          99.83221476510067,
          98.8255033557047,
          101.1744966442953,
          101.51006711409396,
          97.48322147651007,
          100.16778523489933,
          97.81879194630872,
          97.48322147651007,
          95.46979865771812,
          96.47651006711409,
          97.14765100671141,
          97.14765100671141,
          98.8255033557047,
          99.49664429530202,
          99.16107382550335,
          98.8255033557047,
          100.503355704698,
          98.8255033557047,
          99.16107382550335,
          99.16107382550335,
          98.48993288590604,
          98.48993288590604,
          98.48993288590604,
          98.48993288590604,
          99.16107382550335,
          98.8255033557047,
          99.16107382550335,
          99.16107382550335,
          99.16107382550335,
          101.1744966442953,
          100.16778523489933,
          100.83892617449663,
          100.83892617449663,
          101.84563758389262,
          102.18120805369128,
          101.51006711409396,
          101.51006711409396,
          102.51677852348993,
          103.85906040268455,
          102.85234899328859,
          103.18791946308725,
          103.18791946308725,
          101.84563758389262,
          101.1744966442953,
          101.1744966442953,
          102.51677852348993,
          102.18120805369128,
          103.18791946308725,
          103.18791946308725,
          102.85234899328859,
          101.1744966442953,
          102.18120805369128,
          103.52348993288591,
          104.19463087248322,
          103.85906040268455,
          103.85906040268455,
          103.85906040268455,
          103.85906040268455,
          103.52348993288591,
          104.53020134228188,
          104.86577181208054,
          106.54362416107384,
          106.54362416107384,
          108.2214765100671,
          107.88590604026847,
          109.2281879194631,
          108.55704697986577,
          107.21476510067114,
          108.2214765100671,
          107.21476510067114,
          107.88590604026847,
          106.87919463087248,
          107.5503355704698,
          108.89261744966443,
          107.17761557177616,
          106.08272506082726,
          106.08272506082726,
          106.81265206812651,
          105.83941605839415,
          105.35279805352798,
          105.35279805352798,
          105.83941605839415,
          105.83941605839415,
          107.54257907542579,
          107.78588807785887,
          106.08272506082726,
          103.16301703163018,
          104.13625304136254,
          105.35279805352798,
          104.62287104622871,
          104.13625304136254,
          104.37956204379562,
          105.1094890510949,
          106.32603406326034,
          107.54257907542579,
          107.78588807785887,
          106.56934306569343,
          106.32603406326034,
          106.81265206812651,
          106.32603406326034,
          107.05596107055962,
          106.32603406326034,
          106.32603406326034,
          105.83941605839415,
          105.35279805352798,
          105.59610705596107,
          105.59610705596107,
          106.08272506082726,
          105.1094890510949,
          104.62287104622871,
          105.35279805352798,
          105.35279805352798,
          103.89294403892944,
          103.40632603406326,
          104.37956204379562,
          104.37956204379562,
          105.1094890510949,
          105.83941605839415,
          105.35279805352798,
          106.08272506082726,
          106.81265206812651,
          105.83941605839415,
          105.83941605839415,
          105.35279805352798,
          104.37956204379562,
          102.18978102189782,
          99.7566909975669,
          100.24330900243311,
          99.7566909975669,
          100,
          100.48661800486617,
          101.55642023346303,
          101.55642023346303,
          101.55642023346303,
          100.68093385214007,
          99.5136186770428,
          100.09727626459144,
          99.5136186770428,
          99.22178988326849,
          98.92996108949417,
          98.92996108949417,
          99.80544747081711,
          99.5136186770428,
          99.5136186770428,
          100.38910505836576,
          99.80544747081711,
          99.22178988326849,
          98.34630350194551,
          97.76264591439688,
          97.76264591439688,
          97.47081712062257,
          96.59533073929961,
          96.01167315175097,
          95.42801556420234,
          95.13618677042801,
          95.42801556420234,
          96.3035019455253,
          99.34747145187602,
          97.71615008156607,
          98.69494290375204,
          98.04241435562805,
          96.4110929853181,
          95.75856443719412,
          96.4110929853181,
          96.08482871125612,
          93.80097879282219,
          92.82218597063621,
          93.14845024469821,
          94.45350734094616,
          94.12724306688418,
          93.4747145187602,
          93.4747145187602,
          92.82218597063621,
          91.84339314845025,
          91.84339314845025,
          93.14845024469821,
          96.03399433427762,
          97.09631728045326,
          96.38810198300283,
          94.61756373937678,
          95.6798866855524,
          95.6798866855524,
          95.6798866855524,
          96.74220963172804,
          96.03399433427762,
          98.86685552407933,
          90.36827195467421,
          88.24362606232295,
          91.07648725212465,
          90.01416430594901,
          90.72237960339945,
          92.13881019830028,
          91.43059490084985,
          92.84702549575071,
          93.55524079320114,
          95.6798866855524,
          97.09631728045326,
          97.09631728045326
         ],
         "yaxis": "y"
        }
       ],
       "layout": {
        "legend": {
         "title": {
          "text": "variable"
         },
         "tracegroupgap": 0
        },
        "margin": {
         "t": 60
        },
        "template": {
         "data": {
          "bar": [
           {
            "error_x": {
             "color": "#2a3f5f"
            },
            "error_y": {
             "color": "#2a3f5f"
            },
            "marker": {
             "line": {
              "color": "#E5ECF6",
              "width": 0.5
             },
             "pattern": {
              "fillmode": "overlay",
              "size": 10,
              "solidity": 0.2
             }
            },
            "type": "bar"
           }
          ],
          "barpolar": [
           {
            "marker": {
             "line": {
              "color": "#E5ECF6",
              "width": 0.5
             },
             "pattern": {
              "fillmode": "overlay",
              "size": 10,
              "solidity": 0.2
             }
            },
            "type": "barpolar"
           }
          ],
          "carpet": [
           {
            "aaxis": {
             "endlinecolor": "#2a3f5f",
             "gridcolor": "white",
             "linecolor": "white",
             "minorgridcolor": "white",
             "startlinecolor": "#2a3f5f"
            },
            "baxis": {
             "endlinecolor": "#2a3f5f",
             "gridcolor": "white",
             "linecolor": "white",
             "minorgridcolor": "white",
             "startlinecolor": "#2a3f5f"
            },
            "type": "carpet"
           }
          ],
          "choropleth": [
           {
            "colorbar": {
             "outlinewidth": 0,
             "ticks": ""
            },
            "type": "choropleth"
           }
          ],
          "contour": [
           {
            "colorbar": {
             "outlinewidth": 0,
             "ticks": ""
            },
            "colorscale": [
             [
              0,
              "#0d0887"
             ],
             [
              0.1111111111111111,
              "#46039f"
             ],
             [
              0.2222222222222222,
              "#7201a8"
             ],
             [
              0.3333333333333333,
              "#9c179e"
             ],
             [
              0.4444444444444444,
              "#bd3786"
             ],
             [
              0.5555555555555556,
              "#d8576b"
             ],
             [
              0.6666666666666666,
              "#ed7953"
             ],
             [
              0.7777777777777778,
              "#fb9f3a"
             ],
             [
              0.8888888888888888,
              "#fdca26"
             ],
             [
              1,
              "#f0f921"
             ]
            ],
            "type": "contour"
           }
          ],
          "contourcarpet": [
           {
            "colorbar": {
             "outlinewidth": 0,
             "ticks": ""
            },
            "type": "contourcarpet"
           }
          ],
          "heatmap": [
           {
            "colorbar": {
             "outlinewidth": 0,
             "ticks": ""
            },
            "colorscale": [
             [
              0,
              "#0d0887"
             ],
             [
              0.1111111111111111,
              "#46039f"
             ],
             [
              0.2222222222222222,
              "#7201a8"
             ],
             [
              0.3333333333333333,
              "#9c179e"
             ],
             [
              0.4444444444444444,
              "#bd3786"
             ],
             [
              0.5555555555555556,
              "#d8576b"
             ],
             [
              0.6666666666666666,
              "#ed7953"
             ],
             [
              0.7777777777777778,
              "#fb9f3a"
             ],
             [
              0.8888888888888888,
              "#fdca26"
             ],
             [
              1,
              "#f0f921"
             ]
            ],
            "type": "heatmap"
           }
          ],
          "heatmapgl": [
           {
            "colorbar": {
             "outlinewidth": 0,
             "ticks": ""
            },
            "colorscale": [
             [
              0,
              "#0d0887"
             ],
             [
              0.1111111111111111,
              "#46039f"
             ],
             [
              0.2222222222222222,
              "#7201a8"
             ],
             [
              0.3333333333333333,
              "#9c179e"
             ],
             [
              0.4444444444444444,
              "#bd3786"
             ],
             [
              0.5555555555555556,
              "#d8576b"
             ],
             [
              0.6666666666666666,
              "#ed7953"
             ],
             [
              0.7777777777777778,
              "#fb9f3a"
             ],
             [
              0.8888888888888888,
              "#fdca26"
             ],
             [
              1,
              "#f0f921"
             ]
            ],
            "type": "heatmapgl"
           }
          ],
          "histogram": [
           {
            "marker": {
             "pattern": {
              "fillmode": "overlay",
              "size": 10,
              "solidity": 0.2
             }
            },
            "type": "histogram"
           }
          ],
          "histogram2d": [
           {
            "colorbar": {
             "outlinewidth": 0,
             "ticks": ""
            },
            "colorscale": [
             [
              0,
              "#0d0887"
             ],
             [
              0.1111111111111111,
              "#46039f"
             ],
             [
              0.2222222222222222,
              "#7201a8"
             ],
             [
              0.3333333333333333,
              "#9c179e"
             ],
             [
              0.4444444444444444,
              "#bd3786"
             ],
             [
              0.5555555555555556,
              "#d8576b"
             ],
             [
              0.6666666666666666,
              "#ed7953"
             ],
             [
              0.7777777777777778,
              "#fb9f3a"
             ],
             [
              0.8888888888888888,
              "#fdca26"
             ],
             [
              1,
              "#f0f921"
             ]
            ],
            "type": "histogram2d"
           }
          ],
          "histogram2dcontour": [
           {
            "colorbar": {
             "outlinewidth": 0,
             "ticks": ""
            },
            "colorscale": [
             [
              0,
              "#0d0887"
             ],
             [
              0.1111111111111111,
              "#46039f"
             ],
             [
              0.2222222222222222,
              "#7201a8"
             ],
             [
              0.3333333333333333,
              "#9c179e"
             ],
             [
              0.4444444444444444,
              "#bd3786"
             ],
             [
              0.5555555555555556,
              "#d8576b"
             ],
             [
              0.6666666666666666,
              "#ed7953"
             ],
             [
              0.7777777777777778,
              "#fb9f3a"
             ],
             [
              0.8888888888888888,
              "#fdca26"
             ],
             [
              1,
              "#f0f921"
             ]
            ],
            "type": "histogram2dcontour"
           }
          ],
          "mesh3d": [
           {
            "colorbar": {
             "outlinewidth": 0,
             "ticks": ""
            },
            "type": "mesh3d"
           }
          ],
          "parcoords": [
           {
            "line": {
             "colorbar": {
              "outlinewidth": 0,
              "ticks": ""
             }
            },
            "type": "parcoords"
           }
          ],
          "pie": [
           {
            "automargin": true,
            "type": "pie"
           }
          ],
          "scatter": [
           {
            "fillpattern": {
             "fillmode": "overlay",
             "size": 10,
             "solidity": 0.2
            },
            "type": "scatter"
           }
          ],
          "scatter3d": [
           {
            "line": {
             "colorbar": {
              "outlinewidth": 0,
              "ticks": ""
             }
            },
            "marker": {
             "colorbar": {
              "outlinewidth": 0,
              "ticks": ""
             }
            },
            "type": "scatter3d"
           }
          ],
          "scattercarpet": [
           {
            "marker": {
             "colorbar": {
              "outlinewidth": 0,
              "ticks": ""
             }
            },
            "type": "scattercarpet"
           }
          ],
          "scattergeo": [
           {
            "marker": {
             "colorbar": {
              "outlinewidth": 0,
              "ticks": ""
             }
            },
            "type": "scattergeo"
           }
          ],
          "scattergl": [
           {
            "marker": {
             "colorbar": {
              "outlinewidth": 0,
              "ticks": ""
             }
            },
            "type": "scattergl"
           }
          ],
          "scattermapbox": [
           {
            "marker": {
             "colorbar": {
              "outlinewidth": 0,
              "ticks": ""
             }
            },
            "type": "scattermapbox"
           }
          ],
          "scatterpolar": [
           {
            "marker": {
             "colorbar": {
              "outlinewidth": 0,
              "ticks": ""
             }
            },
            "type": "scatterpolar"
           }
          ],
          "scatterpolargl": [
           {
            "marker": {
             "colorbar": {
              "outlinewidth": 0,
              "ticks": ""
             }
            },
            "type": "scatterpolargl"
           }
          ],
          "scatterternary": [
           {
            "marker": {
             "colorbar": {
              "outlinewidth": 0,
              "ticks": ""
             }
            },
            "type": "scatterternary"
           }
          ],
          "surface": [
           {
            "colorbar": {
             "outlinewidth": 0,
             "ticks": ""
            },
            "colorscale": [
             [
              0,
              "#0d0887"
             ],
             [
              0.1111111111111111,
              "#46039f"
             ],
             [
              0.2222222222222222,
              "#7201a8"
             ],
             [
              0.3333333333333333,
              "#9c179e"
             ],
             [
              0.4444444444444444,
              "#bd3786"
             ],
             [
              0.5555555555555556,
              "#d8576b"
             ],
             [
              0.6666666666666666,
              "#ed7953"
             ],
             [
              0.7777777777777778,
              "#fb9f3a"
             ],
             [
              0.8888888888888888,
              "#fdca26"
             ],
             [
              1,
              "#f0f921"
             ]
            ],
            "type": "surface"
           }
          ],
          "table": [
           {
            "cells": {
             "fill": {
              "color": "#EBF0F8"
             },
             "line": {
              "color": "white"
             }
            },
            "header": {
             "fill": {
              "color": "#C8D4E3"
             },
             "line": {
              "color": "white"
             }
            },
            "type": "table"
           }
          ]
         },
         "layout": {
          "annotationdefaults": {
           "arrowcolor": "#2a3f5f",
           "arrowhead": 0,
           "arrowwidth": 1
          },
          "autotypenumbers": "strict",
          "coloraxis": {
           "colorbar": {
            "outlinewidth": 0,
            "ticks": ""
           }
          },
          "colorscale": {
           "diverging": [
            [
             0,
             "#8e0152"
            ],
            [
             0.1,
             "#c51b7d"
            ],
            [
             0.2,
             "#de77ae"
            ],
            [
             0.3,
             "#f1b6da"
            ],
            [
             0.4,
             "#fde0ef"
            ],
            [
             0.5,
             "#f7f7f7"
            ],
            [
             0.6,
             "#e6f5d0"
            ],
            [
             0.7,
             "#b8e186"
            ],
            [
             0.8,
             "#7fbc41"
            ],
            [
             0.9,
             "#4d9221"
            ],
            [
             1,
             "#276419"
            ]
           ],
           "sequential": [
            [
             0,
             "#0d0887"
            ],
            [
             0.1111111111111111,
             "#46039f"
            ],
            [
             0.2222222222222222,
             "#7201a8"
            ],
            [
             0.3333333333333333,
             "#9c179e"
            ],
            [
             0.4444444444444444,
             "#bd3786"
            ],
            [
             0.5555555555555556,
             "#d8576b"
            ],
            [
             0.6666666666666666,
             "#ed7953"
            ],
            [
             0.7777777777777778,
             "#fb9f3a"
            ],
            [
             0.8888888888888888,
             "#fdca26"
            ],
            [
             1,
             "#f0f921"
            ]
           ],
           "sequentialminus": [
            [
             0,
             "#0d0887"
            ],
            [
             0.1111111111111111,
             "#46039f"
            ],
            [
             0.2222222222222222,
             "#7201a8"
            ],
            [
             0.3333333333333333,
             "#9c179e"
            ],
            [
             0.4444444444444444,
             "#bd3786"
            ],
            [
             0.5555555555555556,
             "#d8576b"
            ],
            [
             0.6666666666666666,
             "#ed7953"
            ],
            [
             0.7777777777777778,
             "#fb9f3a"
            ],
            [
             0.8888888888888888,
             "#fdca26"
            ],
            [
             1,
             "#f0f921"
            ]
           ]
          },
          "colorway": [
           "#636efa",
           "#EF553B",
           "#00cc96",
           "#ab63fa",
           "#FFA15A",
           "#19d3f3",
           "#FF6692",
           "#B6E880",
           "#FF97FF",
           "#FECB52"
          ],
          "font": {
           "color": "#2a3f5f"
          },
          "geo": {
           "bgcolor": "white",
           "lakecolor": "white",
           "landcolor": "#E5ECF6",
           "showlakes": true,
           "showland": true,
           "subunitcolor": "white"
          },
          "hoverlabel": {
           "align": "left"
          },
          "hovermode": "closest",
          "mapbox": {
           "style": "light"
          },
          "paper_bgcolor": "white",
          "plot_bgcolor": "#E5ECF6",
          "polar": {
           "angularaxis": {
            "gridcolor": "white",
            "linecolor": "white",
            "ticks": ""
           },
           "bgcolor": "#E5ECF6",
           "radialaxis": {
            "gridcolor": "white",
            "linecolor": "white",
            "ticks": ""
           }
          },
          "scene": {
           "xaxis": {
            "backgroundcolor": "#E5ECF6",
            "gridcolor": "white",
            "gridwidth": 2,
            "linecolor": "white",
            "showbackground": true,
            "ticks": "",
            "zerolinecolor": "white"
           },
           "yaxis": {
            "backgroundcolor": "#E5ECF6",
            "gridcolor": "white",
            "gridwidth": 2,
            "linecolor": "white",
            "showbackground": true,
            "ticks": "",
            "zerolinecolor": "white"
           },
           "zaxis": {
            "backgroundcolor": "#E5ECF6",
            "gridcolor": "white",
            "gridwidth": 2,
            "linecolor": "white",
            "showbackground": true,
            "ticks": "",
            "zerolinecolor": "white"
           }
          },
          "shapedefaults": {
           "line": {
            "color": "#2a3f5f"
           }
          },
          "ternary": {
           "aaxis": {
            "gridcolor": "white",
            "linecolor": "white",
            "ticks": ""
           },
           "baxis": {
            "gridcolor": "white",
            "linecolor": "white",
            "ticks": ""
           },
           "bgcolor": "#E5ECF6",
           "caxis": {
            "gridcolor": "white",
            "linecolor": "white",
            "ticks": ""
           }
          },
          "title": {
           "x": 0.05
          },
          "xaxis": {
           "automargin": true,
           "gridcolor": "white",
           "linecolor": "white",
           "ticks": "",
           "title": {
            "standoff": 15
           },
           "zerolinecolor": "white",
           "zerolinewidth": 2
          },
          "yaxis": {
           "automargin": true,
           "gridcolor": "white",
           "linecolor": "white",
           "ticks": "",
           "title": {
            "standoff": 15
           },
           "zerolinecolor": "white",
           "zerolinewidth": 2
          }
         }
        },
        "xaxis": {
         "anchor": "y",
         "domain": [
          0,
          1
         ],
         "title": {
          "text": "index"
         }
        },
        "yaxis": {
         "anchor": "x",
         "domain": [
          0,
          1
         ],
         "title": {
          "text": "value"
         }
        }
       }
      }
     },
     "metadata": {},
     "output_type": "display_data"
    }
   ],
   "source": [
    "import plotly.express as px\n",
    "px.line(de_lst)"
   ]
  },
  {
   "cell_type": "code",
   "execution_count": 61,
   "metadata": {},
   "outputs": [
    {
     "data": {
      "application/vnd.plotly.v1+json": {
       "config": {
        "plotlyServerURL": "https://plot.ly"
       },
       "data": [
        {
         "mode": "lines",
         "name": "DE",
         "type": "scatter",
         "xaxis": "x",
         "y": [
          0,
          0,
          0,
          0,
          0,
          0,
          0,
          100,
          99,
          101,
          98.5,
          98,
          98.5,
          96.5,
          99,
          100,
          99,
          100,
          98.5,
          103,
          103,
          103.49999999999999,
          101.49999999999999,
          102,
          100.49999999999999,
          98.5,
          98.5,
          99.25,
          99.83221476510067,
          98.8255033557047,
          101.1744966442953,
          101.51006711409396,
          97.48322147651007,
          100.16778523489933,
          97.81879194630872,
          97.48322147651007,
          95.46979865771812,
          96.47651006711409,
          97.14765100671141,
          97.14765100671141,
          98.8255033557047,
          99.49664429530202,
          99.16107382550335,
          98.8255033557047,
          100.503355704698,
          98.8255033557047,
          99.16107382550335,
          99.16107382550335,
          98.48993288590604,
          98.48993288590604,
          98.48993288590604,
          98.48993288590604,
          99.16107382550335,
          98.8255033557047,
          99.16107382550335,
          99.16107382550335,
          99.16107382550335,
          101.1744966442953,
          100.16778523489933,
          100.83892617449663,
          100.83892617449663,
          101.84563758389262,
          102.18120805369128,
          101.51006711409396,
          101.51006711409396,
          102.51677852348993,
          103.85906040268455,
          102.85234899328859,
          103.18791946308725,
          103.18791946308725,
          101.84563758389262,
          101.1744966442953,
          101.1744966442953,
          102.51677852348993,
          102.18120805369128,
          103.18791946308725,
          103.18791946308725,
          102.85234899328859,
          101.1744966442953,
          102.18120805369128,
          103.52348993288591,
          104.19463087248322,
          103.85906040268455,
          103.85906040268455,
          103.85906040268455,
          103.85906040268455,
          103.52348993288591,
          104.53020134228188,
          104.86577181208054,
          106.54362416107384,
          106.54362416107384,
          108.2214765100671,
          107.88590604026847,
          109.2281879194631,
          108.55704697986577,
          107.21476510067114,
          108.2214765100671,
          107.21476510067114,
          107.88590604026847,
          106.87919463087248,
          107.5503355704698,
          108.89261744966443,
          107.17761557177616,
          106.08272506082726,
          106.08272506082726,
          106.81265206812651,
          105.83941605839415,
          105.35279805352798,
          105.35279805352798,
          105.83941605839415,
          105.83941605839415,
          107.54257907542579,
          107.78588807785887,
          106.08272506082726,
          103.16301703163018,
          104.13625304136254,
          105.35279805352798,
          104.62287104622871,
          104.13625304136254,
          104.37956204379562,
          105.1094890510949,
          106.32603406326034,
          107.54257907542579,
          107.78588807785887,
          106.56934306569343,
          106.32603406326034,
          106.81265206812651,
          106.32603406326034,
          107.05596107055962,
          106.32603406326034,
          106.32603406326034,
          105.83941605839415,
          105.35279805352798,
          105.59610705596107,
          105.59610705596107,
          106.08272506082726,
          105.1094890510949,
          104.62287104622871,
          105.35279805352798,
          105.35279805352798,
          103.89294403892944,
          103.40632603406326,
          104.37956204379562,
          104.37956204379562,
          105.1094890510949,
          105.83941605839415,
          105.35279805352798,
          106.08272506082726,
          106.81265206812651,
          105.83941605839415,
          105.83941605839415,
          105.35279805352798,
          104.37956204379562,
          102.18978102189782,
          99.7566909975669,
          100.24330900243311,
          99.7566909975669,
          100,
          100.48661800486617,
          101.55642023346303,
          101.55642023346303,
          101.55642023346303,
          100.68093385214007,
          99.5136186770428,
          100.09727626459144,
          99.5136186770428,
          99.22178988326849,
          98.92996108949417,
          98.92996108949417,
          99.80544747081711,
          99.5136186770428,
          99.5136186770428,
          100.38910505836576,
          99.80544747081711,
          99.22178988326849,
          98.34630350194551,
          97.76264591439688,
          97.76264591439688,
          97.47081712062257,
          96.59533073929961,
          96.01167315175097,
          95.42801556420234,
          95.13618677042801,
          95.42801556420234,
          96.3035019455253,
          99.34747145187602,
          97.71615008156607,
          98.69494290375204,
          98.04241435562805,
          96.4110929853181,
          95.75856443719412,
          96.4110929853181,
          96.08482871125612,
          93.80097879282219,
          92.82218597063621,
          93.14845024469821,
          94.45350734094616,
          94.12724306688418,
          93.4747145187602,
          93.4747145187602,
          92.82218597063621,
          91.84339314845025,
          91.84339314845025,
          93.14845024469821,
          96.03399433427762,
          97.09631728045326,
          96.38810198300283,
          94.61756373937678,
          95.6798866855524,
          95.6798866855524,
          95.6798866855524,
          96.74220963172804,
          96.03399433427762,
          98.86685552407933,
          90.36827195467421,
          88.24362606232295,
          91.07648725212465,
          90.01416430594901,
          90.72237960339945,
          92.13881019830028,
          91.43059490084985,
          92.84702549575071,
          93.55524079320114,
          95.6798866855524,
          97.09631728045326,
          97.09631728045326
         ],
         "yaxis": "y"
        },
        {
         "mode": "lines",
         "name": "SVM",
         "type": "scatter",
         "xaxis": "x2",
         "y": [
          0,
          0,
          0,
          0,
          0,
          0,
          0,
          0,
          0,
          0,
          0,
          0,
          0,
          0,
          0,
          0,
          0,
          0,
          0,
          0,
          0,
          0,
          0,
          0,
          0,
          0,
          0,
          0,
          0,
          0,
          0,
          0,
          0,
          0,
          0,
          0,
          0,
          0,
          0,
          0,
          0,
          0,
          0,
          0,
          0,
          0,
          0,
          0,
          0,
          0,
          0,
          0,
          0,
          0,
          0,
          0,
          0,
          0,
          0,
          0,
          0,
          0,
          0,
          0,
          0,
          0,
          0,
          0,
          0,
          0,
          0,
          0,
          0,
          0,
          0,
          0,
          0,
          0,
          0,
          0,
          0,
          0,
          0,
          0,
          0,
          0,
          0,
          0,
          0,
          0,
          0,
          0,
          0,
          0,
          0,
          0,
          0,
          0,
          0,
          0,
          0,
          0,
          0,
          0,
          0,
          0,
          0,
          0,
          0,
          0,
          0,
          0,
          0,
          0,
          0,
          0,
          0,
          0,
          0,
          0,
          0,
          0,
          0,
          0,
          0,
          0,
          0,
          0,
          0,
          0,
          0,
          0,
          0,
          0,
          0,
          0,
          0,
          0,
          0,
          0,
          0,
          0,
          0,
          0,
          0,
          0,
          0,
          0,
          0,
          0,
          0,
          0,
          0,
          0,
          0,
          0,
          0,
          0,
          0,
          0,
          0,
          0,
          0,
          0,
          0,
          0,
          0,
          0,
          0,
          0,
          0,
          0,
          0,
          0,
          0,
          0,
          0,
          0,
          0,
          0,
          0,
          0,
          0,
          0,
          0,
          0,
          0,
          0,
          0,
          0,
          0,
          0,
          0,
          0,
          0,
          0,
          0,
          100,
          98.9010989010989,
          98.9010989010989,
          97.8021978021978,
          96.15384615384616,
          96.15384615384616,
          98.35164835164835,
          102.19780219780219,
          101.88679245283019,
          100.80862533692722,
          98.11320754716981,
          99.73045822102425,
          99.73045822102425,
          99.73045822102425,
          101.34770889487869,
          100.26954177897574,
          104.5822102425876,
          91.64420485175202,
          90.02695417789758,
          92.18328840970351,
          91.37466307277629,
          91.91374663072777,
          92.99191374663073,
          92.45283018867924,
          93.53099730458221,
          93.53099730458221,
          93.53099730458221,
          93.53099730458221,
          93.53099730458221
         ],
         "yaxis": "y2"
        },
        {
         "mode": "lines",
         "name": "LO",
         "type": "scatter",
         "xaxis": "x3",
         "y": [
          0,
          0,
          0,
          0,
          0,
          0,
          0,
          0,
          0,
          0,
          0,
          0,
          0,
          0,
          0,
          0,
          0,
          0,
          0,
          0,
          0,
          0,
          0,
          0,
          0,
          0,
          0,
          0,
          0,
          0,
          0,
          0,
          0,
          0,
          0,
          0,
          0,
          0,
          0,
          0,
          0,
          0,
          0,
          0,
          0,
          0,
          0,
          0,
          0,
          0,
          0,
          0,
          0,
          0,
          0,
          0,
          0,
          0,
          0,
          0,
          0,
          0,
          0,
          0,
          0,
          0,
          0,
          0,
          0,
          0,
          0,
          0,
          0,
          0,
          0,
          0,
          0,
          0,
          0,
          0,
          0,
          0,
          0,
          0,
          0,
          0,
          0,
          0,
          0,
          0,
          0,
          0,
          0,
          0,
          0,
          0,
          0,
          0,
          0,
          0,
          0,
          0,
          0,
          0,
          0,
          0,
          0,
          0,
          0,
          0,
          0,
          0,
          0,
          0,
          0,
          0,
          0,
          0,
          0,
          0,
          0,
          0,
          0,
          0,
          0,
          0,
          0,
          0,
          0,
          0,
          0,
          0,
          0,
          0,
          0,
          0,
          0,
          0,
          0,
          0,
          0,
          0,
          0,
          0,
          0,
          0,
          0,
          0,
          0,
          0,
          0,
          0,
          0,
          0,
          0,
          0,
          0,
          0,
          0,
          0,
          0,
          0,
          0,
          0,
          0,
          0,
          0,
          0,
          0,
          0,
          0,
          0,
          0,
          0,
          0,
          0,
          0,
          0,
          0,
          0,
          0,
          0,
          0,
          0,
          0,
          0,
          0,
          0,
          0,
          0,
          0,
          0,
          0,
          0,
          0,
          0,
          0,
          0,
          0,
          0,
          0,
          0,
          0,
          0,
          0,
          0,
          0,
          0,
          0,
          0,
          0,
          0,
          0,
          0,
          0,
          0,
          0,
          0,
          0,
          0,
          0,
          0,
          0,
          0,
          0,
          0
         ],
         "yaxis": "y3"
        },
        {
         "mode": "lines",
         "name": "KNN",
         "type": "scatter",
         "xaxis": "x4",
         "y": [
          0,
          0,
          0,
          0,
          0,
          0,
          0,
          0,
          0,
          0,
          0,
          0,
          0,
          0,
          0,
          0,
          0,
          0,
          0,
          0,
          0,
          0,
          0,
          0,
          0,
          0,
          0,
          0,
          0,
          0,
          0,
          0,
          0,
          0,
          0,
          0,
          0,
          0,
          0,
          0,
          0,
          0,
          0,
          0,
          0,
          0,
          0,
          0,
          0,
          0,
          0,
          0,
          0,
          0,
          0,
          0,
          0,
          0,
          0,
          0,
          0,
          0,
          0,
          0,
          0,
          0,
          0,
          0,
          0,
          0,
          0,
          0,
          0,
          0,
          0,
          0,
          0,
          0,
          0,
          0,
          0,
          0,
          0,
          0,
          0,
          0,
          0,
          0,
          0,
          0,
          0,
          0,
          0,
          0,
          0,
          0,
          0,
          0,
          0,
          0,
          0,
          0,
          0,
          0,
          0,
          0,
          0,
          0,
          0,
          0,
          0,
          0,
          0,
          0,
          0,
          0,
          0,
          0,
          0,
          0,
          0,
          0,
          0,
          0,
          0,
          0,
          0,
          0,
          0,
          0,
          0,
          0,
          0,
          0,
          0,
          0,
          0,
          0,
          0,
          0,
          0,
          0,
          0,
          0,
          0,
          0,
          0,
          0,
          0,
          0,
          0,
          0,
          0,
          0,
          0,
          0,
          0,
          0,
          0,
          0,
          0,
          0,
          0,
          0,
          0,
          0,
          0,
          0,
          0,
          0,
          0,
          0,
          0,
          0,
          0,
          0,
          0,
          0,
          0,
          0,
          0,
          0,
          0,
          0,
          0,
          0,
          0,
          0,
          0,
          0,
          0,
          0,
          0,
          0,
          0,
          0,
          0,
          0,
          0,
          0,
          0,
          0,
          0,
          0,
          0,
          0,
          0,
          0,
          0,
          0,
          0,
          0,
          0,
          0,
          0,
          0,
          0,
          0,
          0,
          0,
          0,
          0,
          0,
          0,
          0,
          0
         ],
         "yaxis": "y4"
        },
        {
         "mode": "lines",
         "name": "BH",
         "type": "scatter",
         "xaxis": "x5",
         "y": [
          100,
          102.09424083769633,
          101.57068062827226,
          101.04712041884815,
          102.61780104712042,
          97.90575916230367,
          103.1413612565445,
          104.71204188481676,
          103.66492146596859,
          105.75916230366491,
          103.1413612565445,
          102.61780104712042,
          103.1413612565445,
          101.04712041884815,
          103.66492146596859,
          104.71204188481676,
          103.66492146596859,
          104.71204188481676,
          103.1413612565445,
          107.85340314136124,
          107.85340314136124,
          108.37696335078535,
          106.28272251308901,
          107.32984293193716,
          104.18848167539268,
          100,
          100,
          101.57068062827226,
          102.61780104712042,
          101.04712041884815,
          104.71204188481676,
          105.23560209424083,
          98.95287958115183,
          103.1413612565445,
          99.47643979057592,
          98.95287958115183,
          95.81151832460732,
          97.38219895287958,
          98.42931937172776,
          98.42931937172776,
          101.04712041884815,
          102.09424083769633,
          101.57068062827226,
          101.04712041884815,
          103.66492146596859,
          101.04712041884815,
          101.57068062827226,
          101.57068062827226,
          100.52356020942408,
          100.52356020942408,
          100.52356020942408,
          100.52356020942408,
          101.57068062827226,
          101.04712041884815,
          101.57068062827226,
          101.57068062827226,
          101.57068062827226,
          104.71204188481676,
          103.1413612565445,
          104.18848167539268,
          104.18848167539268,
          105.75916230366491,
          106.28272251308901,
          105.23560209424083,
          105.23560209424083,
          106.80628272251309,
          108.90052356020942,
          107.32984293193716,
          107.85340314136124,
          107.85340314136124,
          105.75916230366491,
          104.71204188481676,
          104.71204188481676,
          106.80628272251309,
          106.28272251308901,
          107.85340314136124,
          107.85340314136124,
          107.32984293193716,
          104.71204188481676,
          106.28272251308901,
          108.37696335078535,
          109.42408376963351,
          108.90052356020942,
          108.90052356020942,
          108.90052356020942,
          108.90052356020942,
          108.37696335078535,
          109.94764397905759,
          110.47120418848169,
          113.0890052356021,
          113.0890052356021,
          115.70680628272252,
          115.18324607329843,
          117.27748691099475,
          116.2303664921466,
          114.13612565445025,
          115.70680628272252,
          114.13612565445025,
          115.18324607329843,
          113.61256544502618,
          114.65968586387434,
          116.75392670157068,
          118.32460732984293,
          116.75392670157068,
          116.75392670157068,
          118.32460732984293,
          116.2303664921466,
          115.18324607329843,
          115.18324607329843,
          116.2303664921466,
          116.2303664921466,
          119.89528795811519,
          120.41884816753927,
          116.75392670157068,
          110.47120418848169,
          112.565445026178,
          115.18324607329843,
          113.61256544502618,
          112.565445026178,
          113.0890052356021,
          114.65968586387434,
          117.27748691099475,
          119.89528795811519,
          120.41884816753927,
          117.80104712041886,
          117.27748691099475,
          118.32460732984293,
          117.27748691099475,
          118.84816753926701,
          117.27748691099475,
          117.27748691099475,
          116.2303664921466,
          115.18324607329843,
          115.70680628272252,
          115.70680628272252,
          116.75392670157068,
          114.65968586387434,
          113.61256544502618,
          115.18324607329843,
          115.18324607329843,
          112.04188481675392,
          110.99476439790577,
          113.0890052356021,
          113.0890052356021,
          114.65968586387434,
          116.2303664921466,
          115.18324607329843,
          116.75392670157068,
          118.32460732984293,
          116.2303664921466,
          116.2303664921466,
          115.18324607329843,
          113.0890052356021,
          108.37696335078535,
          103.1413612565445,
          104.18848167539268,
          103.1413612565445,
          103.66492146596859,
          104.71204188481676,
          107.85340314136124,
          107.85340314136124,
          107.85340314136124,
          106.28272251308901,
          104.18848167539268,
          105.23560209424083,
          104.18848167539268,
          103.66492146596859,
          103.1413612565445,
          103.1413612565445,
          104.71204188481676,
          104.18848167539268,
          104.18848167539268,
          105.75916230366491,
          104.71204188481676,
          103.66492146596859,
          102.09424083769633,
          101.04712041884815,
          101.04712041884815,
          100.52356020942408,
          98.95287958115183,
          97.90575916230367,
          96.8586387434555,
          96.33507853403141,
          96.8586387434555,
          98.42931937172776,
          103.66492146596859,
          101.04712041884815,
          102.61780104712042,
          101.57068062827226,
          98.95287958115183,
          97.90575916230367,
          98.95287958115183,
          98.42931937172776,
          94.76439790575915,
          93.19371727748691,
          93.717277486911,
          95.81151832460732,
          95.28795811518324,
          94.24083769633508,
          94.24083769633508,
          93.19371727748691,
          91.62303664921467,
          91.62303664921467,
          93.717277486911,
          97.38219895287958,
          98.95287958115183,
          97.90575916230367,
          95.28795811518324,
          96.8586387434555,
          96.8586387434555,
          96.8586387434555,
          98.42931937172776,
          97.38219895287958,
          101.57068062827226,
          89.00523560209425,
          85.86387434554975,
          90.0523560209424,
          88.48167539267016,
          89.52879581151832,
          91.62303664921467,
          90.57591623036649,
          92.67015706806284,
          93.717277486911,
          96.8586387434555,
          98.95287958115183,
          98.95287958115183
         ],
         "yaxis": "y5"
        }
       ],
       "layout": {
        "annotations": [
         {
          "font": {
           "size": 16
          },
          "showarrow": false,
          "text": "DE",
          "x": 0.225,
          "xanchor": "center",
          "xref": "paper",
          "y": 1,
          "yanchor": "bottom",
          "yref": "paper"
         },
         {
          "font": {
           "size": 16
          },
          "showarrow": false,
          "text": "SVM",
          "x": 0.775,
          "xanchor": "center",
          "xref": "paper",
          "y": 1,
          "yanchor": "bottom",
          "yref": "paper"
         },
         {
          "font": {
           "size": 16
          },
          "showarrow": false,
          "text": "LO",
          "x": 0.225,
          "xanchor": "center",
          "xref": "paper",
          "y": 0.6111111111111112,
          "yanchor": "bottom",
          "yref": "paper"
         },
         {
          "font": {
           "size": 16
          },
          "showarrow": false,
          "text": "KNN",
          "x": 0.775,
          "xanchor": "center",
          "xref": "paper",
          "y": 0.6111111111111112,
          "yanchor": "bottom",
          "yref": "paper"
         }
        ],
        "showlegend": false,
        "template": {
         "data": {
          "bar": [
           {
            "error_x": {
             "color": "#2a3f5f"
            },
            "error_y": {
             "color": "#2a3f5f"
            },
            "marker": {
             "line": {
              "color": "#E5ECF6",
              "width": 0.5
             },
             "pattern": {
              "fillmode": "overlay",
              "size": 10,
              "solidity": 0.2
             }
            },
            "type": "bar"
           }
          ],
          "barpolar": [
           {
            "marker": {
             "line": {
              "color": "#E5ECF6",
              "width": 0.5
             },
             "pattern": {
              "fillmode": "overlay",
              "size": 10,
              "solidity": 0.2
             }
            },
            "type": "barpolar"
           }
          ],
          "carpet": [
           {
            "aaxis": {
             "endlinecolor": "#2a3f5f",
             "gridcolor": "white",
             "linecolor": "white",
             "minorgridcolor": "white",
             "startlinecolor": "#2a3f5f"
            },
            "baxis": {
             "endlinecolor": "#2a3f5f",
             "gridcolor": "white",
             "linecolor": "white",
             "minorgridcolor": "white",
             "startlinecolor": "#2a3f5f"
            },
            "type": "carpet"
           }
          ],
          "choropleth": [
           {
            "colorbar": {
             "outlinewidth": 0,
             "ticks": ""
            },
            "type": "choropleth"
           }
          ],
          "contour": [
           {
            "colorbar": {
             "outlinewidth": 0,
             "ticks": ""
            },
            "colorscale": [
             [
              0,
              "#0d0887"
             ],
             [
              0.1111111111111111,
              "#46039f"
             ],
             [
              0.2222222222222222,
              "#7201a8"
             ],
             [
              0.3333333333333333,
              "#9c179e"
             ],
             [
              0.4444444444444444,
              "#bd3786"
             ],
             [
              0.5555555555555556,
              "#d8576b"
             ],
             [
              0.6666666666666666,
              "#ed7953"
             ],
             [
              0.7777777777777778,
              "#fb9f3a"
             ],
             [
              0.8888888888888888,
              "#fdca26"
             ],
             [
              1,
              "#f0f921"
             ]
            ],
            "type": "contour"
           }
          ],
          "contourcarpet": [
           {
            "colorbar": {
             "outlinewidth": 0,
             "ticks": ""
            },
            "type": "contourcarpet"
           }
          ],
          "heatmap": [
           {
            "colorbar": {
             "outlinewidth": 0,
             "ticks": ""
            },
            "colorscale": [
             [
              0,
              "#0d0887"
             ],
             [
              0.1111111111111111,
              "#46039f"
             ],
             [
              0.2222222222222222,
              "#7201a8"
             ],
             [
              0.3333333333333333,
              "#9c179e"
             ],
             [
              0.4444444444444444,
              "#bd3786"
             ],
             [
              0.5555555555555556,
              "#d8576b"
             ],
             [
              0.6666666666666666,
              "#ed7953"
             ],
             [
              0.7777777777777778,
              "#fb9f3a"
             ],
             [
              0.8888888888888888,
              "#fdca26"
             ],
             [
              1,
              "#f0f921"
             ]
            ],
            "type": "heatmap"
           }
          ],
          "heatmapgl": [
           {
            "colorbar": {
             "outlinewidth": 0,
             "ticks": ""
            },
            "colorscale": [
             [
              0,
              "#0d0887"
             ],
             [
              0.1111111111111111,
              "#46039f"
             ],
             [
              0.2222222222222222,
              "#7201a8"
             ],
             [
              0.3333333333333333,
              "#9c179e"
             ],
             [
              0.4444444444444444,
              "#bd3786"
             ],
             [
              0.5555555555555556,
              "#d8576b"
             ],
             [
              0.6666666666666666,
              "#ed7953"
             ],
             [
              0.7777777777777778,
              "#fb9f3a"
             ],
             [
              0.8888888888888888,
              "#fdca26"
             ],
             [
              1,
              "#f0f921"
             ]
            ],
            "type": "heatmapgl"
           }
          ],
          "histogram": [
           {
            "marker": {
             "pattern": {
              "fillmode": "overlay",
              "size": 10,
              "solidity": 0.2
             }
            },
            "type": "histogram"
           }
          ],
          "histogram2d": [
           {
            "colorbar": {
             "outlinewidth": 0,
             "ticks": ""
            },
            "colorscale": [
             [
              0,
              "#0d0887"
             ],
             [
              0.1111111111111111,
              "#46039f"
             ],
             [
              0.2222222222222222,
              "#7201a8"
             ],
             [
              0.3333333333333333,
              "#9c179e"
             ],
             [
              0.4444444444444444,
              "#bd3786"
             ],
             [
              0.5555555555555556,
              "#d8576b"
             ],
             [
              0.6666666666666666,
              "#ed7953"
             ],
             [
              0.7777777777777778,
              "#fb9f3a"
             ],
             [
              0.8888888888888888,
              "#fdca26"
             ],
             [
              1,
              "#f0f921"
             ]
            ],
            "type": "histogram2d"
           }
          ],
          "histogram2dcontour": [
           {
            "colorbar": {
             "outlinewidth": 0,
             "ticks": ""
            },
            "colorscale": [
             [
              0,
              "#0d0887"
             ],
             [
              0.1111111111111111,
              "#46039f"
             ],
             [
              0.2222222222222222,
              "#7201a8"
             ],
             [
              0.3333333333333333,
              "#9c179e"
             ],
             [
              0.4444444444444444,
              "#bd3786"
             ],
             [
              0.5555555555555556,
              "#d8576b"
             ],
             [
              0.6666666666666666,
              "#ed7953"
             ],
             [
              0.7777777777777778,
              "#fb9f3a"
             ],
             [
              0.8888888888888888,
              "#fdca26"
             ],
             [
              1,
              "#f0f921"
             ]
            ],
            "type": "histogram2dcontour"
           }
          ],
          "mesh3d": [
           {
            "colorbar": {
             "outlinewidth": 0,
             "ticks": ""
            },
            "type": "mesh3d"
           }
          ],
          "parcoords": [
           {
            "line": {
             "colorbar": {
              "outlinewidth": 0,
              "ticks": ""
             }
            },
            "type": "parcoords"
           }
          ],
          "pie": [
           {
            "automargin": true,
            "type": "pie"
           }
          ],
          "scatter": [
           {
            "fillpattern": {
             "fillmode": "overlay",
             "size": 10,
             "solidity": 0.2
            },
            "type": "scatter"
           }
          ],
          "scatter3d": [
           {
            "line": {
             "colorbar": {
              "outlinewidth": 0,
              "ticks": ""
             }
            },
            "marker": {
             "colorbar": {
              "outlinewidth": 0,
              "ticks": ""
             }
            },
            "type": "scatter3d"
           }
          ],
          "scattercarpet": [
           {
            "marker": {
             "colorbar": {
              "outlinewidth": 0,
              "ticks": ""
             }
            },
            "type": "scattercarpet"
           }
          ],
          "scattergeo": [
           {
            "marker": {
             "colorbar": {
              "outlinewidth": 0,
              "ticks": ""
             }
            },
            "type": "scattergeo"
           }
          ],
          "scattergl": [
           {
            "marker": {
             "colorbar": {
              "outlinewidth": 0,
              "ticks": ""
             }
            },
            "type": "scattergl"
           }
          ],
          "scattermapbox": [
           {
            "marker": {
             "colorbar": {
              "outlinewidth": 0,
              "ticks": ""
             }
            },
            "type": "scattermapbox"
           }
          ],
          "scatterpolar": [
           {
            "marker": {
             "colorbar": {
              "outlinewidth": 0,
              "ticks": ""
             }
            },
            "type": "scatterpolar"
           }
          ],
          "scatterpolargl": [
           {
            "marker": {
             "colorbar": {
              "outlinewidth": 0,
              "ticks": ""
             }
            },
            "type": "scatterpolargl"
           }
          ],
          "scatterternary": [
           {
            "marker": {
             "colorbar": {
              "outlinewidth": 0,
              "ticks": ""
             }
            },
            "type": "scatterternary"
           }
          ],
          "surface": [
           {
            "colorbar": {
             "outlinewidth": 0,
             "ticks": ""
            },
            "colorscale": [
             [
              0,
              "#0d0887"
             ],
             [
              0.1111111111111111,
              "#46039f"
             ],
             [
              0.2222222222222222,
              "#7201a8"
             ],
             [
              0.3333333333333333,
              "#9c179e"
             ],
             [
              0.4444444444444444,
              "#bd3786"
             ],
             [
              0.5555555555555556,
              "#d8576b"
             ],
             [
              0.6666666666666666,
              "#ed7953"
             ],
             [
              0.7777777777777778,
              "#fb9f3a"
             ],
             [
              0.8888888888888888,
              "#fdca26"
             ],
             [
              1,
              "#f0f921"
             ]
            ],
            "type": "surface"
           }
          ],
          "table": [
           {
            "cells": {
             "fill": {
              "color": "#EBF0F8"
             },
             "line": {
              "color": "white"
             }
            },
            "header": {
             "fill": {
              "color": "#C8D4E3"
             },
             "line": {
              "color": "white"
             }
            },
            "type": "table"
           }
          ]
         },
         "layout": {
          "annotationdefaults": {
           "arrowcolor": "#2a3f5f",
           "arrowhead": 0,
           "arrowwidth": 1
          },
          "autotypenumbers": "strict",
          "coloraxis": {
           "colorbar": {
            "outlinewidth": 0,
            "ticks": ""
           }
          },
          "colorscale": {
           "diverging": [
            [
             0,
             "#8e0152"
            ],
            [
             0.1,
             "#c51b7d"
            ],
            [
             0.2,
             "#de77ae"
            ],
            [
             0.3,
             "#f1b6da"
            ],
            [
             0.4,
             "#fde0ef"
            ],
            [
             0.5,
             "#f7f7f7"
            ],
            [
             0.6,
             "#e6f5d0"
            ],
            [
             0.7,
             "#b8e186"
            ],
            [
             0.8,
             "#7fbc41"
            ],
            [
             0.9,
             "#4d9221"
            ],
            [
             1,
             "#276419"
            ]
           ],
           "sequential": [
            [
             0,
             "#0d0887"
            ],
            [
             0.1111111111111111,
             "#46039f"
            ],
            [
             0.2222222222222222,
             "#7201a8"
            ],
            [
             0.3333333333333333,
             "#9c179e"
            ],
            [
             0.4444444444444444,
             "#bd3786"
            ],
            [
             0.5555555555555556,
             "#d8576b"
            ],
            [
             0.6666666666666666,
             "#ed7953"
            ],
            [
             0.7777777777777778,
             "#fb9f3a"
            ],
            [
             0.8888888888888888,
             "#fdca26"
            ],
            [
             1,
             "#f0f921"
            ]
           ],
           "sequentialminus": [
            [
             0,
             "#0d0887"
            ],
            [
             0.1111111111111111,
             "#46039f"
            ],
            [
             0.2222222222222222,
             "#7201a8"
            ],
            [
             0.3333333333333333,
             "#9c179e"
            ],
            [
             0.4444444444444444,
             "#bd3786"
            ],
            [
             0.5555555555555556,
             "#d8576b"
            ],
            [
             0.6666666666666666,
             "#ed7953"
            ],
            [
             0.7777777777777778,
             "#fb9f3a"
            ],
            [
             0.8888888888888888,
             "#fdca26"
            ],
            [
             1,
             "#f0f921"
            ]
           ]
          },
          "colorway": [
           "#636efa",
           "#EF553B",
           "#00cc96",
           "#ab63fa",
           "#FFA15A",
           "#19d3f3",
           "#FF6692",
           "#B6E880",
           "#FF97FF",
           "#FECB52"
          ],
          "font": {
           "color": "#2a3f5f"
          },
          "geo": {
           "bgcolor": "white",
           "lakecolor": "white",
           "landcolor": "#E5ECF6",
           "showlakes": true,
           "showland": true,
           "subunitcolor": "white"
          },
          "hoverlabel": {
           "align": "left"
          },
          "hovermode": "closest",
          "mapbox": {
           "style": "light"
          },
          "paper_bgcolor": "white",
          "plot_bgcolor": "#E5ECF6",
          "polar": {
           "angularaxis": {
            "gridcolor": "white",
            "linecolor": "white",
            "ticks": ""
           },
           "bgcolor": "#E5ECF6",
           "radialaxis": {
            "gridcolor": "white",
            "linecolor": "white",
            "ticks": ""
           }
          },
          "scene": {
           "xaxis": {
            "backgroundcolor": "#E5ECF6",
            "gridcolor": "white",
            "gridwidth": 2,
            "linecolor": "white",
            "showbackground": true,
            "ticks": "",
            "zerolinecolor": "white"
           },
           "yaxis": {
            "backgroundcolor": "#E5ECF6",
            "gridcolor": "white",
            "gridwidth": 2,
            "linecolor": "white",
            "showbackground": true,
            "ticks": "",
            "zerolinecolor": "white"
           },
           "zaxis": {
            "backgroundcolor": "#E5ECF6",
            "gridcolor": "white",
            "gridwidth": 2,
            "linecolor": "white",
            "showbackground": true,
            "ticks": "",
            "zerolinecolor": "white"
           }
          },
          "shapedefaults": {
           "line": {
            "color": "#2a3f5f"
           }
          },
          "ternary": {
           "aaxis": {
            "gridcolor": "white",
            "linecolor": "white",
            "ticks": ""
           },
           "baxis": {
            "gridcolor": "white",
            "linecolor": "white",
            "ticks": ""
           },
           "bgcolor": "#E5ECF6",
           "caxis": {
            "gridcolor": "white",
            "linecolor": "white",
            "ticks": ""
           }
          },
          "title": {
           "x": 0.05
          },
          "xaxis": {
           "automargin": true,
           "gridcolor": "white",
           "linecolor": "white",
           "ticks": "",
           "title": {
            "standoff": 15
           },
           "zerolinecolor": "white",
           "zerolinewidth": 2
          },
          "yaxis": {
           "automargin": true,
           "gridcolor": "white",
           "linecolor": "white",
           "ticks": "",
           "title": {
            "standoff": 15
           },
           "zerolinecolor": "white",
           "zerolinewidth": 2
          }
         }
        },
        "title": {
         "text": "Graph"
        },
        "xaxis": {
         "anchor": "y",
         "domain": [
          0,
          0.45
         ]
        },
        "xaxis2": {
         "anchor": "y2",
         "domain": [
          0.55,
          1
         ]
        },
        "xaxis3": {
         "anchor": "y3",
         "domain": [
          0,
          0.45
         ]
        },
        "xaxis4": {
         "anchor": "y4",
         "domain": [
          0.55,
          1
         ]
        },
        "xaxis5": {
         "anchor": "y5",
         "domain": [
          0,
          0.45
         ]
        },
        "xaxis6": {
         "anchor": "y6",
         "domain": [
          0.55,
          1
         ]
        },
        "yaxis": {
         "anchor": "x",
         "domain": [
          0.7777777777777778,
          1
         ],
         "range": [
          80,
          110
         ]
        },
        "yaxis2": {
         "anchor": "x2",
         "domain": [
          0.7777777777777778,
          1
         ],
         "range": [
          80,
          110
         ]
        },
        "yaxis3": {
         "anchor": "x3",
         "domain": [
          0.3888888888888889,
          0.6111111111111112
         ],
         "range": [
          80,
          110
         ]
        },
        "yaxis4": {
         "anchor": "x4",
         "domain": [
          0.3888888888888889,
          0.6111111111111112
         ],
         "range": [
          80,
          110
         ]
        },
        "yaxis5": {
         "anchor": "x5",
         "domain": [
          0,
          0.22222222222222224
         ],
         "range": [
          80,
          110
         ]
        },
        "yaxis6": {
         "anchor": "x6",
         "domain": [
          0,
          0.22222222222222224
         ],
         "range": [
          80,
          110
         ]
        }
       }
      }
     },
     "metadata": {},
     "output_type": "display_data"
    }
   ],
   "source": [
    "import plotly.graph_objects as go\n",
    "from plotly.subplots import make_subplots\n",
    "\n",
    "fig = make_subplots(rows=3, cols=2, subplot_titles=['DE', 'SVM', 'LO', 'KNN'])\n",
    "\n",
    "DE = go.Scatter(y=de_lst, mode='lines', name='DE')\n",
    "SVM = go.Scatter(y=svm_lst, mode='lines', name='SVM')\n",
    "LO = go.Scatter(y=lo_lst, mode='lines', name='LO')\n",
    "KNN = go.Scatter(y=knn_lst , mode='lines' , name='KNN')\n",
    "BH = go.Scatter(y=bh_lst , mode='lines' , name='BH')\n",
    "\n",
    "fig.add_trace(DE, row=1, col=1)\n",
    "fig.add_trace(SVM, row=1, col=2)\n",
    "fig.add_trace(LO, row=2 , col=1)\n",
    "fig.add_trace(KNN, row=2 , col=2)\n",
    "fig.add_trace(BH, row=3 , col=1)\n",
    "fig.update_yaxes(range=[80, 110])\n",
    "\n",
    "fig.update_layout(title_text='Graph', showlegend=False)\n",
    "\n",
    "fig.show()\n"
   ]
  },
  {
   "cell_type": "code",
   "execution_count": 62,
   "metadata": {},
   "outputs": [
    {
     "data": {
      "application/vnd.plotly.v1+json": {
       "config": {
        "plotlyServerURL": "https://plot.ly"
       },
       "data": [
        {
         "mode": "lines",
         "name": "DE",
         "type": "scatter",
         "y": [
          0,
          0,
          0,
          0,
          0,
          0,
          0,
          100,
          99,
          101,
          98.5,
          98,
          98.5,
          96.5,
          99,
          100,
          99,
          100,
          98.5,
          103,
          103,
          103.49999999999999,
          101.49999999999999,
          102,
          100.49999999999999,
          98.5,
          98.5,
          99.25,
          99.83221476510067,
          98.8255033557047,
          101.1744966442953,
          101.51006711409396,
          97.48322147651007,
          100.16778523489933,
          97.81879194630872,
          97.48322147651007,
          95.46979865771812,
          96.47651006711409,
          97.14765100671141,
          97.14765100671141,
          98.8255033557047,
          99.49664429530202,
          99.16107382550335,
          98.8255033557047,
          100.503355704698,
          98.8255033557047,
          99.16107382550335,
          99.16107382550335,
          98.48993288590604,
          98.48993288590604,
          98.48993288590604,
          98.48993288590604,
          99.16107382550335,
          98.8255033557047,
          99.16107382550335,
          99.16107382550335,
          99.16107382550335,
          101.1744966442953,
          100.16778523489933,
          100.83892617449663,
          100.83892617449663,
          101.84563758389262,
          102.18120805369128,
          101.51006711409396,
          101.51006711409396,
          102.51677852348993,
          103.85906040268455,
          102.85234899328859,
          103.18791946308725,
          103.18791946308725,
          101.84563758389262,
          101.1744966442953,
          101.1744966442953,
          102.51677852348993,
          102.18120805369128,
          103.18791946308725,
          103.18791946308725,
          102.85234899328859,
          101.1744966442953,
          102.18120805369128,
          103.52348993288591,
          104.19463087248322,
          103.85906040268455,
          103.85906040268455,
          103.85906040268455,
          103.85906040268455,
          103.52348993288591,
          104.53020134228188,
          104.86577181208054,
          106.54362416107384,
          106.54362416107384,
          108.2214765100671,
          107.88590604026847,
          109.2281879194631,
          108.55704697986577,
          107.21476510067114,
          108.2214765100671,
          107.21476510067114,
          107.88590604026847,
          106.87919463087248,
          107.5503355704698,
          108.89261744966443,
          107.17761557177616,
          106.08272506082726,
          106.08272506082726,
          106.81265206812651,
          105.83941605839415,
          105.35279805352798,
          105.35279805352798,
          105.83941605839415,
          105.83941605839415,
          107.54257907542579,
          107.78588807785887,
          106.08272506082726,
          103.16301703163018,
          104.13625304136254,
          105.35279805352798,
          104.62287104622871,
          104.13625304136254,
          104.37956204379562,
          105.1094890510949,
          106.32603406326034,
          107.54257907542579,
          107.78588807785887,
          106.56934306569343,
          106.32603406326034,
          106.81265206812651,
          106.32603406326034,
          107.05596107055962,
          106.32603406326034,
          106.32603406326034,
          105.83941605839415,
          105.35279805352798,
          105.59610705596107,
          105.59610705596107,
          106.08272506082726,
          105.1094890510949,
          104.62287104622871,
          105.35279805352798,
          105.35279805352798,
          103.89294403892944,
          103.40632603406326,
          104.37956204379562,
          104.37956204379562,
          105.1094890510949,
          105.83941605839415,
          105.35279805352798,
          106.08272506082726,
          106.81265206812651,
          105.83941605839415,
          105.83941605839415,
          105.35279805352798,
          104.37956204379562,
          102.18978102189782,
          99.7566909975669,
          100.24330900243311,
          99.7566909975669,
          100,
          100.48661800486617,
          101.55642023346303,
          101.55642023346303,
          101.55642023346303,
          100.68093385214007,
          99.5136186770428,
          100.09727626459144,
          99.5136186770428,
          99.22178988326849,
          98.92996108949417,
          98.92996108949417,
          99.80544747081711,
          99.5136186770428,
          99.5136186770428,
          100.38910505836576,
          99.80544747081711,
          99.22178988326849,
          98.34630350194551,
          97.76264591439688,
          97.76264591439688,
          97.47081712062257,
          96.59533073929961,
          96.01167315175097,
          95.42801556420234,
          95.13618677042801,
          95.42801556420234,
          96.3035019455253,
          99.34747145187602,
          97.71615008156607,
          98.69494290375204,
          98.04241435562805,
          96.4110929853181,
          95.75856443719412,
          96.4110929853181,
          96.08482871125612,
          93.80097879282219,
          92.82218597063621,
          93.14845024469821,
          94.45350734094616,
          94.12724306688418,
          93.4747145187602,
          93.4747145187602,
          92.82218597063621,
          91.84339314845025,
          91.84339314845025,
          93.14845024469821,
          96.03399433427762,
          97.09631728045326,
          96.38810198300283,
          94.61756373937678,
          95.6798866855524,
          95.6798866855524,
          95.6798866855524,
          96.74220963172804,
          96.03399433427762,
          98.86685552407933,
          90.36827195467421,
          88.24362606232295,
          91.07648725212465,
          90.01416430594901,
          90.72237960339945,
          92.13881019830028,
          91.43059490084985,
          92.84702549575071,
          93.55524079320114,
          95.6798866855524,
          97.09631728045326,
          97.09631728045326
         ]
        },
        {
         "mode": "lines",
         "name": "SVM",
         "type": "scatter",
         "y": [
          0,
          0,
          0,
          0,
          0,
          0,
          0,
          0,
          0,
          0,
          0,
          0,
          0,
          0,
          0,
          0,
          0,
          0,
          0,
          0,
          0,
          0,
          0,
          0,
          0,
          0,
          0,
          0,
          0,
          0,
          0,
          0,
          0,
          0,
          0,
          0,
          0,
          0,
          0,
          0,
          0,
          0,
          0,
          0,
          0,
          0,
          0,
          0,
          0,
          0,
          0,
          0,
          0,
          0,
          0,
          0,
          0,
          0,
          0,
          0,
          0,
          0,
          0,
          0,
          0,
          0,
          0,
          0,
          0,
          0,
          0,
          0,
          0,
          0,
          0,
          0,
          0,
          0,
          0,
          0,
          0,
          0,
          0,
          0,
          0,
          0,
          0,
          0,
          0,
          0,
          0,
          0,
          0,
          0,
          0,
          0,
          0,
          0,
          0,
          0,
          0,
          0,
          0,
          0,
          0,
          0,
          0,
          0,
          0,
          0,
          0,
          0,
          0,
          0,
          0,
          0,
          0,
          0,
          0,
          0,
          0,
          0,
          0,
          0,
          0,
          0,
          0,
          0,
          0,
          0,
          0,
          0,
          0,
          0,
          0,
          0,
          0,
          0,
          0,
          0,
          0,
          0,
          0,
          0,
          0,
          0,
          0,
          0,
          0,
          0,
          0,
          0,
          0,
          0,
          0,
          0,
          0,
          0,
          0,
          0,
          0,
          0,
          0,
          0,
          0,
          0,
          0,
          0,
          0,
          0,
          0,
          0,
          0,
          0,
          0,
          0,
          0,
          0,
          0,
          0,
          0,
          0,
          0,
          0,
          0,
          0,
          0,
          0,
          0,
          0,
          0,
          0,
          0,
          0,
          0,
          0,
          0,
          100,
          98.9010989010989,
          98.9010989010989,
          97.8021978021978,
          96.15384615384616,
          96.15384615384616,
          98.35164835164835,
          102.19780219780219,
          101.88679245283019,
          100.80862533692722,
          98.11320754716981,
          99.73045822102425,
          99.73045822102425,
          99.73045822102425,
          101.34770889487869,
          100.26954177897574,
          104.5822102425876,
          91.64420485175202,
          90.02695417789758,
          92.18328840970351,
          91.37466307277629,
          91.91374663072777,
          92.99191374663073,
          92.45283018867924,
          93.53099730458221,
          93.53099730458221,
          93.53099730458221,
          93.53099730458221,
          93.53099730458221
         ]
        },
        {
         "mode": "lines",
         "name": "LO",
         "type": "scatter",
         "y": [
          0,
          0,
          0,
          0,
          0,
          0,
          0,
          0,
          0,
          0,
          0,
          0,
          0,
          0,
          0,
          0,
          0,
          0,
          0,
          0,
          0,
          0,
          0,
          0,
          0,
          0,
          0,
          0,
          0,
          0,
          0,
          0,
          0,
          0,
          0,
          0,
          0,
          0,
          0,
          0,
          0,
          0,
          0,
          0,
          0,
          0,
          0,
          0,
          0,
          0,
          0,
          0,
          0,
          0,
          0,
          0,
          0,
          0,
          0,
          0,
          0,
          0,
          0,
          0,
          0,
          0,
          0,
          0,
          0,
          0,
          0,
          0,
          0,
          0,
          0,
          0,
          0,
          0,
          0,
          0,
          0,
          0,
          0,
          0,
          0,
          0,
          0,
          0,
          0,
          0,
          0,
          0,
          0,
          0,
          0,
          0,
          0,
          0,
          0,
          0,
          0,
          0,
          0,
          0,
          0,
          0,
          0,
          0,
          0,
          0,
          0,
          0,
          0,
          0,
          0,
          0,
          0,
          0,
          0,
          0,
          0,
          0,
          0,
          0,
          0,
          0,
          0,
          0,
          0,
          0,
          0,
          0,
          0,
          0,
          0,
          0,
          0,
          0,
          0,
          0,
          0,
          0,
          0,
          0,
          0,
          0,
          0,
          0,
          0,
          0,
          0,
          0,
          0,
          0,
          0,
          0,
          0,
          0,
          0,
          0,
          0,
          0,
          0,
          0,
          0,
          0,
          0,
          0,
          0,
          0,
          0,
          0,
          0,
          0,
          0,
          0,
          0,
          0,
          0,
          0,
          0,
          0,
          0,
          0,
          0,
          0,
          0,
          0,
          0,
          0,
          0,
          0,
          0,
          0,
          0,
          0,
          0,
          0,
          0,
          0,
          0,
          0,
          0,
          0,
          0,
          0,
          0,
          0,
          0,
          0,
          0,
          0,
          0,
          0,
          0,
          0,
          0,
          0,
          0,
          0,
          0,
          0,
          0,
          0,
          0,
          0
         ]
        },
        {
         "mode": "lines",
         "name": "KNN",
         "type": "scatter",
         "y": [
          0,
          0,
          0,
          0,
          0,
          0,
          0,
          0,
          0,
          0,
          0,
          0,
          0,
          0,
          0,
          0,
          0,
          0,
          0,
          0,
          0,
          0,
          0,
          0,
          0,
          0,
          0,
          0,
          0,
          0,
          0,
          0,
          0,
          0,
          0,
          0,
          0,
          0,
          0,
          0,
          0,
          0,
          0,
          0,
          0,
          0,
          0,
          0,
          0,
          0,
          0,
          0,
          0,
          0,
          0,
          0,
          0,
          0,
          0,
          0,
          0,
          0,
          0,
          0,
          0,
          0,
          0,
          0,
          0,
          0,
          0,
          0,
          0,
          0,
          0,
          0,
          0,
          0,
          0,
          0,
          0,
          0,
          0,
          0,
          0,
          0,
          0,
          0,
          0,
          0,
          0,
          0,
          0,
          0,
          0,
          0,
          0,
          0,
          0,
          0,
          0,
          0,
          0,
          0,
          0,
          0,
          0,
          0,
          0,
          0,
          0,
          0,
          0,
          0,
          0,
          0,
          0,
          0,
          0,
          0,
          0,
          0,
          0,
          0,
          0,
          0,
          0,
          0,
          0,
          0,
          0,
          0,
          0,
          0,
          0,
          0,
          0,
          0,
          0,
          0,
          0,
          0,
          0,
          0,
          0,
          0,
          0,
          0,
          0,
          0,
          0,
          0,
          0,
          0,
          0,
          0,
          0,
          0,
          0,
          0,
          0,
          0,
          0,
          0,
          0,
          0,
          0,
          0,
          0,
          0,
          0,
          0,
          0,
          0,
          0,
          0,
          0,
          0,
          0,
          0,
          0,
          0,
          0,
          0,
          0,
          0,
          0,
          0,
          0,
          0,
          0,
          0,
          0,
          0,
          0,
          0,
          0,
          0,
          0,
          0,
          0,
          0,
          0,
          0,
          0,
          0,
          0,
          0,
          0,
          0,
          0,
          0,
          0,
          0,
          0,
          0,
          0,
          0,
          0,
          0,
          0,
          0,
          0,
          0,
          0,
          0
         ]
        },
        {
         "mode": "lines",
         "name": "BH",
         "type": "scatter",
         "y": [
          100,
          102.09424083769633,
          101.57068062827226,
          101.04712041884815,
          102.61780104712042,
          97.90575916230367,
          103.1413612565445,
          104.71204188481676,
          103.66492146596859,
          105.75916230366491,
          103.1413612565445,
          102.61780104712042,
          103.1413612565445,
          101.04712041884815,
          103.66492146596859,
          104.71204188481676,
          103.66492146596859,
          104.71204188481676,
          103.1413612565445,
          107.85340314136124,
          107.85340314136124,
          108.37696335078535,
          106.28272251308901,
          107.32984293193716,
          104.18848167539268,
          100,
          100,
          101.57068062827226,
          102.61780104712042,
          101.04712041884815,
          104.71204188481676,
          105.23560209424083,
          98.95287958115183,
          103.1413612565445,
          99.47643979057592,
          98.95287958115183,
          95.81151832460732,
          97.38219895287958,
          98.42931937172776,
          98.42931937172776,
          101.04712041884815,
          102.09424083769633,
          101.57068062827226,
          101.04712041884815,
          103.66492146596859,
          101.04712041884815,
          101.57068062827226,
          101.57068062827226,
          100.52356020942408,
          100.52356020942408,
          100.52356020942408,
          100.52356020942408,
          101.57068062827226,
          101.04712041884815,
          101.57068062827226,
          101.57068062827226,
          101.57068062827226,
          104.71204188481676,
          103.1413612565445,
          104.18848167539268,
          104.18848167539268,
          105.75916230366491,
          106.28272251308901,
          105.23560209424083,
          105.23560209424083,
          106.80628272251309,
          108.90052356020942,
          107.32984293193716,
          107.85340314136124,
          107.85340314136124,
          105.75916230366491,
          104.71204188481676,
          104.71204188481676,
          106.80628272251309,
          106.28272251308901,
          107.85340314136124,
          107.85340314136124,
          107.32984293193716,
          104.71204188481676,
          106.28272251308901,
          108.37696335078535,
          109.42408376963351,
          108.90052356020942,
          108.90052356020942,
          108.90052356020942,
          108.90052356020942,
          108.37696335078535,
          109.94764397905759,
          110.47120418848169,
          113.0890052356021,
          113.0890052356021,
          115.70680628272252,
          115.18324607329843,
          117.27748691099475,
          116.2303664921466,
          114.13612565445025,
          115.70680628272252,
          114.13612565445025,
          115.18324607329843,
          113.61256544502618,
          114.65968586387434,
          116.75392670157068,
          118.32460732984293,
          116.75392670157068,
          116.75392670157068,
          118.32460732984293,
          116.2303664921466,
          115.18324607329843,
          115.18324607329843,
          116.2303664921466,
          116.2303664921466,
          119.89528795811519,
          120.41884816753927,
          116.75392670157068,
          110.47120418848169,
          112.565445026178,
          115.18324607329843,
          113.61256544502618,
          112.565445026178,
          113.0890052356021,
          114.65968586387434,
          117.27748691099475,
          119.89528795811519,
          120.41884816753927,
          117.80104712041886,
          117.27748691099475,
          118.32460732984293,
          117.27748691099475,
          118.84816753926701,
          117.27748691099475,
          117.27748691099475,
          116.2303664921466,
          115.18324607329843,
          115.70680628272252,
          115.70680628272252,
          116.75392670157068,
          114.65968586387434,
          113.61256544502618,
          115.18324607329843,
          115.18324607329843,
          112.04188481675392,
          110.99476439790577,
          113.0890052356021,
          113.0890052356021,
          114.65968586387434,
          116.2303664921466,
          115.18324607329843,
          116.75392670157068,
          118.32460732984293,
          116.2303664921466,
          116.2303664921466,
          115.18324607329843,
          113.0890052356021,
          108.37696335078535,
          103.1413612565445,
          104.18848167539268,
          103.1413612565445,
          103.66492146596859,
          104.71204188481676,
          107.85340314136124,
          107.85340314136124,
          107.85340314136124,
          106.28272251308901,
          104.18848167539268,
          105.23560209424083,
          104.18848167539268,
          103.66492146596859,
          103.1413612565445,
          103.1413612565445,
          104.71204188481676,
          104.18848167539268,
          104.18848167539268,
          105.75916230366491,
          104.71204188481676,
          103.66492146596859,
          102.09424083769633,
          101.04712041884815,
          101.04712041884815,
          100.52356020942408,
          98.95287958115183,
          97.90575916230367,
          96.8586387434555,
          96.33507853403141,
          96.8586387434555,
          98.42931937172776,
          103.66492146596859,
          101.04712041884815,
          102.61780104712042,
          101.57068062827226,
          98.95287958115183,
          97.90575916230367,
          98.95287958115183,
          98.42931937172776,
          94.76439790575915,
          93.19371727748691,
          93.717277486911,
          95.81151832460732,
          95.28795811518324,
          94.24083769633508,
          94.24083769633508,
          93.19371727748691,
          91.62303664921467,
          91.62303664921467,
          93.717277486911,
          97.38219895287958,
          98.95287958115183,
          97.90575916230367,
          95.28795811518324,
          96.8586387434555,
          96.8586387434555,
          96.8586387434555,
          98.42931937172776,
          97.38219895287958,
          101.57068062827226,
          89.00523560209425,
          85.86387434554975,
          90.0523560209424,
          88.48167539267016,
          89.52879581151832,
          91.62303664921467,
          90.57591623036649,
          92.67015706806284,
          93.717277486911,
          96.8586387434555,
          98.95287958115183,
          98.95287958115183
         ]
        }
       ],
       "layout": {
        "template": {
         "data": {
          "bar": [
           {
            "error_x": {
             "color": "#2a3f5f"
            },
            "error_y": {
             "color": "#2a3f5f"
            },
            "marker": {
             "line": {
              "color": "#E5ECF6",
              "width": 0.5
             },
             "pattern": {
              "fillmode": "overlay",
              "size": 10,
              "solidity": 0.2
             }
            },
            "type": "bar"
           }
          ],
          "barpolar": [
           {
            "marker": {
             "line": {
              "color": "#E5ECF6",
              "width": 0.5
             },
             "pattern": {
              "fillmode": "overlay",
              "size": 10,
              "solidity": 0.2
             }
            },
            "type": "barpolar"
           }
          ],
          "carpet": [
           {
            "aaxis": {
             "endlinecolor": "#2a3f5f",
             "gridcolor": "white",
             "linecolor": "white",
             "minorgridcolor": "white",
             "startlinecolor": "#2a3f5f"
            },
            "baxis": {
             "endlinecolor": "#2a3f5f",
             "gridcolor": "white",
             "linecolor": "white",
             "minorgridcolor": "white",
             "startlinecolor": "#2a3f5f"
            },
            "type": "carpet"
           }
          ],
          "choropleth": [
           {
            "colorbar": {
             "outlinewidth": 0,
             "ticks": ""
            },
            "type": "choropleth"
           }
          ],
          "contour": [
           {
            "colorbar": {
             "outlinewidth": 0,
             "ticks": ""
            },
            "colorscale": [
             [
              0,
              "#0d0887"
             ],
             [
              0.1111111111111111,
              "#46039f"
             ],
             [
              0.2222222222222222,
              "#7201a8"
             ],
             [
              0.3333333333333333,
              "#9c179e"
             ],
             [
              0.4444444444444444,
              "#bd3786"
             ],
             [
              0.5555555555555556,
              "#d8576b"
             ],
             [
              0.6666666666666666,
              "#ed7953"
             ],
             [
              0.7777777777777778,
              "#fb9f3a"
             ],
             [
              0.8888888888888888,
              "#fdca26"
             ],
             [
              1,
              "#f0f921"
             ]
            ],
            "type": "contour"
           }
          ],
          "contourcarpet": [
           {
            "colorbar": {
             "outlinewidth": 0,
             "ticks": ""
            },
            "type": "contourcarpet"
           }
          ],
          "heatmap": [
           {
            "colorbar": {
             "outlinewidth": 0,
             "ticks": ""
            },
            "colorscale": [
             [
              0,
              "#0d0887"
             ],
             [
              0.1111111111111111,
              "#46039f"
             ],
             [
              0.2222222222222222,
              "#7201a8"
             ],
             [
              0.3333333333333333,
              "#9c179e"
             ],
             [
              0.4444444444444444,
              "#bd3786"
             ],
             [
              0.5555555555555556,
              "#d8576b"
             ],
             [
              0.6666666666666666,
              "#ed7953"
             ],
             [
              0.7777777777777778,
              "#fb9f3a"
             ],
             [
              0.8888888888888888,
              "#fdca26"
             ],
             [
              1,
              "#f0f921"
             ]
            ],
            "type": "heatmap"
           }
          ],
          "heatmapgl": [
           {
            "colorbar": {
             "outlinewidth": 0,
             "ticks": ""
            },
            "colorscale": [
             [
              0,
              "#0d0887"
             ],
             [
              0.1111111111111111,
              "#46039f"
             ],
             [
              0.2222222222222222,
              "#7201a8"
             ],
             [
              0.3333333333333333,
              "#9c179e"
             ],
             [
              0.4444444444444444,
              "#bd3786"
             ],
             [
              0.5555555555555556,
              "#d8576b"
             ],
             [
              0.6666666666666666,
              "#ed7953"
             ],
             [
              0.7777777777777778,
              "#fb9f3a"
             ],
             [
              0.8888888888888888,
              "#fdca26"
             ],
             [
              1,
              "#f0f921"
             ]
            ],
            "type": "heatmapgl"
           }
          ],
          "histogram": [
           {
            "marker": {
             "pattern": {
              "fillmode": "overlay",
              "size": 10,
              "solidity": 0.2
             }
            },
            "type": "histogram"
           }
          ],
          "histogram2d": [
           {
            "colorbar": {
             "outlinewidth": 0,
             "ticks": ""
            },
            "colorscale": [
             [
              0,
              "#0d0887"
             ],
             [
              0.1111111111111111,
              "#46039f"
             ],
             [
              0.2222222222222222,
              "#7201a8"
             ],
             [
              0.3333333333333333,
              "#9c179e"
             ],
             [
              0.4444444444444444,
              "#bd3786"
             ],
             [
              0.5555555555555556,
              "#d8576b"
             ],
             [
              0.6666666666666666,
              "#ed7953"
             ],
             [
              0.7777777777777778,
              "#fb9f3a"
             ],
             [
              0.8888888888888888,
              "#fdca26"
             ],
             [
              1,
              "#f0f921"
             ]
            ],
            "type": "histogram2d"
           }
          ],
          "histogram2dcontour": [
           {
            "colorbar": {
             "outlinewidth": 0,
             "ticks": ""
            },
            "colorscale": [
             [
              0,
              "#0d0887"
             ],
             [
              0.1111111111111111,
              "#46039f"
             ],
             [
              0.2222222222222222,
              "#7201a8"
             ],
             [
              0.3333333333333333,
              "#9c179e"
             ],
             [
              0.4444444444444444,
              "#bd3786"
             ],
             [
              0.5555555555555556,
              "#d8576b"
             ],
             [
              0.6666666666666666,
              "#ed7953"
             ],
             [
              0.7777777777777778,
              "#fb9f3a"
             ],
             [
              0.8888888888888888,
              "#fdca26"
             ],
             [
              1,
              "#f0f921"
             ]
            ],
            "type": "histogram2dcontour"
           }
          ],
          "mesh3d": [
           {
            "colorbar": {
             "outlinewidth": 0,
             "ticks": ""
            },
            "type": "mesh3d"
           }
          ],
          "parcoords": [
           {
            "line": {
             "colorbar": {
              "outlinewidth": 0,
              "ticks": ""
             }
            },
            "type": "parcoords"
           }
          ],
          "pie": [
           {
            "automargin": true,
            "type": "pie"
           }
          ],
          "scatter": [
           {
            "fillpattern": {
             "fillmode": "overlay",
             "size": 10,
             "solidity": 0.2
            },
            "type": "scatter"
           }
          ],
          "scatter3d": [
           {
            "line": {
             "colorbar": {
              "outlinewidth": 0,
              "ticks": ""
             }
            },
            "marker": {
             "colorbar": {
              "outlinewidth": 0,
              "ticks": ""
             }
            },
            "type": "scatter3d"
           }
          ],
          "scattercarpet": [
           {
            "marker": {
             "colorbar": {
              "outlinewidth": 0,
              "ticks": ""
             }
            },
            "type": "scattercarpet"
           }
          ],
          "scattergeo": [
           {
            "marker": {
             "colorbar": {
              "outlinewidth": 0,
              "ticks": ""
             }
            },
            "type": "scattergeo"
           }
          ],
          "scattergl": [
           {
            "marker": {
             "colorbar": {
              "outlinewidth": 0,
              "ticks": ""
             }
            },
            "type": "scattergl"
           }
          ],
          "scattermapbox": [
           {
            "marker": {
             "colorbar": {
              "outlinewidth": 0,
              "ticks": ""
             }
            },
            "type": "scattermapbox"
           }
          ],
          "scatterpolar": [
           {
            "marker": {
             "colorbar": {
              "outlinewidth": 0,
              "ticks": ""
             }
            },
            "type": "scatterpolar"
           }
          ],
          "scatterpolargl": [
           {
            "marker": {
             "colorbar": {
              "outlinewidth": 0,
              "ticks": ""
             }
            },
            "type": "scatterpolargl"
           }
          ],
          "scatterternary": [
           {
            "marker": {
             "colorbar": {
              "outlinewidth": 0,
              "ticks": ""
             }
            },
            "type": "scatterternary"
           }
          ],
          "surface": [
           {
            "colorbar": {
             "outlinewidth": 0,
             "ticks": ""
            },
            "colorscale": [
             [
              0,
              "#0d0887"
             ],
             [
              0.1111111111111111,
              "#46039f"
             ],
             [
              0.2222222222222222,
              "#7201a8"
             ],
             [
              0.3333333333333333,
              "#9c179e"
             ],
             [
              0.4444444444444444,
              "#bd3786"
             ],
             [
              0.5555555555555556,
              "#d8576b"
             ],
             [
              0.6666666666666666,
              "#ed7953"
             ],
             [
              0.7777777777777778,
              "#fb9f3a"
             ],
             [
              0.8888888888888888,
              "#fdca26"
             ],
             [
              1,
              "#f0f921"
             ]
            ],
            "type": "surface"
           }
          ],
          "table": [
           {
            "cells": {
             "fill": {
              "color": "#EBF0F8"
             },
             "line": {
              "color": "white"
             }
            },
            "header": {
             "fill": {
              "color": "#C8D4E3"
             },
             "line": {
              "color": "white"
             }
            },
            "type": "table"
           }
          ]
         },
         "layout": {
          "annotationdefaults": {
           "arrowcolor": "#2a3f5f",
           "arrowhead": 0,
           "arrowwidth": 1
          },
          "autotypenumbers": "strict",
          "coloraxis": {
           "colorbar": {
            "outlinewidth": 0,
            "ticks": ""
           }
          },
          "colorscale": {
           "diverging": [
            [
             0,
             "#8e0152"
            ],
            [
             0.1,
             "#c51b7d"
            ],
            [
             0.2,
             "#de77ae"
            ],
            [
             0.3,
             "#f1b6da"
            ],
            [
             0.4,
             "#fde0ef"
            ],
            [
             0.5,
             "#f7f7f7"
            ],
            [
             0.6,
             "#e6f5d0"
            ],
            [
             0.7,
             "#b8e186"
            ],
            [
             0.8,
             "#7fbc41"
            ],
            [
             0.9,
             "#4d9221"
            ],
            [
             1,
             "#276419"
            ]
           ],
           "sequential": [
            [
             0,
             "#0d0887"
            ],
            [
             0.1111111111111111,
             "#46039f"
            ],
            [
             0.2222222222222222,
             "#7201a8"
            ],
            [
             0.3333333333333333,
             "#9c179e"
            ],
            [
             0.4444444444444444,
             "#bd3786"
            ],
            [
             0.5555555555555556,
             "#d8576b"
            ],
            [
             0.6666666666666666,
             "#ed7953"
            ],
            [
             0.7777777777777778,
             "#fb9f3a"
            ],
            [
             0.8888888888888888,
             "#fdca26"
            ],
            [
             1,
             "#f0f921"
            ]
           ],
           "sequentialminus": [
            [
             0,
             "#0d0887"
            ],
            [
             0.1111111111111111,
             "#46039f"
            ],
            [
             0.2222222222222222,
             "#7201a8"
            ],
            [
             0.3333333333333333,
             "#9c179e"
            ],
            [
             0.4444444444444444,
             "#bd3786"
            ],
            [
             0.5555555555555556,
             "#d8576b"
            ],
            [
             0.6666666666666666,
             "#ed7953"
            ],
            [
             0.7777777777777778,
             "#fb9f3a"
            ],
            [
             0.8888888888888888,
             "#fdca26"
            ],
            [
             1,
             "#f0f921"
            ]
           ]
          },
          "colorway": [
           "#636efa",
           "#EF553B",
           "#00cc96",
           "#ab63fa",
           "#FFA15A",
           "#19d3f3",
           "#FF6692",
           "#B6E880",
           "#FF97FF",
           "#FECB52"
          ],
          "font": {
           "color": "#2a3f5f"
          },
          "geo": {
           "bgcolor": "white",
           "lakecolor": "white",
           "landcolor": "#E5ECF6",
           "showlakes": true,
           "showland": true,
           "subunitcolor": "white"
          },
          "hoverlabel": {
           "align": "left"
          },
          "hovermode": "closest",
          "mapbox": {
           "style": "light"
          },
          "paper_bgcolor": "white",
          "plot_bgcolor": "#E5ECF6",
          "polar": {
           "angularaxis": {
            "gridcolor": "white",
            "linecolor": "white",
            "ticks": ""
           },
           "bgcolor": "#E5ECF6",
           "radialaxis": {
            "gridcolor": "white",
            "linecolor": "white",
            "ticks": ""
           }
          },
          "scene": {
           "xaxis": {
            "backgroundcolor": "#E5ECF6",
            "gridcolor": "white",
            "gridwidth": 2,
            "linecolor": "white",
            "showbackground": true,
            "ticks": "",
            "zerolinecolor": "white"
           },
           "yaxis": {
            "backgroundcolor": "#E5ECF6",
            "gridcolor": "white",
            "gridwidth": 2,
            "linecolor": "white",
            "showbackground": true,
            "ticks": "",
            "zerolinecolor": "white"
           },
           "zaxis": {
            "backgroundcolor": "#E5ECF6",
            "gridcolor": "white",
            "gridwidth": 2,
            "linecolor": "white",
            "showbackground": true,
            "ticks": "",
            "zerolinecolor": "white"
           }
          },
          "shapedefaults": {
           "line": {
            "color": "#2a3f5f"
           }
          },
          "ternary": {
           "aaxis": {
            "gridcolor": "white",
            "linecolor": "white",
            "ticks": ""
           },
           "baxis": {
            "gridcolor": "white",
            "linecolor": "white",
            "ticks": ""
           },
           "bgcolor": "#E5ECF6",
           "caxis": {
            "gridcolor": "white",
            "linecolor": "white",
            "ticks": ""
           }
          },
          "title": {
           "x": 0.05
          },
          "xaxis": {
           "automargin": true,
           "gridcolor": "white",
           "linecolor": "white",
           "ticks": "",
           "title": {
            "standoff": 15
           },
           "zerolinecolor": "white",
           "zerolinewidth": 2
          },
          "yaxis": {
           "automargin": true,
           "gridcolor": "white",
           "linecolor": "white",
           "ticks": "",
           "title": {
            "standoff": 15
           },
           "zerolinecolor": "white",
           "zerolinewidth": 2
          }
         }
        }
       }
      }
     },
     "metadata": {},
     "output_type": "display_data"
    }
   ],
   "source": [
    "fig = go.Figure([DE , SVM , LO , KNN , BH])\n",
    "fig.show()"
   ]
  },
  {
   "cell_type": "code",
   "execution_count": 63,
   "metadata": {},
   "outputs": [
    {
     "name": "stdout",
     "output_type": "stream",
     "text": [
      "DE Growth -2.9036827195467367 %\n",
      "SVM Growth -6.469002695417785 %\n",
      "LOGISTIC Growth -100 %\n",
      "KNN Growth -100 %\n",
      "BH Growth -1.0471204188481664 %\n"
     ]
    }
   ],
   "source": [
    "print(f'DE Growth {de_lst[-1]-100} %')\n",
    "print(f'SVM Growth {svm_lst[-1]-100} %')\n",
    "print(f'LOGISTIC Growth {lo_lst[-1]-100} %')\n",
    "print(f'KNN Growth {knn_lst[-1]-100} %')\n",
    "print(f'BH Growth {bh_lst[-1]-100} %')"
   ]
  }
 ],
 "metadata": {
  "kernelspec": {
   "display_name": "Python 3",
   "language": "python",
   "name": "python3"
  },
  "language_info": {
   "codemirror_mode": {
    "name": "ipython",
    "version": 3
   },
   "file_extension": ".py",
   "mimetype": "text/x-python",
   "name": "python",
   "nbconvert_exporter": "python",
   "pygments_lexer": "ipython3",
   "version": "3.10.11"
  }
 },
 "nbformat": 4,
 "nbformat_minor": 2
}
