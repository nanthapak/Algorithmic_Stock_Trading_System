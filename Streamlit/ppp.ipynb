{
 "cells": [
  {
   "cell_type": "code",
   "execution_count": 4,
   "id": "ae698cf4-f22f-4659-a54f-4f98dd999ff0",
   "metadata": {},
   "outputs": [],
   "source": [
    "def findindi(Name,RN):\n",
    "    import datetime\n",
    "    from datetime import date\n",
    "    from datetime import timedelta\n",
    "    import pandas_datareader.data as web\n",
    "    import matplotlib.pyplot as plt\n",
    "    import numpy as np\n",
    "    import talib as ta\n",
    "    import pandas as pd\n",
    "    import yfinance as yf\n",
    "    global df_signal\n",
    "    \n",
    "    yesterday = date.today() - timedelta(hours = 12 )\n",
    "    yesterday=str(yesterday)\n",
    "    \n",
    "    Eyear = int(yesterday[:4])\n",
    "    Emonth = int(yesterday[5:7])\n",
    "    Eday = int(yesterday[8:10])\n",
    "    Syear=2016\n",
    "    Smonth=1\n",
    "    Sday=2\n",
    "    Sdate =\"%s-%s-%s\" % (Syear,Smonth,Sday)\n",
    "    Edate =\"%s-%s-%s\" % (Eyear,Emonth,Eday)\n",
    "    Byear = Syear-1\n",
    "    start=datetime.datetime(Syear,Smonth,Sday)\n",
    "    end=datetime.datetime(Eyear,Emonth,Eday)\n",
    "    Stockdata=yf.download(Name,start,end)\n",
    "    dfa1=Stockdata\n",
    "\n",
    "    start=datetime.datetime(Byear,Smonth,Sday)\n",
    "    end=datetime.datetime(Eyear,Emonth,Eday)\n",
    "    Stockdata=yf.download(Name,start,end)\n",
    "    dfa1_all=Stockdata\n",
    "\n",
    "    MA30=ta.MA(dfa1_all['Close'], timeperiod=30, matype=0)\n",
    "    MA30=MA30.loc[Sdate:Edate]\n",
    "    MA30=MA30.array\n",
    "    dfa1['MA30']=MA30\n",
    "\n",
    "    MA50=ta.MA(dfa1_all['Close'], timeperiod=50, matype=0)\n",
    "    MA50=MA50.loc[Sdate:Edate]\n",
    "    MA50=MA50.array\n",
    "    dfa1['MA50']=MA50\n",
    "\n",
    "    MA200=ta.MA(dfa1_all['Close'], timeperiod=200, matype=0)\n",
    "    MA200=MA200.loc[Sdate:Edate]\n",
    "    MA200=MA200.array\n",
    "    dfa1['MA200']=MA200\n",
    "    \n",
    "    #ma30_200_signal\n",
    "    prices = dfa1['Open']\n",
    "    buy_price = []\n",
    "    sell_price = []\n",
    "    ma30_200_signal = []\n",
    "    signal = 0\n",
    "    \n",
    "    for i in range(len(dfa1)):\n",
    "        if dfa1['MA30'][i] > dfa1['MA200'][i]:\n",
    "            if signal != 1:\n",
    "                buy_price.append(prices[i])\n",
    "                sell_price.append(np.nan)\n",
    "                signal = 1\n",
    "                ma30_200_signal.append(signal)\n",
    "            else:\n",
    "                buy_price.append(np.nan)\n",
    "                sell_price.append(np.nan)\n",
    "                ma30_200_signal.append(0)\n",
    "        elif dfa1['MA30'][i] < dfa1['MA200'][i]:\n",
    "            if signal != -1:\n",
    "                buy_price.append(np.nan)\n",
    "                sell_price.append(prices[i])\n",
    "                signal = -1\n",
    "                ma30_200_signal.append(signal)\n",
    "            else:\n",
    "                buy_price.append(np.nan)\n",
    "                sell_price.append(np.nan)\n",
    "                ma30_200_signal.append(0)\n",
    "        else:\n",
    "            buy_price.append(np.nan)\n",
    "            sell_price.append(np.nan)\n",
    "            ma30_200_signal.append(0)\n",
    "    #ma50_200_signal\n",
    "    buy_price = []\n",
    "    sell_price = []\n",
    "    ma50_200_signal = []\n",
    "    signal = 0\n",
    "\n",
    "    for i in range(len(dfa1)):\n",
    "        if dfa1['MA50'][i] > dfa1['MA200'][i]:\n",
    "            if signal != 1:\n",
    "                buy_price.append(prices[i])\n",
    "                sell_price.append(np.nan)\n",
    "                signal = 1\n",
    "                ma50_200_signal.append(signal)\n",
    "            else:\n",
    "                buy_price.append(np.nan)\n",
    "                sell_price.append(np.nan)\n",
    "                ma50_200_signal.append(0)\n",
    "        elif dfa1['MA50'][i] < dfa1['MA200'][i]:\n",
    "            if signal != -1:\n",
    "                buy_price.append(np.nan)\n",
    "                sell_price.append(prices[i])\n",
    "                signal = -1\n",
    "                ma50_200_signal.append(signal)\n",
    "            else:\n",
    "                buy_price.append(np.nan)\n",
    "                sell_price.append(np.nan)\n",
    "                ma50_200_signal.append(0)\n",
    "        else:\n",
    "            buy_price.append(np.nan)\n",
    "            sell_price.append(np.nan)\n",
    "            ma50_200_signal.append(0)    \n",
    "    #3\n",
    "    #ma30_50_signal\n",
    "    buy_price = []\n",
    "    sell_price = []\n",
    "    ma30_50_signal = []\n",
    "    signal = 0        \n",
    "    for i in range(len(dfa1)):\n",
    "        if dfa1['MA30'][i] > dfa1['MA50'][i]:\n",
    "            if signal != 1:\n",
    "                buy_price.append(prices[i])\n",
    "                sell_price.append(np.nan)\n",
    "                signal = 1\n",
    "                ma30_50_signal.append(signal)\n",
    "            else:\n",
    "                buy_price.append(np.nan)\n",
    "                sell_price.append(np.nan)\n",
    "                ma30_50_signal.append(0)\n",
    "        elif dfa1['MA30'][i] < dfa1['MA50'][i]:\n",
    "            if signal != -1:\n",
    "                buy_price.append(np.nan)\n",
    "                sell_price.append(prices[i])\n",
    "                signal = -1\n",
    "                ma30_50_signal.append(signal)\n",
    "            else:\n",
    "                buy_price.append(np.nan)\n",
    "                sell_price.append(np.nan)\n",
    "                ma30_50_signal.append(0)\n",
    "        else:\n",
    "            buy_price.append(np.nan)\n",
    "            sell_price.append(np.nan)\n",
    "            ma30_50_signal.append(0)\n",
    "       #4       \n",
    "    obv = ta.OBV(dfa1_all[\"Close\"], dfa1_all[\"Volume\"])\n",
    "    obv_mean=obv.rolling(20).mean()\n",
    "    obv_mean=obv_mean.loc[Sdate:Edate]\n",
    "    obv=obv.loc[Sdate:Edate]\n",
    "    \n",
    "    obv_signal = []\n",
    "    signal = 0\n",
    "    for i in range(len(obv_mean)):\n",
    "        if obv[i] > obv_mean[i]:\n",
    "            if signal != 1:\n",
    "                signal = 1\n",
    "                obv_signal.append(signal)\n",
    "            else:\n",
    "                obv_signal.append(0)\n",
    "        elif obv[i] < obv_mean[i]:\n",
    "            if signal != -1:\n",
    "                signal = -1\n",
    "                obv_signal.append(signal)\n",
    "            else:\n",
    "                obv_signal.append(0)\n",
    "        else:\n",
    "            obv_signal.append(0)\n",
    "  \n",
    "\n",
    "    #5\n",
    "    macd, macdsignal, macdhist = ta.MACD(dfa1['Close'], fastperiod=12, slowperiod=26, signalperiod=9)\n",
    "    MACD=macd.loc[Sdate:Edate]\n",
    "    dfa1['MACD']=MACD\n",
    "    dfa1['macdsignal']=macdsignal\n",
    "    dfa1['macdhist']=macdhist\n",
    "\n",
    "    data=dfa1\n",
    "    prices=dfa1['Open']\n",
    "    buy_price = []\n",
    "    sell_price = []\n",
    "    macd_signal = []\n",
    "    signal = 0\n",
    "\n",
    "    for i in range(len(data)):\n",
    "        if data['MACD'][i] > data['macdsignal'][i]:\n",
    "            if signal != 1:\n",
    "                buy_price.append(prices[i])\n",
    "                sell_price.append(np.nan)\n",
    "                signal = 1\n",
    "                macd_signal.append(signal)\n",
    "            else:\n",
    "                buy_price.append(np.nan)\n",
    "                sell_price.append(np.nan)\n",
    "                macd_signal.append(0)\n",
    "        elif data['MACD'][i] < data['macdsignal'][i]:\n",
    "            if signal != -1:\n",
    "                buy_price.append(np.nan)\n",
    "                sell_price.append(prices[i])\n",
    "                signal = -1\n",
    "                macd_signal.append(signal)\n",
    "            else:\n",
    "                buy_price.append(np.nan)\n",
    "                sell_price.append(np.nan)\n",
    "                macd_signal.append(0)\n",
    "        else:\n",
    "            buy_price.append(np.nan)\n",
    "            sell_price.append(np.nan)\n",
    "            macd_signal.append(0)\n",
    "      #6      \n",
    "    ADX=ta.ADX(dfa1_all['High'], dfa1_all['Low'], dfa1_all['Close'], timeperiod=14)\n",
    "    ADX=ADX.loc[Sdate:Edate]\n",
    "    ADX=ADX.array\n",
    "    dfa1['ADX']=ADX\n",
    "    \n",
    "    plus_DMI = ta.PLUS_DM(dfa1_all['High'], dfa1_all['Low'], timeperiod=14)\n",
    "    minus_DMI= ta.MINUS_DM(dfa1_all['High'], dfa1_all['Low'], timeperiod=14)\n",
    "    plus_DMI=plus_DMI.loc[Sdate:Edate]\n",
    "    minus_DMI=minus_DMI.loc[Sdate:Edate]\n",
    "    plus_DMI=plus_DMI.array\n",
    "    minus_DMI=minus_DMI.array\n",
    "    dfa1['plus_DMI']=plus_DMI\n",
    "    dfa1['minus_DMI']=minus_DMI\n",
    "    \n",
    "    prices, pdi, ndi, adx=dfa1['Close'], dfa1['plus_DMI'], dfa1['minus_DMI'], dfa1['ADX']\n",
    "    buy_price = []\n",
    "    sell_price = []\n",
    "    adx_signal = []\n",
    "    signal = 0\n",
    "    \n",
    "    for i in range(len(prices)):\n",
    "        if adx[i-1] < 25 and adx[i] > 25 and pdi[i] > ndi[i]:\n",
    "            if signal != 1:\n",
    "                buy_price.append(prices[i])\n",
    "                sell_price.append(np.nan)\n",
    "                signal = 1\n",
    "                adx_signal.append(signal)\n",
    "            else:\n",
    "                buy_price.append(np.nan)\n",
    "                sell_price.append(np.nan)\n",
    "                adx_signal.append(0)\n",
    "        elif adx[i-1] < 25 and adx[i] > 25 and ndi[i] > pdi[i]:\n",
    "            if signal != -1:\n",
    "                buy_price.append(np.nan)\n",
    "                sell_price.append(prices[i])\n",
    "                signal = -1\n",
    "                adx_signal.append(signal)\n",
    "            else:\n",
    "                buy_price.append(np.nan)\n",
    "                sell_price.append(np.nan)\n",
    "                adx_signal.append(0)\n",
    "        else:\n",
    "            buy_price.append(np.nan)\n",
    "            sell_price.append(np.nan)\n",
    "            adx_signal.append(0)\n",
    "      #7\n",
    "    roc = ta.ROC(dfa1_all[\"Close\"], timeperiod=10)\n",
    "    roc=roc.loc[Sdate:Edate]\n",
    "    data=roc\n",
    "    roc_signal = []\n",
    "    signal = 0\n",
    "    for i in range(len(data)):\n",
    "        if data[i] > 0:\n",
    "            if signal != 1:\n",
    "                signal = 1\n",
    "                roc_signal.append(signal)\n",
    "            else:\n",
    "                roc_signal.append(0)\n",
    "        elif data[i] < 0:\n",
    "            if signal != -1:\n",
    "                signal = -1\n",
    "                roc_signal.append(signal)\n",
    "            else:\n",
    "                roc_signal.append(0)\n",
    "        else:\n",
    "            roc_signal.append(0)\n",
    "    #8\n",
    "\n",
    "    ohlc4=(dfa1_all['Close']+dfa1_all['Low']+dfa1_all['High']+dfa1_all['Open'])/4\n",
    "\n",
    "    EMA2=ta.EMA(ohlc4, timeperiod=2)\n",
    "    EMA26=ta.EMA(EMA2, timeperiod=26)\n",
    "    EMA12=ta.EMA(EMA2, timeperiod=12)\n",
    "\n",
    "    EMA26=EMA26.loc[Sdate:Edate]\n",
    "    EMA26=EMA26.array\n",
    "    dfa1['EMA26']=EMA26\n",
    "\n",
    "    EMA12=EMA12.loc[Sdate:Edate]\n",
    "    EMA12=EMA12.array\n",
    "    dfa1['EMA12']=EMA12\n",
    "\n",
    "    EMA2=EMA2.loc[Sdate:Edate]\n",
    "    EMA2=EMA2.array\n",
    "    dfa1['EMA2']=EMA2\n",
    "\n",
    "    ohlc4=ohlc4.loc[Sdate:Edate]\n",
    "    ohlc4=ohlc4.array\n",
    "    dfa1['ohlc4']=ohlc4\n",
    "    fastslow = []\n",
    "    for i in range(len(dfa1)):\n",
    "        if dfa1['EMA12'][i] > dfa1['EMA26'][i]:\n",
    "            fastslow.append(1)\n",
    "        elif dfa1['EMA26'][i] > dfa1['EMA12'][i]:\n",
    "            fastslow.append(-1)\n",
    "        else:\n",
    "            fastslow.append(0)\n",
    "\n",
    "    color = []\n",
    "    for i in range(len(dfa1)):\n",
    "        if fastslow[i] == 1 and dfa1['EMA2'][i] > dfa1['EMA12'][i]:\n",
    "            color.append(1) \n",
    "        elif fastslow[i] == -1 and dfa1['EMA2'][i] > dfa1['EMA12'][i]:\n",
    "            color.append(0.5)\n",
    "        elif fastslow[i] == -1 and dfa1['EMA2'][i] < dfa1['EMA12'][i]:\n",
    "            color.append(-1) \n",
    "        elif fastslow[i] == 1 and dfa1['EMA2'][i] < dfa1['EMA12'][i]:\n",
    "            color.append(-0.5) \n",
    "        else:\n",
    "            color.append(0)\n",
    "    \n",
    "    signal=0\n",
    "    cdc_signal=[]\n",
    "    for i in range (len(color)):\n",
    "        if color[i] == 1:\n",
    "            if signal != 1:\n",
    "                signal = 1\n",
    "                cdc_signal.append(signal)\n",
    "            else:\n",
    "                cdc_signal.append(0)\n",
    "        elif color[i] == -1:\n",
    "            if signal != -1:\n",
    "                signal = -1\n",
    "                cdc_signal.append(signal)\n",
    "            else:\n",
    "                cdc_signal.append(0)\n",
    "        elif color[i] == 0.5:\n",
    "            if signal != 0.5:\n",
    "                signal = 0.5\n",
    "                cdc_signal.append(signal)\n",
    "            else:\n",
    "                cdc_signal.append(0)\n",
    "        elif color[i] == -0.5:\n",
    "            if signal != -0.5:\n",
    "                signal = -0.5\n",
    "                cdc_signal.append(signal)\n",
    "            else:\n",
    "                cdc_signal.append(0)\n",
    "\n",
    "        else:\n",
    "            signal=0\n",
    "            cdc_signal.append(signal)\n",
    "   \n",
    "    dfa1['cdc']=cdc_signal\n",
    "        #9\n",
    "    SAR=ta.SAR(dfa1_all['High'], dfa1_all['Low'], acceleration=0.02, maximum=0.2)\n",
    "    SAR=SAR.loc[Sdate:Edate]\n",
    "    SAR=SAR.array\n",
    "    dfa1['SAR']=SAR\n",
    "    signal= 0\n",
    "    countb,counts =0,0\n",
    "\n",
    "    sar_signal = []\n",
    "    for i in range(len(dfa1)):\n",
    "        if dfa1['Close'][i] > dfa1['SAR'][i]:\n",
    "            counts = 0\n",
    "            countb =countb +1\n",
    "            if countb == 2:\n",
    "                signal = 1\n",
    "                sar_signal.append(signal)\n",
    "            else:\n",
    "                sar_signal.append(0)\n",
    "        elif dfa1['Close'][i] < dfa1['SAR'][i]:\n",
    "            countb = 0\n",
    "            counts =counts +1\n",
    "            if counts == 2:\n",
    "                signal = -1\n",
    "                sar_signal.append(signal)\n",
    "            else:\n",
    "                sar_signal.append(0)\n",
    "        else:\n",
    "            sar_signal.append(0)\n",
    "    dfa1['sar']=sar_signal\n",
    "    #10\n",
    "    down,up=ta.AROON(dfa1_all['High'], dfa1_all['Low'], timeperiod=14)\n",
    "    down=down.loc[Sdate:Edate]\n",
    "    up=up.loc[Sdate:Edate]\n",
    "    down=down.array\n",
    "    up=up.array\n",
    "    aroon_signal = []\n",
    "    signal = 0\n",
    "    for i in range(len(dfa1)):\n",
    "        if up[i] >= 70 and down[i] <= 30:\n",
    "            if signal != 1:\n",
    "                signal = 1\n",
    "                aroon_signal.append(signal)\n",
    "            else:\n",
    "                aroon_signal.append(0)\n",
    "        elif up[i] <= 30 and down[i] >= 70:\n",
    "            if signal != -1:\n",
    "                signal = -1\n",
    "                aroon_signal.append(signal)\n",
    "            else:\n",
    "                aroon_signal.append(0)\n",
    "        else:\n",
    "            aroon_signal.append(0)\n",
    "    # signal={'adx_signal':adx_signal,'macd_signal':macd_signal,'ma30_200_signal':ma30_200_signal,'ma50_200_signal':ma50_200_signal,\n",
    "    #         'ma30_50_signal':ma30_50_signal,'cdc_signal':cdc_signal,'sar_signal':sar_signal,\n",
    "    #         'roc_signal':roc_signal,'obv_signal':obv_signal,'rsi_signal':rsi_signal,'bb_signal':bb_signal,\n",
    "    #         'wpr_signal':wpr_signal,'stoch_signal':stoch_signal,'cci_signal':cci_signal,'atr_signal':atr_signal,'aroon_signal':aroon_signal,'close_price':dfa1['Close']#print(dfa1)\n",
    "    #        ,'adj_close_price':dfa1['Adj Close']}\n",
    "    signal={'adx_signal':adx_signal,'macd_signal':macd_signal,'ma30_200_signal':ma30_200_signal,'ma50_200_signal':ma50_200_signal,\n",
    "            'ma30_50_signal':ma30_50_signal,'cdc_signal':cdc_signal,'sar_signal':sar_signal,\n",
    "            'roc_signal':roc_signal,'obv_signal':obv_signal,'aroon_signal':aroon_signal,'close_price':dfa1['Close']#print(dfa1)\n",
    "           ,'adj_close_price':dfa1['Adj Close']}\n",
    "    #globals()['df_of_'+RN]=pd.DataFrame(signal)  \n",
    "    global c\n",
    "    c=pd.DataFrame(signal) \n"
   ]
  },
  {
   "cell_type": "code",
   "execution_count": 5,
   "id": "3fab978a-368e-40f0-8f2f-962fae6db75c",
   "metadata": {},
   "outputs": [
    {
     "name": "stdout",
     "output_type": "stream",
     "text": [
      "[*********************100%***********************]  1 of 1 completed\n",
      "[*********************100%***********************]  1 of 1 completed\n"
     ]
    }
   ],
   "source": [
    "a,b=\"AAPL\",\"AAPL\"\n",
    "\n",
    "findindi(a,b)"
   ]
  },
  {
   "cell_type": "code",
   "execution_count": 7,
   "id": "03bba9ea-ace0-4649-b579-8c813d3e9574",
   "metadata": {},
   "outputs": [],
   "source": [
    "import plotly.express as px\n",
    "import pandas as pd\n",
    "import pandas as pd\n",
    "students = [['Akash', 34, 'Sydney', 'Australia'],\n",
    "            ['Rithika', 30, 'Coimbatore', 'India'],\n",
    "            ['Priya', 31, 'Coimbatore', 'India'],\n",
    "            ['Sandy', 32, 'Tokyo', 'Japan'],\n",
    "            ['Praneeth', 16, 'New York', 'US'],\n",
    "            ['Praveen', 17, 'Toronto', 'Canada']]\n",
    "    \n",
    "# Convert list to dataframe and assign column values\n",
    "df = pd.DataFrame(  {  \"Fruit\": [\"Apples\", \"Oranges\", \"Bananas\", \"Apples\", \"Oranges\", \"Bananas\"],\n",
    "    \"Amount\": [4, 1, 2, 2, 4, 5],\n",
    "    \"City\": [\"SF\", \"SF\", \"SF\", \"Montreal\", \"Montreal\", \"Montreal\"]})"
   ]
  },
  {
   "cell_type": "code",
   "execution_count": 8,
   "id": "c67b2a31-bd86-4d4a-a573-eb911c000e49",
   "metadata": {},
   "outputs": [],
   "source": [
    "fig = px.bar(df, x=\"Fruit\", y=\"Amount\", color=\"City\", barmode=\"group\")"
   ]
  },
  {
   "cell_type": "code",
   "execution_count": 9,
   "id": "8d3f81d3",
   "metadata": {},
   "outputs": [
    {
     "data": {
      "application/vnd.plotly.v1+json": {
       "config": {
        "plotlyServerURL": "https://plot.ly"
       },
       "data": [
        {
         "alignmentgroup": "True",
         "hovertemplate": "City=SF<br>Fruit=%{x}<br>Amount=%{y}<extra></extra>",
         "legendgroup": "SF",
         "marker": {
          "color": "#636efa",
          "pattern": {
           "shape": ""
          }
         },
         "name": "SF",
         "offsetgroup": "SF",
         "orientation": "v",
         "showlegend": true,
         "textposition": "auto",
         "type": "bar",
         "x": [
          "Apples",
          "Oranges",
          "Bananas"
         ],
         "xaxis": "x",
         "y": [
          4,
          1,
          2
         ],
         "yaxis": "y"
        },
        {
         "alignmentgroup": "True",
         "hovertemplate": "City=Montreal<br>Fruit=%{x}<br>Amount=%{y}<extra></extra>",
         "legendgroup": "Montreal",
         "marker": {
          "color": "#EF553B",
          "pattern": {
           "shape": ""
          }
         },
         "name": "Montreal",
         "offsetgroup": "Montreal",
         "orientation": "v",
         "showlegend": true,
         "textposition": "auto",
         "type": "bar",
         "x": [
          "Apples",
          "Oranges",
          "Bananas"
         ],
         "xaxis": "x",
         "y": [
          2,
          4,
          5
         ],
         "yaxis": "y"
        }
       ],
       "layout": {
        "barmode": "group",
        "legend": {
         "title": {
          "text": "City"
         },
         "tracegroupgap": 0
        },
        "margin": {
         "t": 60
        },
        "template": {
         "data": {
          "bar": [
           {
            "error_x": {
             "color": "#2a3f5f"
            },
            "error_y": {
             "color": "#2a3f5f"
            },
            "marker": {
             "line": {
              "color": "#E5ECF6",
              "width": 0.5
             },
             "pattern": {
              "fillmode": "overlay",
              "size": 10,
              "solidity": 0.2
             }
            },
            "type": "bar"
           }
          ],
          "barpolar": [
           {
            "marker": {
             "line": {
              "color": "#E5ECF6",
              "width": 0.5
             },
             "pattern": {
              "fillmode": "overlay",
              "size": 10,
              "solidity": 0.2
             }
            },
            "type": "barpolar"
           }
          ],
          "carpet": [
           {
            "aaxis": {
             "endlinecolor": "#2a3f5f",
             "gridcolor": "white",
             "linecolor": "white",
             "minorgridcolor": "white",
             "startlinecolor": "#2a3f5f"
            },
            "baxis": {
             "endlinecolor": "#2a3f5f",
             "gridcolor": "white",
             "linecolor": "white",
             "minorgridcolor": "white",
             "startlinecolor": "#2a3f5f"
            },
            "type": "carpet"
           }
          ],
          "choropleth": [
           {
            "colorbar": {
             "outlinewidth": 0,
             "ticks": ""
            },
            "type": "choropleth"
           }
          ],
          "contour": [
           {
            "colorbar": {
             "outlinewidth": 0,
             "ticks": ""
            },
            "colorscale": [
             [
              0,
              "#0d0887"
             ],
             [
              0.1111111111111111,
              "#46039f"
             ],
             [
              0.2222222222222222,
              "#7201a8"
             ],
             [
              0.3333333333333333,
              "#9c179e"
             ],
             [
              0.4444444444444444,
              "#bd3786"
             ],
             [
              0.5555555555555556,
              "#d8576b"
             ],
             [
              0.6666666666666666,
              "#ed7953"
             ],
             [
              0.7777777777777778,
              "#fb9f3a"
             ],
             [
              0.8888888888888888,
              "#fdca26"
             ],
             [
              1,
              "#f0f921"
             ]
            ],
            "type": "contour"
           }
          ],
          "contourcarpet": [
           {
            "colorbar": {
             "outlinewidth": 0,
             "ticks": ""
            },
            "type": "contourcarpet"
           }
          ],
          "heatmap": [
           {
            "colorbar": {
             "outlinewidth": 0,
             "ticks": ""
            },
            "colorscale": [
             [
              0,
              "#0d0887"
             ],
             [
              0.1111111111111111,
              "#46039f"
             ],
             [
              0.2222222222222222,
              "#7201a8"
             ],
             [
              0.3333333333333333,
              "#9c179e"
             ],
             [
              0.4444444444444444,
              "#bd3786"
             ],
             [
              0.5555555555555556,
              "#d8576b"
             ],
             [
              0.6666666666666666,
              "#ed7953"
             ],
             [
              0.7777777777777778,
              "#fb9f3a"
             ],
             [
              0.8888888888888888,
              "#fdca26"
             ],
             [
              1,
              "#f0f921"
             ]
            ],
            "type": "heatmap"
           }
          ],
          "heatmapgl": [
           {
            "colorbar": {
             "outlinewidth": 0,
             "ticks": ""
            },
            "colorscale": [
             [
              0,
              "#0d0887"
             ],
             [
              0.1111111111111111,
              "#46039f"
             ],
             [
              0.2222222222222222,
              "#7201a8"
             ],
             [
              0.3333333333333333,
              "#9c179e"
             ],
             [
              0.4444444444444444,
              "#bd3786"
             ],
             [
              0.5555555555555556,
              "#d8576b"
             ],
             [
              0.6666666666666666,
              "#ed7953"
             ],
             [
              0.7777777777777778,
              "#fb9f3a"
             ],
             [
              0.8888888888888888,
              "#fdca26"
             ],
             [
              1,
              "#f0f921"
             ]
            ],
            "type": "heatmapgl"
           }
          ],
          "histogram": [
           {
            "marker": {
             "pattern": {
              "fillmode": "overlay",
              "size": 10,
              "solidity": 0.2
             }
            },
            "type": "histogram"
           }
          ],
          "histogram2d": [
           {
            "colorbar": {
             "outlinewidth": 0,
             "ticks": ""
            },
            "colorscale": [
             [
              0,
              "#0d0887"
             ],
             [
              0.1111111111111111,
              "#46039f"
             ],
             [
              0.2222222222222222,
              "#7201a8"
             ],
             [
              0.3333333333333333,
              "#9c179e"
             ],
             [
              0.4444444444444444,
              "#bd3786"
             ],
             [
              0.5555555555555556,
              "#d8576b"
             ],
             [
              0.6666666666666666,
              "#ed7953"
             ],
             [
              0.7777777777777778,
              "#fb9f3a"
             ],
             [
              0.8888888888888888,
              "#fdca26"
             ],
             [
              1,
              "#f0f921"
             ]
            ],
            "type": "histogram2d"
           }
          ],
          "histogram2dcontour": [
           {
            "colorbar": {
             "outlinewidth": 0,
             "ticks": ""
            },
            "colorscale": [
             [
              0,
              "#0d0887"
             ],
             [
              0.1111111111111111,
              "#46039f"
             ],
             [
              0.2222222222222222,
              "#7201a8"
             ],
             [
              0.3333333333333333,
              "#9c179e"
             ],
             [
              0.4444444444444444,
              "#bd3786"
             ],
             [
              0.5555555555555556,
              "#d8576b"
             ],
             [
              0.6666666666666666,
              "#ed7953"
             ],
             [
              0.7777777777777778,
              "#fb9f3a"
             ],
             [
              0.8888888888888888,
              "#fdca26"
             ],
             [
              1,
              "#f0f921"
             ]
            ],
            "type": "histogram2dcontour"
           }
          ],
          "mesh3d": [
           {
            "colorbar": {
             "outlinewidth": 0,
             "ticks": ""
            },
            "type": "mesh3d"
           }
          ],
          "parcoords": [
           {
            "line": {
             "colorbar": {
              "outlinewidth": 0,
              "ticks": ""
             }
            },
            "type": "parcoords"
           }
          ],
          "pie": [
           {
            "automargin": true,
            "type": "pie"
           }
          ],
          "scatter": [
           {
            "fillpattern": {
             "fillmode": "overlay",
             "size": 10,
             "solidity": 0.2
            },
            "type": "scatter"
           }
          ],
          "scatter3d": [
           {
            "line": {
             "colorbar": {
              "outlinewidth": 0,
              "ticks": ""
             }
            },
            "marker": {
             "colorbar": {
              "outlinewidth": 0,
              "ticks": ""
             }
            },
            "type": "scatter3d"
           }
          ],
          "scattercarpet": [
           {
            "marker": {
             "colorbar": {
              "outlinewidth": 0,
              "ticks": ""
             }
            },
            "type": "scattercarpet"
           }
          ],
          "scattergeo": [
           {
            "marker": {
             "colorbar": {
              "outlinewidth": 0,
              "ticks": ""
             }
            },
            "type": "scattergeo"
           }
          ],
          "scattergl": [
           {
            "marker": {
             "colorbar": {
              "outlinewidth": 0,
              "ticks": ""
             }
            },
            "type": "scattergl"
           }
          ],
          "scattermapbox": [
           {
            "marker": {
             "colorbar": {
              "outlinewidth": 0,
              "ticks": ""
             }
            },
            "type": "scattermapbox"
           }
          ],
          "scatterpolar": [
           {
            "marker": {
             "colorbar": {
              "outlinewidth": 0,
              "ticks": ""
             }
            },
            "type": "scatterpolar"
           }
          ],
          "scatterpolargl": [
           {
            "marker": {
             "colorbar": {
              "outlinewidth": 0,
              "ticks": ""
             }
            },
            "type": "scatterpolargl"
           }
          ],
          "scatterternary": [
           {
            "marker": {
             "colorbar": {
              "outlinewidth": 0,
              "ticks": ""
             }
            },
            "type": "scatterternary"
           }
          ],
          "surface": [
           {
            "colorbar": {
             "outlinewidth": 0,
             "ticks": ""
            },
            "colorscale": [
             [
              0,
              "#0d0887"
             ],
             [
              0.1111111111111111,
              "#46039f"
             ],
             [
              0.2222222222222222,
              "#7201a8"
             ],
             [
              0.3333333333333333,
              "#9c179e"
             ],
             [
              0.4444444444444444,
              "#bd3786"
             ],
             [
              0.5555555555555556,
              "#d8576b"
             ],
             [
              0.6666666666666666,
              "#ed7953"
             ],
             [
              0.7777777777777778,
              "#fb9f3a"
             ],
             [
              0.8888888888888888,
              "#fdca26"
             ],
             [
              1,
              "#f0f921"
             ]
            ],
            "type": "surface"
           }
          ],
          "table": [
           {
            "cells": {
             "fill": {
              "color": "#EBF0F8"
             },
             "line": {
              "color": "white"
             }
            },
            "header": {
             "fill": {
              "color": "#C8D4E3"
             },
             "line": {
              "color": "white"
             }
            },
            "type": "table"
           }
          ]
         },
         "layout": {
          "annotationdefaults": {
           "arrowcolor": "#2a3f5f",
           "arrowhead": 0,
           "arrowwidth": 1
          },
          "autotypenumbers": "strict",
          "coloraxis": {
           "colorbar": {
            "outlinewidth": 0,
            "ticks": ""
           }
          },
          "colorscale": {
           "diverging": [
            [
             0,
             "#8e0152"
            ],
            [
             0.1,
             "#c51b7d"
            ],
            [
             0.2,
             "#de77ae"
            ],
            [
             0.3,
             "#f1b6da"
            ],
            [
             0.4,
             "#fde0ef"
            ],
            [
             0.5,
             "#f7f7f7"
            ],
            [
             0.6,
             "#e6f5d0"
            ],
            [
             0.7,
             "#b8e186"
            ],
            [
             0.8,
             "#7fbc41"
            ],
            [
             0.9,
             "#4d9221"
            ],
            [
             1,
             "#276419"
            ]
           ],
           "sequential": [
            [
             0,
             "#0d0887"
            ],
            [
             0.1111111111111111,
             "#46039f"
            ],
            [
             0.2222222222222222,
             "#7201a8"
            ],
            [
             0.3333333333333333,
             "#9c179e"
            ],
            [
             0.4444444444444444,
             "#bd3786"
            ],
            [
             0.5555555555555556,
             "#d8576b"
            ],
            [
             0.6666666666666666,
             "#ed7953"
            ],
            [
             0.7777777777777778,
             "#fb9f3a"
            ],
            [
             0.8888888888888888,
             "#fdca26"
            ],
            [
             1,
             "#f0f921"
            ]
           ],
           "sequentialminus": [
            [
             0,
             "#0d0887"
            ],
            [
             0.1111111111111111,
             "#46039f"
            ],
            [
             0.2222222222222222,
             "#7201a8"
            ],
            [
             0.3333333333333333,
             "#9c179e"
            ],
            [
             0.4444444444444444,
             "#bd3786"
            ],
            [
             0.5555555555555556,
             "#d8576b"
            ],
            [
             0.6666666666666666,
             "#ed7953"
            ],
            [
             0.7777777777777778,
             "#fb9f3a"
            ],
            [
             0.8888888888888888,
             "#fdca26"
            ],
            [
             1,
             "#f0f921"
            ]
           ]
          },
          "colorway": [
           "#636efa",
           "#EF553B",
           "#00cc96",
           "#ab63fa",
           "#FFA15A",
           "#19d3f3",
           "#FF6692",
           "#B6E880",
           "#FF97FF",
           "#FECB52"
          ],
          "font": {
           "color": "#2a3f5f"
          },
          "geo": {
           "bgcolor": "white",
           "lakecolor": "white",
           "landcolor": "#E5ECF6",
           "showlakes": true,
           "showland": true,
           "subunitcolor": "white"
          },
          "hoverlabel": {
           "align": "left"
          },
          "hovermode": "closest",
          "mapbox": {
           "style": "light"
          },
          "paper_bgcolor": "white",
          "plot_bgcolor": "#E5ECF6",
          "polar": {
           "angularaxis": {
            "gridcolor": "white",
            "linecolor": "white",
            "ticks": ""
           },
           "bgcolor": "#E5ECF6",
           "radialaxis": {
            "gridcolor": "white",
            "linecolor": "white",
            "ticks": ""
           }
          },
          "scene": {
           "xaxis": {
            "backgroundcolor": "#E5ECF6",
            "gridcolor": "white",
            "gridwidth": 2,
            "linecolor": "white",
            "showbackground": true,
            "ticks": "",
            "zerolinecolor": "white"
           },
           "yaxis": {
            "backgroundcolor": "#E5ECF6",
            "gridcolor": "white",
            "gridwidth": 2,
            "linecolor": "white",
            "showbackground": true,
            "ticks": "",
            "zerolinecolor": "white"
           },
           "zaxis": {
            "backgroundcolor": "#E5ECF6",
            "gridcolor": "white",
            "gridwidth": 2,
            "linecolor": "white",
            "showbackground": true,
            "ticks": "",
            "zerolinecolor": "white"
           }
          },
          "shapedefaults": {
           "line": {
            "color": "#2a3f5f"
           }
          },
          "ternary": {
           "aaxis": {
            "gridcolor": "white",
            "linecolor": "white",
            "ticks": ""
           },
           "baxis": {
            "gridcolor": "white",
            "linecolor": "white",
            "ticks": ""
           },
           "bgcolor": "#E5ECF6",
           "caxis": {
            "gridcolor": "white",
            "linecolor": "white",
            "ticks": ""
           }
          },
          "title": {
           "x": 0.05
          },
          "xaxis": {
           "automargin": true,
           "gridcolor": "white",
           "linecolor": "white",
           "ticks": "",
           "title": {
            "standoff": 15
           },
           "zerolinecolor": "white",
           "zerolinewidth": 2
          },
          "yaxis": {
           "automargin": true,
           "gridcolor": "white",
           "linecolor": "white",
           "ticks": "",
           "title": {
            "standoff": 15
           },
           "zerolinecolor": "white",
           "zerolinewidth": 2
          }
         }
        },
        "xaxis": {
         "anchor": "y",
         "domain": [
          0,
          1
         ],
         "title": {
          "text": "Fruit"
         }
        },
        "yaxis": {
         "anchor": "x",
         "domain": [
          0,
          1
         ],
         "title": {
          "text": "Amount"
         }
        }
       }
      }
     },
     "metadata": {},
     "output_type": "display_data"
    }
   ],
   "source": [
    "fig"
   ]
  },
  {
   "cell_type": "code",
   "execution_count": null,
   "id": "fba17e9b",
   "metadata": {},
   "outputs": [],
   "source": []
  }
 ],
 "metadata": {
  "kernelspec": {
   "display_name": "Python 3 (ipykernel)",
   "language": "python",
   "name": "python3"
  },
  "language_info": {
   "codemirror_mode": {
    "name": "ipython",
    "version": 3
   },
   "file_extension": ".py",
   "mimetype": "text/x-python",
   "name": "python",
   "nbconvert_exporter": "python",
   "pygments_lexer": "ipython3",
   "version": "3.9.12"
  },
  "varInspector": {
   "cols": {
    "lenName": 16,
    "lenType": 16,
    "lenVar": 40
   },
   "kernels_config": {
    "python": {
     "delete_cmd_postfix": "",
     "delete_cmd_prefix": "del ",
     "library": "var_list.py",
     "varRefreshCmd": "print(var_dic_list())"
    },
    "r": {
     "delete_cmd_postfix": ") ",
     "delete_cmd_prefix": "rm(",
     "library": "var_list.r",
     "varRefreshCmd": "cat(var_dic_list()) "
    }
   },
   "types_to_exclude": [
    "module",
    "function",
    "builtin_function_or_method",
    "instance",
    "_Feature"
   ],
   "window_display": false
  },
  "vscode": {
   "interpreter": {
    "hash": "610a6f344c2137faf927ea819c63f6cee33a2c04455044b28099f39fe9722347"
   }
  }
 },
 "nbformat": 4,
 "nbformat_minor": 5
}
