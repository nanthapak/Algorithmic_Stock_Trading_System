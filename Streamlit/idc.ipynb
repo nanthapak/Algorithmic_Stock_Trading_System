{
 "cells": [
  {
   "cell_type": "code",
   "execution_count": null,
   "metadata": {},
   "outputs": [],
   "source": [
    "def pppp(x,y):\n",
    "    print(x+y)\n",
    "x=int(input(\"\"))\n",
    "y=int(input(\"\"))\n",
    "if pppp(x,y):\n",
    "    print(1)\n",
    "else: \n",
    "    print(0)"
   ]
  },
  {
   "cell_type": "code",
   "execution_count": 28,
   "metadata": {},
   "outputs": [
    {
     "name": "stdout",
     "output_type": "stream",
     "text": [
      "[*********************100%***********************]  1 of 1 completed\n",
      "\n",
      "1 Failed download:\n",
      "- 45: No data found, symbol may be delisted\n",
      "ERROR 45 is not valid\n"
     ]
    }
   ],
   "source": [
    "import datetime\n",
    "from datetime import date\n",
    "from datetime import timedelta\n",
    "import pandas_datareader.data as web\n",
    "import matplotlib.pyplot as plt\n",
    "import numpy as np\n",
    "import talib as ta\n",
    "import pandas as pd\n",
    "import yfinance as yf\n",
    "global df_signal\n",
    "global Stockdata\n",
    "Name=input(\"\")\n",
    "def find():\n",
    "    global dfa1\n",
    "    yesterday = date.today() - timedelta(hours = 12 )\n",
    "    yesterday=str(yesterday)\n",
    "\n",
    "    Eyear = int(yesterday[:4])\n",
    "    Emonth = int(yesterday[5:7])\n",
    "    Eday = int(yesterday[8:10])\n",
    "    Syear=2016\n",
    "    Smonth=1\n",
    "    Sday=2\n",
    "    Sdate =\"%s-%s-%s\" % (Syear,Smonth,Sday)\n",
    "    Edate =\"%s-%s-%s\" % (Eyear,Emonth,Eday)\n",
    "    Byear = Syear-1\n",
    "    start=datetime.datetime(Syear,Smonth,Sday)\n",
    "    end=datetime.datetime(Eyear,Emonth,Eday)\n",
    "    Stockdata=yf.download(Name,start,end)\n",
    "    dfa1=Stockdata\n",
    "    return Stockdata\n",
    "\n",
    "try:\n",
    "    find()\n",
    "    if dfa1 == \"\":\n",
    "        print(\"ERROR\",Name,\"is not valid\")\n",
    "    else:\n",
    "        pass\n",
    "except:\n",
    "    print(\"ERROR\",Name,\"is not valid\")\n"
   ]
  },
  {
   "cell_type": "code",
   "execution_count": 23,
   "metadata": {},
   "outputs": [
    {
     "data": {
      "text/html": [
       "<div>\n",
       "<style scoped>\n",
       "    .dataframe tbody tr th:only-of-type {\n",
       "        vertical-align: middle;\n",
       "    }\n",
       "\n",
       "    .dataframe tbody tr th {\n",
       "        vertical-align: top;\n",
       "    }\n",
       "\n",
       "    .dataframe thead th {\n",
       "        text-align: right;\n",
       "    }\n",
       "</style>\n",
       "<table border=\"1\" class=\"dataframe\">\n",
       "  <thead>\n",
       "    <tr style=\"text-align: right;\">\n",
       "      <th></th>\n",
       "      <th>Open</th>\n",
       "      <th>High</th>\n",
       "      <th>Low</th>\n",
       "      <th>Close</th>\n",
       "      <th>Adj Close</th>\n",
       "      <th>Volume</th>\n",
       "    </tr>\n",
       "    <tr>\n",
       "      <th>Date</th>\n",
       "      <th></th>\n",
       "      <th></th>\n",
       "      <th></th>\n",
       "      <th></th>\n",
       "      <th></th>\n",
       "      <th></th>\n",
       "    </tr>\n",
       "  </thead>\n",
       "  <tbody>\n",
       "  </tbody>\n",
       "</table>\n",
       "</div>"
      ],
      "text/plain": [
       "Empty DataFrame\n",
       "Columns: [Open, High, Low, Close, Adj Close, Volume]\n",
       "Index: []"
      ]
     },
     "execution_count": 23,
     "metadata": {},
     "output_type": "execute_result"
    }
   ],
   "source": [
    "dfa1"
   ]
  },
  {
   "cell_type": "code",
   "execution_count": null,
   "metadata": {},
   "outputs": [],
   "source": []
  }
 ],
 "metadata": {
  "kernelspec": {
   "display_name": "base",
   "language": "python",
   "name": "python3"
  },
  "language_info": {
   "codemirror_mode": {
    "name": "ipython",
    "version": 3
   },
   "file_extension": ".py",
   "mimetype": "text/x-python",
   "name": "python",
   "nbconvert_exporter": "python",
   "pygments_lexer": "ipython3",
   "version": "3.9.12"
  },
  "orig_nbformat": 4,
  "vscode": {
   "interpreter": {
    "hash": "610a6f344c2137faf927ea819c63f6cee33a2c04455044b28099f39fe9722347"
   }
  }
 },
 "nbformat": 4,
 "nbformat_minor": 2
}
