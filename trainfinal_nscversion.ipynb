{
 "cells": [
  {
   "cell_type": "code",
   "execution_count": 22,
   "id": "2e00e795-ed6b-428d-96fb-4b892095aee3",
   "metadata": {},
   "outputs": [],
   "source": [
    "import numpy as np\n",
    "import pandas as pd\n",
    "data = pd.read_csv(\"MINT_1522_years.csv\")\n",
    "dt=data\n",
    "data.drop(data.columns[[0]],axis=1,inplace=True)\n",
    "window_size = int(len(data)/(8))\n",
    "splittrain = []\n",
    "splittest = [] \n",
    "#15-19 18-22\n",
    "for i in range(0, len(data)-4*window_size,window_size):\n",
    "    splittrain.append(data[i:i+4*window_size])\n",
    "    splittest.append(data[i+4*window_size:i+5*window_size])"
   ]
  },
  {
   "cell_type": "code",
   "execution_count": 21,
   "id": "f17ac28f-b863-4abb-988f-24226439f14a",
   "metadata": {},
   "outputs": [
    {
     "ename": "IndexError",
     "evalue": "list index out of range",
     "output_type": "error",
     "traceback": [
      "\u001b[1;31m---------------------------------------------------------------------------\u001b[0m",
      "\u001b[1;31mIndexError\u001b[0m                                Traceback (most recent call last)",
      "\u001b[1;32mC:\\Users\\WINDOW~1\\AppData\\Local\\Temp/ipykernel_5044/55889455.py\u001b[0m in \u001b[0;36m<module>\u001b[1;34m\u001b[0m\n\u001b[1;32m----> 1\u001b[1;33m \u001b[0msplittest\u001b[0m\u001b[1;33m[\u001b[0m\u001b[1;36m4\u001b[0m\u001b[1;33m]\u001b[0m\u001b[1;33m\u001b[0m\u001b[1;33m\u001b[0m\u001b[0m\n\u001b[0m",
      "\u001b[1;31mIndexError\u001b[0m: list index out of range"
     ]
    }
   ],
   "source": [
    "splittest[4]"
   ]
  },
  {
   "cell_type": "code",
   "execution_count": 23,
   "id": "9a971f59-88d4-4b81-9387-7e4032579360",
   "metadata": {},
   "outputs": [],
   "source": [
    "from scipy.optimize import NonlinearConstraint, Bounds, LinearConstraint\n",
    "import sympy as sp\n",
    "w1=sp.symbols('w1')\n",
    "w2=sp.symbols('w2')\n",
    "w3=sp.symbols('w3')\n",
    "w4=sp.symbols('w4')\n",
    "w5=sp.symbols('w5')\n",
    "w6=sp.symbols('w6')\n",
    "w7=sp.symbols('w7')\n",
    "w8=sp.symbols('w8')\n",
    "w9=sp.symbols('w9')\n",
    "w10=sp.symbols('w10')\n",
    "td=sp.symbols('td')"
   ]
  },
  {
   "cell_type": "code",
   "execution_count": 24,
   "id": "ebf1cd6f-426b-4d62-bd19-21c485153fb1",
   "metadata": {},
   "outputs": [],
   "source": [
    "def const(p):\n",
    "    w1,w2,w3,w4,w5,w6,w7,w8,w9,w10,td = p\n",
    "    return w1+w2+w3+w4+w5+w6+w7+w8+w9+w10\n",
    "nlc = NonlinearConstraint(const, 1 ,1)\n",
    "import numpy as np\n",
    "from scipy.optimize import differential_evolution\n",
    "from scipy.optimize import NonlinearConstraint, Bounds\n",
    "\n",
    "bounds = [[0, 1], [0, 1],[0, 1], [0, 1],[0, 1],[0, 1],[0, 1], [0, 1],[0, 1],[0,1],[0.125,0.3]]"
   ]
  },
  {
   "cell_type": "code",
   "execution_count": 25,
   "id": "0f9283c9-6be3-4b7b-a609-fd286cd75caa",
   "metadata": {},
   "outputs": [],
   "source": [
    "coll,buy_idx,sell_idx=[],[],[]\n",
    "count1,count2,count3=0,0,0\n",
    "def func(p):\n",
    "    global S,B,resl,resfl\n",
    "    S=0\n",
    "    B=0\n",
    "    resl=[]\n",
    "    resfl=[]\n",
    "    w1,w2,w3,w4,w5,w6,w7,w8,w9,w10,td = p\n",
    "    mon=100000\n",
    "    amount=0\n",
    "    for i in range(0,len(dfo)):\n",
    "        r = ((w1*sl1[i]+w2*sl2[i]+w3*sl3[i]+w4*sl4[i]+w5*sl5[i]+w6*sl6[i]+w7*sl7[i]+w8*sl8[i]+w9*sl9[i]+w10*sl10[i])/(w1+w2+w3+w4+w5+w6+w7+w8+w9+w10))#w1=sp.symbols('w1')\n",
    "        if i!=0:\n",
    "            if dfo['adj_close_price'][i]<dfo['adj_close_price'][i-1]*0.8:\n",
    "                mon+=amount*dfo['adj_close_price'][i]*0.998\n",
    "                amount=0\n",
    "        if r>td:\n",
    "            sumall=mon//dfo['adj_close_price'][i]\n",
    "            amount+=sumall\n",
    "            mon-=sumall*dfo['adj_close_price'][i]*1.002\n",
    "            B+=1\n",
    "        elif r<-td:\n",
    "            mon+=amount*dfo['adj_close_price'][i]*0.998\n",
    "            amount=0\n",
    "            S+=1\n",
    "        else:\n",
    "            pass\n",
    "    ret=mon+amount*dfo['adj_close_price'][len(dfo)-1]\n",
    "    return -((ret-100000)/1000)\n",
    "def fobj():\n",
    "    global sl1,sl2,sl3,sl4,sl5,sl6,sl7,sl8,sl9,sl10,dfo,decision_d_l,bh_test_l,bh_train_l,train_l,test_l\n",
    "    bh_test_l,bh_train_l,train_l,test_l=[],[],[],[]\n",
    "    for j in range(len(splittrain)):\n",
    "        dfo=splittrain[j]\n",
    "        dfo=dfo.reset_index()\n",
    "        sl1=dfo['volume_prof_signal']\n",
    "        sl2=dfo['macd_crossover_signal']\n",
    "        sl3=dfo['psar_adx_signal']\n",
    "        sl4=dfo['renko_adx_signal']\n",
    "        sl5=dfo['aroon_kp_signal']\n",
    "        sl6=dfo['macd_overzero_signal']\n",
    "        sl7=dfo['ma5_10_signal']\n",
    "        sl8=dfo['cdc_signal']\n",
    "        sl9=dfo['bb_rsi_signal']\n",
    "        sl10=dfo['rsi_adx_signal']\n",
    "        result = differential_evolution(func, bounds,constraints=(nlc),maxiter=1500,popsize=80,recombination=0.8) \n",
    "        coll.append([result.x,-result.fun,j])\n",
    "        print([result.x,-result.fun,j])\n",
    "        train_l.append(-result.fun)\n",
    "        a=result.x\n",
    "        b=j\n",
    "        td=a[10]\n",
    "        w=a[0:10]\n",
    "        df=splittest[b]\n",
    "        decision_d_l=[]\n",
    "        il=[]\n",
    "        global count1,count2,count3,sell_idx,buy_idx\n",
    "        mon=100000\n",
    "        amount=0\n",
    "        sumall=0\n",
    "        df=df.reset_index()\n",
    "        sl1=dfo['volume_prof_signal']\n",
    "        sl2=dfo['macd_crossover_signal']\n",
    "        sl3=dfo['psar_adx_signal']\n",
    "        sl4=dfo['renko_adx_signal']\n",
    "        sl5=dfo['aroon_kp_signal']\n",
    "        sl6=dfo['macd_overzero_signal']\n",
    "        sl7=dfo['ma5_10_signal']\n",
    "        sl8=dfo['cdc_signal']\n",
    "        sl9=dfo['bb_rsi_signal']\n",
    "        sl10=dfo['rsi_adx_signal']\n",
    "\n",
    "        for i in range(0,len(df)):\n",
    "            decision_d= ((w[0]*sl1[i]+w[1]*sl2[i]+w[2]*sl3[i]+w[3]*sl4[i]+w[4]*sl5[i]+w[5]*sl6[i]+w[6]*sl7[i]+w[7]*sl8[i]+w[8]*sl9[i]+w[9]*sl10[i])/sum(w))\n",
    "            if i!=0:\n",
    "                if df['adj_close_price'][i]<df['adj_close_price'][i-1]*0.8:\n",
    "                        mon+=amount*df['adj_close_price'][i]*0.998\n",
    "                        amount=0\n",
    "                        sell_idx.append(i)\n",
    "            if decision_d>td:\n",
    "                sumall=mon//df['adj_close_price'][i]\n",
    "                amount+=sumall\n",
    "                mon-=sumall*df['adj_close_price'][i]*1.002\n",
    "                count1+=1\n",
    "                buy_idx.append(i)\n",
    "            elif decision_d<-td:\n",
    "                mon+=amount*df['adj_close_price'][i]*0.998\n",
    "                amount=0\n",
    "                count2+=1\n",
    "                sell_idx.append(i)\n",
    "            else:\n",
    "                count3+=1\n",
    "            decision_d_l.append(decision_d)\n",
    "        ret=mon+amount*df['adj_close_price'][len(df)-1]\n",
    "        stocknum=100000/dfo['adj_close_price'][0]\n",
    "        bh_test_l.append(((stocknum*(0.998*df['adj_close_price'][len(df)-1])+(100000-stocknum*df['adj_close_price'][0]*1.002))-100000)/1000)\n",
    "        bh_train_l.append(((stocknum*(0.998*dfo['adj_close_price'][len(dfo)-1])+(100000-stocknum*dfo['adj_close_price'][0]*1.002))-100000)/1000)\n",
    "        test_l.append((ret-100000)/1000)\n",
    "        print(\"B&H_train :\",bh_train_l)\n",
    "        print(\"ats_train :\",train_l) \n",
    "        print(\"B&H_test :\",bh_test_l)\n",
    "        print (\"ATS test:\",b,(ret-100000)/1000)\n",
    "        \n",
    "    print(\"B&H_train :\",bh_train_l)\n",
    "    print(\"ats_train :\",train_l) \n",
    "    print(\"B&H_test :\",bh_test_l)\n",
    "    print(\"ats_test :\",test_l)"
   ]
  },
  {
   "cell_type": "code",
   "execution_count": null,
   "id": "a5ab617a-c509-42b0-ae09-d0603cf01574",
   "metadata": {},
   "outputs": [],
   "source": [
    "fobj()"
   ]
  },
  {
   "cell_type": "code",
   "execution_count": 11,
   "id": "2c39b8a6-669a-4323-bc56-62d3b771e945",
   "metadata": {},
   "outputs": [
    {
     "name": "stdout",
     "output_type": "stream",
     "text": [
      "[array([0.11388528, 0.06667182, 0.02407692, 0.09028309, 0.0326584 ,\n",
      "       0.13917478, 0.00534666, 0.1036111 , 0.41096295, 0.013329  ,\n",
      "       0.21640011]), 69.76992641155245, 0]\n",
      "B&H_train : [22.50024920012419]\n",
      "ats_train : [69.76992641155245]\n",
      "B&H_test : [7.131995330033067]\n",
      "ATS test: 0 -0.3061604301147454\n",
      "[array([0.01332371, 0.06784081, 0.0424797 , 0.0876485 , 0.04582086,\n",
      "       0.37668988, 0.02249422, 0.12860996, 0.00841778, 0.20667458,\n",
      "       0.27266861]), 38.09099657524109, 1]\n",
      "B&H_train : [22.50024920012419, 2.143137023322226]\n",
      "ats_train : [69.76992641155245, 38.09099657524109]\n",
      "B&H_test : [7.131995330033067, -27.927248053864272]\n",
      "ATS test: 1 0.0\n",
      "[array([0.01842561, 0.16484154, 0.02824634, 0.05979428, 0.08553423,\n",
      "       0.0750237 , 0.00572295, 0.15884859, 0.37261096, 0.0309518 ,\n",
      "       0.21819463]), 136.48010346142584, 2]\n",
      "B&H_train : [22.50024920012419, 2.143137023322226, -24.509857640687244]\n",
      "ats_train : [69.76992641155245, 38.09099657524109, 136.48010346142584]\n",
      "B&H_test : [7.131995330033067, -27.927248053864272, 7.111286509533456]\n",
      "ATS test: 2 0.7414705000000104\n",
      "B&H_train : [22.50024920012419, 2.143137023322226, -24.509857640687244]\n",
      "ats_train : [69.76992641155245, 38.09099657524109, 136.48010346142584]\n",
      "B&H_test : [7.131995330033067, -27.927248053864272, 7.111286509533456]\n",
      "ats_test : [-0.3061604301147454, 0.0, 0.7414705000000104]\n"
     ]
    }
   ],
   "source": [
    "fobj()"
   ]
  },
  {
   "cell_type": "code",
   "execution_count": 12,
   "id": "8dac482d-ef7f-4e9b-aedf-5e7e63d95f91",
   "metadata": {},
   "outputs": [
    {
     "name": "stdout",
     "output_type": "stream",
     "text": [
      "[array([0.00272065, 0.01741899, 0.08864687, 0.1593415 , 0.18278696,\n",
      "       0.03850749, 0.00506377, 0.17880208, 0.24685829, 0.0798534 ,\n",
      "       0.1832212 ]), 77.74592373424532, 0]\n",
      "B&H_train : [22.50024920012419]\n",
      "ats_train : [77.74592373424532]\n",
      "B&H_test : [7.131995330033067]\n",
      "ATS test: 0 0.8049144543914445\n",
      "[array([0.01135674, 0.003812  , 0.0598458 , 0.01502772, 0.11897253,\n",
      "       0.61063595, 0.08655647, 0.00774445, 0.08157166, 0.00447668,\n",
      "       0.1635238 ]), 43.01970428479768, 1]\n",
      "B&H_train : [22.50024920012419, 2.143137023322226]\n",
      "ats_train : [77.74592373424532, 43.01970428479768]\n",
      "B&H_test : [7.131995330033067, -27.927248053864272]\n",
      "ATS test: 1 -15.606325532012939\n",
      "[array([0.02202119, 0.00608634, 0.08980691, 0.12055653, 0.03630556,\n",
      "       0.00585731, 0.01216578, 0.18425732, 0.25993086, 0.2630122 ,\n",
      "       0.25034826]), 108.50150200170138, 2]\n",
      "B&H_train : [22.50024920012419, 2.143137023322226, -24.509857640687244]\n",
      "ats_train : [77.74592373424532, 43.01970428479768, 108.50150200170138]\n",
      "B&H_test : [7.131995330033067, -27.927248053864272, 7.111286509533456]\n",
      "ATS test: 2 -11.824949999999998\n",
      "B&H_train : [22.50024920012419, 2.143137023322226, -24.509857640687244]\n",
      "ats_train : [77.74592373424532, 43.01970428479768, 108.50150200170138]\n",
      "B&H_test : [7.131995330033067, -27.927248053864272, 7.111286509533456]\n",
      "ats_test : [0.8049144543914445, -15.606325532012939, -11.824949999999998]\n"
     ]
    }
   ],
   "source": [
    "fobj()"
   ]
  },
  {
   "cell_type": "code",
   "execution_count": 13,
   "id": "d04bbacc-246c-4606-9656-a52e98487979",
   "metadata": {},
   "outputs": [
    {
     "name": "stdout",
     "output_type": "stream",
     "text": [
      "[array([0.01187328, 0.13933082, 0.0032994 , 0.01492205, 0.06320123,\n",
      "       0.04331596, 0.01012869, 0.16191881, 0.04437797, 0.50763179,\n",
      "       0.1712499 ]), 52.73055627883918, 0]\n",
      "B&H_train : [22.50024920012419]\n",
      "ats_train : [52.73055627883918]\n",
      "B&H_test : [7.131995330033067]\n",
      "ATS test: 0 2.5304493645629846\n",
      "[array([0.01253428, 0.08082094, 0.02328014, 0.03444144, 0.08325547,\n",
      "       0.01800289, 0.0660436 , 0.01251445, 0.4633268 , 0.20577999,\n",
      "       0.19176243]), 41.31024797445675, 1]\n",
      "B&H_train : [22.50024920012419, 2.143137023322226]\n",
      "ats_train : [52.73055627883918, 41.31024797445675]\n",
      "B&H_test : [7.131995330033067, -27.927248053864272]\n",
      "ATS test: 1 -11.241998997703558\n",
      "[array([0.18927284, 0.01685913, 0.02412433, 0.03218865, 0.05052385,\n",
      "       0.01687397, 0.03280868, 0.01942607, 0.16006969, 0.45785278,\n",
      "       0.26963447]), 84.24779022906878, 2]\n",
      "B&H_train : [22.50024920012419, 2.143137023322226, -24.509857640687244]\n",
      "ats_train : [52.73055627883918, 41.31024797445675, 84.24779022906878]\n",
      "B&H_test : [7.131995330033067, -27.927248053864272, 7.111286509533456]\n",
      "ATS test: 2 -11.824949999999998\n",
      "B&H_train : [22.50024920012419, 2.143137023322226, -24.509857640687244]\n",
      "ats_train : [52.73055627883918, 41.31024797445675, 84.24779022906878]\n",
      "B&H_test : [7.131995330033067, -27.927248053864272, 7.111286509533456]\n",
      "ats_test : [2.5304493645629846, -11.241998997703558, -11.824949999999998]\n"
     ]
    }
   ],
   "source": [
    "fobj()"
   ]
  },
  {
   "cell_type": "code",
   "execution_count": 14,
   "id": "f6c43813-f206-47a7-87cb-d8e2c077e39d",
   "metadata": {},
   "outputs": [
    {
     "name": "stdout",
     "output_type": "stream",
     "text": [
      "[array([0.08774115, 0.31928888, 0.02975375, 0.05417198, 0.0737828 ,\n",
      "       0.09848487, 0.01391226, 0.17159107, 0.12591811, 0.02535514,\n",
      "       0.29132439]), 38.80184141511534, 0]\n",
      "B&H_train : [22.50024920012419]\n",
      "ats_train : [38.80184141511534]\n",
      "B&H_test : [7.131995330033067]\n",
      "ATS test: 0 5.476079811645497\n",
      "[array([0.02286984, 0.12048519, 0.02111657, 0.01111272, 0.01678441,\n",
      "       0.0725417 , 0.0799517 , 0.13089345, 0.51079628, 0.01344814,\n",
      "       0.24468175]), 26.16600570013431, 1]\n",
      "B&H_train : [22.50024920012419, 2.143137023322226]\n",
      "ats_train : [38.80184141511534, 26.16600570013431]\n",
      "B&H_test : [7.131995330033067, -27.927248053864272]\n",
      "ATS test: 1 -37.17070466848755\n",
      "[array([0.08230848, 0.07629678, 0.00256619, 0.05364761, 0.03299746,\n",
      "       0.092647  , 0.10172867, 0.00696141, 0.36958615, 0.18126026,\n",
      "       0.10088758]), 145.7147995066262, 2]\n",
      "B&H_train : [22.50024920012419, 2.143137023322226, -24.509857640687244]\n",
      "ats_train : [38.80184141511534, 26.16600570013431, 145.7147995066262]\n",
      "B&H_test : [7.131995330033067, -27.927248053864272, 7.111286509533456]\n",
      "ATS test: 2 -1.2129450000000215\n",
      "B&H_train : [22.50024920012419, 2.143137023322226, -24.509857640687244]\n",
      "ats_train : [38.80184141511534, 26.16600570013431, 145.7147995066262]\n",
      "B&H_test : [7.131995330033067, -27.927248053864272, 7.111286509533456]\n",
      "ats_test : [5.476079811645497, -37.17070466848755, -1.2129450000000215]\n"
     ]
    }
   ],
   "source": [
    "fobj()"
   ]
  },
  {
   "cell_type": "code",
   "execution_count": null,
   "id": "2a2a189b-b0fe-4da2-9959-554286af0a74",
   "metadata": {},
   "outputs": [],
   "source": [
    "#test\n",
    "import pandas as pd\n",
    "sums=0\n",
    "listna=[]\n",
    "for j in range(0,11): #เเต่ละ signal \n",
    "    for i in range(0,10): #เเต่ละ data\n",
    "        sums+=coll[i][0][j]\n",
    "    sums=sums/10\n",
    "    listna.append(sums)\n",
    "tdna=listna[10]\n",
    "w=listna[0:10]\n",
    "dfo=pd.read_csv('AAPL_2020_year_testing_signal.csv')\n",
    "count1,count2,count3=0,0,0\n",
    "decision_d_l=[]\n",
    "il=[]\n",
    "sell_idx,buy_idx=[],[]\n",
    "def testing(td,w,df):\n",
    "    global count1,count2,count3,sell_idx,buy_idx,sl1\n",
    "    mon=100000\n",
    "    amount=0\n",
    "    sumall=0\n",
    "    sl1=dfo['sma89_signal']\n",
    "    sl2=dfo['obv_macd_signal']\n",
    "    sl3=dfo['cdc_signal']\n",
    "    sl4=dfo['rsi_signal']\n",
    "    sl5=dfo['renko_signal']\n",
    "    sl6=dfo['sar_signal']\n",
    "    sl7=dfo['macd_signal']\n",
    "    sl8=dfo['stoch_signal']\n",
    "    sl9=dfo['obv_renko_signal']\n",
    "    sl10=dfo['aroon_signal']\n",
    "    \n",
    "    for i in range(0,len(df)):\n",
    "        decision_d= ((w[0]*sl1[i]+w[1]*sl2[i]+w[2]*sl3[i]+w[3]*sl4[i]+w[4]*sl5[i]+w[5]*sl6[i]+w[6]*sl7[i]+w[7]*sl8[i]+w[8]*sl9[i]+w[9]*sl10[i])/sum(w))\n",
    "        if i!=0:\n",
    "            if df['adj_close_price'][i]<df['adj_close_price'][i-1]*0.8:\n",
    "                    mon+=amount*dfo['Close'][i]*0.998\n",
    "                    amount=0\n",
    "                    sell_idx.append(i)\n",
    "        if decision_d>td:\n",
    "            sumall=mon//df['adj_close_price'][i]\n",
    "            amount+=sumall\n",
    "            mon-=sumall*df['adj_close_price'][i]*1.002\n",
    "            count1+=1\n",
    "            buy_idx.append(i)\n",
    "        elif decision_d<-td:\n",
    "            mon+=amount*df['adj_close_price'][i]*0.998\n",
    "            amount=0\n",
    "            count2+=1\n",
    "            sell_idx.append(i)\n",
    "        else:\n",
    "            count3+=1\n",
    "        decision_d_l.append(mon+amount*df['adj_close_price'][i])\n",
    "        il.append(i)\n",
    "    ret=mon+amount*df['adj_close_price'][len(df)-1]\n",
    "    return (ret-100000)/1000\n",
    "testing(tdna,w,dfo)"
   ]
  },
  {
   "cell_type": "code",
   "execution_count": null,
   "id": "4cf6d793-c596-48c6-8f0e-302e397d5ac2",
   "metadata": {},
   "outputs": [],
   "source": [
    "(dfo['adj_close_price'][len(dfo)-1]-dfo['adj_close_price'][0])/dfo['adj_close_price'][0]*100"
   ]
  },
  {
   "cell_type": "code",
   "execution_count": 150,
   "id": "ba5b7298-b37a-4c12-a1fd-271495f646f5",
   "metadata": {},
   "outputs": [
    {
     "data": {
      "text/plain": [
       "-3.8563480945091433"
      ]
     },
     "execution_count": 150,
     "metadata": {},
     "output_type": "execute_result"
    }
   ],
   "source": [
    "#test\n",
    "import pandas as pd\n",
    "sums=0\n",
    "listna=[]\n",
    "for j in range(0,11): #เเต่ละ signal \n",
    "    for i in range(0,10): #เเต่ละ data\n",
    "        sums+=coll[i][0][j]\n",
    "    sums=sums/10\n",
    "    listna.append(sums)\n",
    "tdna=listna[10]\n",
    "w=listna[0:10]\n",
    "dfo=pd.read_csv('TSLA_18_year_testing_signal.csv')\n",
    "count1,count2,count3=0,0,0\n",
    "decision_d_l=[]\n",
    "il=[]\n",
    "sell_idx,buy_idx=[],[]\n",
    "def testing(td,w,df):\n",
    "    global count1,count2,count3,sell_idx,buy_idx,sl1\n",
    "    mon=100000\n",
    "    amount=0\n",
    "    sumall=0\n",
    "    sl1=dfo['sma89_signal']\n",
    "    sl2=dfo['obv_macd_signal']\n",
    "    sl3=dfo['cdc_signal']\n",
    "    sl4=dfo['rsi_signal']\n",
    "    sl5=dfo['renko_signal']\n",
    "    sl6=dfo['sar_signal']\n",
    "    sl7=dfo['macd_signal']\n",
    "    sl8=dfo['stoch_signal']\n",
    "    sl9=dfo['obv_renko_signal']\n",
    "    sl10=dfo['aroon_signal']\n",
    "    \n",
    "    for i in range(0,len(df)):\n",
    "        decision_d= ((w[0]*sl1[i]+w[1]*sl2[i]+w[2]*sl3[i]+w[3]*sl4[i]+w[4]*sl5[i]+w[5]*sl6[i]+w[6]*sl7[i]+w[7]*sl8[i]+w[8]*sl9[i]+w[9]*sl10[i])/sum(w))\n",
    "        if i!=0:\n",
    "            if df['adj_close_price'][i]<df['adj_close_price'][i-1]*0.8:\n",
    "                    mon+=amount*dfo['Close'][i]*0.998\n",
    "                    amount=0\n",
    "                    sell_idx.append(i)\n",
    "        if decision_d>td:\n",
    "            sumall=mon//df['adj_close_price'][i]\n",
    "            amount+=sumall\n",
    "            mon-=sumall*df['adj_close_price'][i]*1.002\n",
    "            count1+=1\n",
    "            buy_idx.append(i)\n",
    "        elif decision_d<-td:\n",
    "            mon+=amount*df['adj_close_price'][i]*0.998\n",
    "            amount=0\n",
    "            count2+=1\n",
    "            sell_idx.append(i)\n",
    "        else:\n",
    "            count3+=1\n",
    "        decision_d_l.append(mon+amount*df['adj_close_price'][i])\n",
    "        il.append(i)\n",
    "    ret=mon+amount*df['adj_close_price'][len(df)-1]\n",
    "    return (ret-100000)/1000\n",
    "testing(tdna,w,dfo)"
   ]
  },
  {
   "cell_type": "code",
   "execution_count": 149,
   "id": "c2f90ae8-fff7-4842-911a-9322d1bb56e6",
   "metadata": {},
   "outputs": [
    {
     "data": {
      "text/plain": [
       "4.161849649068813"
      ]
     },
     "execution_count": 149,
     "metadata": {},
     "output_type": "execute_result"
    }
   ],
   "source": [
    "(dfo['adj_close_price'][len(dfo)-1]-dfo['adj_close_price'][0])/dfo['adj_close_price'][0]*100"
   ]
  },
  {
   "cell_type": "code",
   "execution_count": 151,
   "id": "02c01e65-f0c8-4c17-a70c-af71b383b6b5",
   "metadata": {},
   "outputs": [
    {
     "data": {
      "text/plain": [
       "[0.05171901078056007,\n",
       " 0.09168125927799935,\n",
       " 0.0635959532800144,\n",
       " 0.19770249244774873,\n",
       " 0.06882487224742326,\n",
       " 0.12934489843397567,\n",
       " 0.07462249921901046,\n",
       " 0.14327630557640067,\n",
       " 0.14077705830467716,\n",
       " 0.1346100853889713,\n",
       " 0.1493072239607629]"
      ]
     },
     "execution_count": 151,
     "metadata": {},
     "output_type": "execute_result"
    }
   ],
   "source": [
    "listna"
   ]
  },
  {
   "cell_type": "code",
   "execution_count": 63,
   "id": "a9a8127d-2a49-483c-8ce4-00492bc8b3b4",
   "metadata": {},
   "outputs": [
    {
     "data": {
      "text/plain": [
       "[0.03418788291218656,\n",
       " 0.03149076244234548,\n",
       " 0.15037019569028254,\n",
       " 0.1325433769862197,\n",
       " 0.14793535036282862,\n",
       " 0.08853880692902165,\n",
       " 0.09635943910162295,\n",
       " 0.12403901528853958,\n",
       " 0.12794771591086848,\n",
       " 0.15992870893847594,\n",
       " 0.19253667530824434]"
      ]
     },
     "execution_count": 63,
     "metadata": {},
     "output_type": "execute_result"
    }
   ],
   "source": [
    "listna"
   ]
  },
  {
   "cell_type": "code",
   "execution_count": null,
   "id": "b26db68f-19b9-41bb-9200-4b03b2e37b07",
   "metadata": {},
   "outputs": [],
   "source": [
    "#BH 16 107.4283664979756\n",
    "#back 16 110.85032925866324\n",
    "#BH 4.161849649068813\n",
    "#Forward 0"
   ]
  },
  {
   "cell_type": "code",
   "execution_count": 16,
   "id": "ede9f3fd-15e9-4a3f-ad47-22f5f4056789",
   "metadata": {},
   "outputs": [],
   "source": [
    "listna=[0.07209369806093725,\n",
    " 0.07185038480865677,\n",
    " 0.07605418723127022,\n",
    " 0.046688922200022735,\n",
    " 0.05800967858322942,\n",
    " 0.20641780081608485,\n",
    " 0.13221615163816813,\n",
    " 0.17658586648082206,\n",
    " 0.13257461186240724,\n",
    " 0.12475782848656121,\n",
    " 0.23315362570785392]"
   ]
  },
  {
   "cell_type": "code",
   "execution_count": null,
   "id": "865be1c6-46e6-467b-9398-e84930423f0c",
   "metadata": {},
   "outputs": [],
   "source": []
  },
  {
   "cell_type": "code",
   "execution_count": 170,
   "id": "6f4cce53-58a8-468e-b87b-b0f61c762b19",
   "metadata": {},
   "outputs": [
    {
     "ename": "NameError",
     "evalue": "name 'b' is not defined",
     "output_type": "error",
     "traceback": [
      "\u001b[1;31m---------------------------------------------------------------------------\u001b[0m",
      "\u001b[1;31mNameError\u001b[0m                                 Traceback (most recent call last)",
      "Input \u001b[1;32mIn [170]\u001b[0m, in \u001b[0;36m<cell line: 57>\u001b[1;34m()\u001b[0m\n\u001b[0;32m     55\u001b[0m il\u001b[38;5;241m.\u001b[39mappend(i)\n\u001b[0;32m     56\u001b[0m ret\u001b[38;5;241m=\u001b[39mmon\u001b[38;5;241m+\u001b[39mamount\u001b[38;5;241m*\u001b[39mdf[\u001b[38;5;124m'\u001b[39m\u001b[38;5;124madj_close_price\u001b[39m\u001b[38;5;124m'\u001b[39m][\u001b[38;5;28mlen\u001b[39m(df)\u001b[38;5;241m-\u001b[39m\u001b[38;5;241m1\u001b[39m]\n\u001b[1;32m---> 57\u001b[0m \u001b[38;5;28mprint\u001b[39m ((\u001b[38;5;124m\"\u001b[39m\u001b[38;5;124mTEST\u001b[39m\u001b[38;5;124m\"\u001b[39m,\u001b[43mb\u001b[49m,ret\u001b[38;5;241m-\u001b[39m\u001b[38;5;241m100000\u001b[39m)\u001b[38;5;241m/\u001b[39m\u001b[38;5;241m1000\u001b[39m)\n",
      "\u001b[1;31mNameError\u001b[0m: name 'b' is not defined"
     ]
    }
   ],
   "source": [
    "a=[0.07209369806093725,\n",
    " 0.07185038480865677,\n",
    " 0.07605418723127022,\n",
    " 0.046688922200022735,\n",
    " 0.05800967858322942,\n",
    " 0.20641780081608485,\n",
    " 0.13221615163816813,\n",
    " 0.17658586648082206,\n",
    " 0.13257461186240724,\n",
    " 0.12475782848656121,\n",
    " 0.23315362570785392]\n",
    "td=a[10]\n",
    "w=a[0:10]\n",
    "df=splittest[0]\n",
    "\n",
    "decision_d_l=[]\n",
    "il=[]\n",
    "global count1,count2,count3,sell_idx,buy_idx,sl1\n",
    "mon=100000\n",
    "amount=0\n",
    "sumall=0\n",
    "df=df.reset_index()\n",
    "sl1=df['sma89_signal']\n",
    "sl2=df['obv_macd_signal']\n",
    "sl3=df['cdc_signal']\n",
    "sl4=df['rsi_signal']\n",
    "sl5=df['renko_signal']\n",
    "sl6=df['sar_signal']\n",
    "sl7=df['macd_signal']\n",
    "sl8=df['stoch_signal']\n",
    "sl9=df['obv_renko_signal']\n",
    "sl10=df['aroon_signal']\n",
    "\n",
    "for i in range(0,len(df)):\n",
    "    decision_d= ((w[0]*sl1[i]+w[1]*sl2[i]+w[2]*sl3[i]+w[3]*sl4[i]+w[4]*sl5[i]+w[5]*sl6[i]+w[6]*sl7[i]+w[7]*sl8[i]+w[8]*sl9[i]+w[9]*sl10[i])/sum(w))\n",
    "    if i!=0:\n",
    "        if df['adj_close_price'][i]<df['adj_close_price'][i-1]*0.8:\n",
    "                mon+=amount*df['Close'][i]*0.998\n",
    "                amount=0\n",
    "                sell_idx.append(i)\n",
    "    if decision_d>td:\n",
    "        sumall=mon//df['adj_close_price'][i]\n",
    "        amount+=sumall\n",
    "        mon-=sumall*df['adj_close_price'][i]*1.002\n",
    "        count1+=1\n",
    "        buy_idx.append(i)\n",
    "    elif decision_d<-td:\n",
    "        mon+=amount*df['adj_close_price'][i]*0.998\n",
    "        amount=0\n",
    "        count2+=1\n",
    "        sell_idx.append(i)\n",
    "    else:\n",
    "        count3+=1\n",
    "decision_d_l.append(mon+amount*df['adj_close_price'][i])\n",
    "il.append(i)\n",
    "ret=mon+amount*df['adj_close_price'][len(df)-1]\n",
    "print ((\"TEST\",b,ret-100000)/1000)"
   ]
  },
  {
   "cell_type": "code",
   "execution_count": 168,
   "id": "5bb198f8-f8ad-44aa-bd36-cc615dc8a174",
   "metadata": {},
   "outputs": [
    {
     "data": {
      "text/plain": [
       "155    1\n",
       "156    1\n",
       "157    1\n",
       "158   -1\n",
       "159   -1\n",
       "160    1\n",
       "161    1\n",
       "162    1\n",
       "163    1\n",
       "164    1\n",
       "165   -1\n",
       "166   -1\n",
       "167   -1\n",
       "168   -1\n",
       "169   -1\n",
       "170   -1\n",
       "171   -1\n",
       "172   -1\n",
       "173   -1\n",
       "174   -1\n",
       "175   -1\n",
       "176   -1\n",
       "177   -1\n",
       "178   -1\n",
       "179   -1\n",
       "180   -1\n",
       "181   -1\n",
       "182   -1\n",
       "183   -1\n",
       "184   -1\n",
       "185   -1\n",
       "Name: sma89_signal, dtype: int64"
      ]
     },
     "execution_count": 168,
     "metadata": {},
     "output_type": "execute_result"
    }
   ],
   "source": [
    "sl1"
   ]
  },
  {
   "cell_type": "code",
   "execution_count": null,
   "id": "a2431c56-d266-4453-9884-bcab0a061eed",
   "metadata": {},
   "outputs": [],
   "source": [
    "aapl [array([0.00651714, 0.0418374 , 0.00165859, 0.29855315, 0.03284619,\n",
    "       0.00136117, 0.00648658, 0.32601712, 0.06353603, 0.22118663,\n",
    "       0.2675562 ]), 109.48773398520277, 0]\n",
    "training 59.43858069024412\n",
    "test 35.39426686111843\n",
    "TEST 0 0.404597674423203\n",
    "[array([0.01142926, 0.02151963, 0.00302768, 0.33327822, 0.05738381,\n",
    "       0.01156214, 0.10782697, 0.23002569, 0.06365855, 0.16028805,\n",
    "       0.21954648]), 191.48735877567296, 1]\n",
    "training 103.73195749151867\n",
    "test -14.437495640525492\n",
    "TEST 1 2.2892019599533233\n",
    "[array([0.14225291, 0.01633075, 0.02125917, 0.14837138, 0.00860034,\n",
    "       0.23607799, 0.01275173, 0.32604496, 0.06683945, 0.02147131,\n",
    "       0.16668405]), 213.49449069986724, 2]\n",
    "training 81.63249449970678\n",
    "test 53.50086231676958\n",
    "TEST 2 46.38210911050415\n",
    "[array([0.0642284 , 0.36078571, 0.20965265, 0.05398472, 0.0071029 ,\n",
    "       0.02499766, 0.00446481, 0.02171799, 0.03221287, 0.22085228,\n",
    "       0.24541019]), 243.93027599285892, 3]\n",
    "training 186.98489691064046\n",
    "test 0.0\n",
    "TEST 3 0.0"
   ]
  },
  {
   "cell_type": "code",
   "execution_count": null,
   "id": "14c5e8e1-4328-483f-9974-b7ba776e20d5",
   "metadata": {},
   "outputs": [],
   "source": [
    "xom [array([0.05653171, 0.04158094, 0.00966091, 0.14019216, 0.0191391 ,\n",
    "       0.26082285, 0.00551169, 0.37116798, 0.08228806, 0.01310459,\n",
    "       0.2248158 ]), 19.225797561813366, 0]\n",
    "training -5.170508806093523\n",
    "test -2.7033271208700316\n",
    "TEST 0 0.0\n",
    "[array([0.00311368, 0.03030103, 0.33966217, 0.24737007, 0.02273162,\n",
    "       0.02808046, 0.03276149, 0.00477225, 0.27906039, 0.01214684,\n",
    "       0.18180397]), 13.179899188735988, 1]\n",
    "training 7.2692574914808645\n",
    "test 14.48207968124395\n",
    "TEST 1 20.022729757904017\n",
    "[array([0.12217482, 0.01021499, 0.03710938, 0.35005955, 0.08345536,\n",
    "       0.00414276, 0.03887741, 0.12135565, 0.02647102, 0.20613907,\n",
    "       0.24844787]), 17.902870460334757, 2]\n",
    "training 13.253616245776357\n",
    "test -7.204463019827541\n",
    "TEST 2 -0.05212197679138626\n",
    "[array([0.09972493, 0.09580023, 0.124599  , 0.03161699, 0.42068358,\n",
    "       0.08300646, 0.02856566, 0.00160072, 0.0215717 , 0.09283073,\n",
    "       0.10452025]), 17.789281327056816, 3]\n",
    "training -0.9895668547774112\n",
    "test -6.217451020276567\n",
    "TEST 3 11.146635102462765"
   ]
  },
  {
   "cell_type": "code",
   "execution_count": null,
   "id": "c2ef81fa-1e5e-415c-92fe-b6dab2685b0c",
   "metadata": {},
   "outputs": [],
   "source": []
  },
  {
   "cell_type": "code",
   "execution_count": null,
   "id": "dafbecad-5587-4dbb-8e81-7ae552038341",
   "metadata": {},
   "outputs": [],
   "source": []
  },
  {
   "cell_type": "code",
   "execution_count": null,
   "id": "09485dd6-a5c1-4406-9575-be301480d685",
   "metadata": {},
   "outputs": [],
   "source": [
    "aapl [array([0.11344563, 0.00300135, 0.0460275 , 0.32719982, 0.05262101,\n",
    "       0.15073093, 0.13365692, 0.01021486, 0.06260673, 0.10049526,\n",
    "       0.14119277]), 74.86024047516632, 0]\n",
    "B&H_train : [37.314737311231]\n",
    "ats_train : [74.86024047516632]\n",
    "B&H_test : [20.727068690554734]\n",
    "ATS test: 0 7.382185850845315\n",
    "[array([9.36034461e-02, 5.79979771e-02, 4.93700458e-01, 3.73656089e-02,\n",
    "       6.18699956e-03, 8.60879761e-03, 4.30137090e-04, 6.50439325e-03,\n",
    "       8.95809159e-02, 2.06021267e-01, 1.95738293e-01]), 76.07139998421856, 1]\n",
    "B&H_train : [37.314737311231, 47.25351397348932]\n",
    "ats_train : [74.86024047516632, 76.07139998421856]\n",
    "B&H_test : [20.727068690554734, 52.550442252856534]\n",
    "ATS test: 1 13.7726287834549\n",
    "[array([0.08451361, 0.02315076, 0.04054459, 0.10996198, 0.0918642 ,\n",
    "       0.07582466, 0.00929327, 0.53884508, 0.0068166 , 0.01918526,\n",
    "       0.15783876]), 144.99826585281372, 2]\n",
    "B&H_train : [37.314737311231, 47.25351397348932, 110.91450426389454]\n",
    "ats_train : [74.86024047516632, 76.07139998421856, 144.99826585281372]\n",
    "B&H_test : [20.727068690554734, 52.550442252856534, -31.435810916914722]\n",
    "ATS test: 2 28.80950232375336\n",
    "[array([0.03024085, 0.00377284, 0.01964859, 0.14752845, 0.19188683,\n",
    "       0.27554433, 0.00294231, 0.16322036, 0.14006471, 0.02515074,\n",
    "       0.15824992]), 163.2337241676788, 3]\n",
    "B&H_train : [37.314737311231, 47.25351397348932, 110.91450426389454, 87.21042046741259]\n",
    "ats_train : [74.86024047516632, 76.07139998421856, 144.99826585281372, 163.2337241676788]\n",
    "B&H_test : [20.727068690554734, 52.550442252856534, -31.435810916914722, 99.07721291849401]\n",
    "ATS test: 3 50.18412416074373\n",
    "B&H_train : [37.314737311231, 47.25351397348932, 110.91450426389454, 87.21042046741259]\n",
    "ats_train : [74.86024047516632, 76.07139998421856, 144.99826585281372, 163.2337241676788]\n",
    "B&H_test : [20.727068690554734, 52.550442252856534, -31.435810916914722, 99.07721291849401]\n",
    "ats_test : [7.382185850845315, 13.7726287834549, 28.80950232375336, 50.18412416074373]"
   ]
  }
 ],
 "metadata": {
  "kernelspec": {
   "display_name": "Python 3 (ipykernel)",
   "language": "python",
   "name": "python3"
  },
  "language_info": {
   "codemirror_mode": {
    "name": "ipython",
    "version": 3
   },
   "file_extension": ".py",
   "mimetype": "text/x-python",
   "name": "python",
   "nbconvert_exporter": "python",
   "pygments_lexer": "ipython3",
   "version": "3.9.7"
  }
 },
 "nbformat": 4,
 "nbformat_minor": 5
}
